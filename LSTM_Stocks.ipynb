{
  "nbformat": 4,
  "nbformat_minor": 0,
  "metadata": {
    "kernelspec": {
      "display_name": "Python 3",
      "language": "python",
      "name": "python3"
    },
    "language_info": {
      "codemirror_mode": {
        "name": "ipython",
        "version": 3
      },
      "file_extension": ".py",
      "mimetype": "text/x-python",
      "name": "python",
      "nbconvert_exporter": "python",
      "pygments_lexer": "ipython3",
      "version": "3.7.6"
    },
    "colab": {
      "name": "LSTM_Stocks.ipynb",
      "provenance": []
    },
    "accelerator": "GPU"
  },
  "cells": [
    {
      "cell_type": "markdown",
      "metadata": {
        "id": "GxL4wct8iXw9",
        "colab_type": "text"
      },
      "source": [
        "# Importing the libraries"
      ]
    },
    {
      "cell_type": "code",
      "metadata": {
        "id": "MxryTV01iXxC",
        "colab_type": "code",
        "colab": {
          "base_uri": "https://localhost:8080/",
          "height": 34
        },
        "outputId": "670b4a91-8e1c-4f56-af79-670091d3e8c1"
      },
      "source": [
        "import time\n",
        "program_start = time.time()\n",
        "from datetime import date, timedelta\n",
        "import matplotlib.pyplot as plt\n",
        "import numpy as np\n",
        "import pandas as pd\n",
        "import pandas_datareader as pdr\n",
        "from sklearn.preprocessing import MinMaxScaler\n",
        "from tensorflow.keras.models import Sequential\n",
        "from tensorflow.keras.layers import Dense, LSTM\n",
        "import tensorflow as tf\n",
        "print(tf.__version__)\n",
        "import math\n",
        "from sklearn.metrics import mean_squared_error\n",
        "import os"
      ],
      "execution_count": 399,
      "outputs": [
        {
          "output_type": "stream",
          "text": [
            "2.2.0\n"
          ],
          "name": "stdout"
        }
      ]
    },
    {
      "cell_type": "markdown",
      "metadata": {
        "id": "3quw4Q_RiXxX",
        "colab_type": "text"
      },
      "source": [
        "# Importing the dataset"
      ]
    },
    {
      "cell_type": "code",
      "metadata": {
        "id": "60e2QQ1TiXxg",
        "colab_type": "code",
        "colab": {}
      },
      "source": [
        "#len(pd.bdate_range(start=fya, end=yesterday))"
      ],
      "execution_count": 400,
      "outputs": []
    },
    {
      "cell_type": "code",
      "metadata": {
        "id": "FsLuqpGBiXxu",
        "colab_type": "code",
        "colab": {
          "base_uri": "https://localhost:8080/",
          "height": 52
        },
        "outputId": "ff4f23ac-da6f-4ec8-9861-aa3e45feb274"
      },
      "source": [
        "yesterday = date.today() - timedelta(days = 1)\n",
        "print(yesterday)\n",
        "fya = yesterday - timedelta(days = 365 * 5)\n",
        "print(fya)"
      ],
      "execution_count": 401,
      "outputs": [
        {
          "output_type": "stream",
          "text": [
            "2020-07-20\n",
            "2015-07-22\n"
          ],
          "name": "stdout"
        }
      ]
    },
    {
      "cell_type": "code",
      "metadata": {
        "id": "o8zkuV8yiXx5",
        "colab_type": "code",
        "colab": {}
      },
      "source": [
        "ticker = 'AAPL'\n",
        "TIINGO_API_KEY = '0d89b22b2baae6031d933255d95b27b45630fa18'\n",
        "#api_key=os.environ.get('TIINGO_API_KEY')\n",
        "df = pdr.get_data_tiingo(ticker, api_key=TIINGO_API_KEY, \n",
        "                         start = fya, end = yesterday)"
      ],
      "execution_count": 402,
      "outputs": []
    },
    {
      "cell_type": "markdown",
      "metadata": {
        "id": "FBgwV3HJiXyD",
        "colab_type": "text"
      },
      "source": [
        "# Data preprocessing"
      ]
    },
    {
      "cell_type": "markdown",
      "metadata": {
        "id": "pGJjHuFZiXyF",
        "colab_type": "text"
      },
      "source": [
        "## Converting JSON to CSV"
      ]
    },
    {
      "cell_type": "code",
      "metadata": {
        "id": "QA4-RZ9miXyH",
        "colab_type": "code",
        "colab": {
          "base_uri": "https://localhost:8080/",
          "height": 345
        },
        "outputId": "946c2a46-575e-4568-cabd-41656e052edf"
      },
      "source": [
        "df.to_csv('{0}.csv'.format(ticker))\n",
        "df.head()"
      ],
      "execution_count": 403,
      "outputs": [
        {
          "output_type": "execute_result",
          "data": {
            "text/html": [
              "<div>\n",
              "<style scoped>\n",
              "    .dataframe tbody tr th:only-of-type {\n",
              "        vertical-align: middle;\n",
              "    }\n",
              "\n",
              "    .dataframe tbody tr th {\n",
              "        vertical-align: top;\n",
              "    }\n",
              "\n",
              "    .dataframe thead th {\n",
              "        text-align: right;\n",
              "    }\n",
              "</style>\n",
              "<table border=\"1\" class=\"dataframe\">\n",
              "  <thead>\n",
              "    <tr style=\"text-align: right;\">\n",
              "      <th></th>\n",
              "      <th></th>\n",
              "      <th>close</th>\n",
              "      <th>high</th>\n",
              "      <th>low</th>\n",
              "      <th>open</th>\n",
              "      <th>volume</th>\n",
              "      <th>adjClose</th>\n",
              "      <th>adjHigh</th>\n",
              "      <th>adjLow</th>\n",
              "      <th>adjOpen</th>\n",
              "      <th>adjVolume</th>\n",
              "      <th>divCash</th>\n",
              "      <th>splitFactor</th>\n",
              "    </tr>\n",
              "    <tr>\n",
              "      <th>symbol</th>\n",
              "      <th>date</th>\n",
              "      <th></th>\n",
              "      <th></th>\n",
              "      <th></th>\n",
              "      <th></th>\n",
              "      <th></th>\n",
              "      <th></th>\n",
              "      <th></th>\n",
              "      <th></th>\n",
              "      <th></th>\n",
              "      <th></th>\n",
              "      <th></th>\n",
              "      <th></th>\n",
              "    </tr>\n",
              "  </thead>\n",
              "  <tbody>\n",
              "    <tr>\n",
              "      <th rowspan=\"5\" valign=\"top\">AAPL</th>\n",
              "      <th>2015-07-22 00:00:00+00:00</th>\n",
              "      <td>125.22</td>\n",
              "      <td>125.50</td>\n",
              "      <td>121.99</td>\n",
              "      <td>121.99</td>\n",
              "      <td>115450607</td>\n",
              "      <td>115.393160</td>\n",
              "      <td>115.651187</td>\n",
              "      <td>112.416640</td>\n",
              "      <td>112.416640</td>\n",
              "      <td>115450607</td>\n",
              "      <td>0.0</td>\n",
              "      <td>1.0</td>\n",
              "    </tr>\n",
              "    <tr>\n",
              "      <th>2015-07-23 00:00:00+00:00</th>\n",
              "      <td>125.16</td>\n",
              "      <td>127.09</td>\n",
              "      <td>125.06</td>\n",
              "      <td>126.20</td>\n",
              "      <td>50999452</td>\n",
              "      <td>115.337869</td>\n",
              "      <td>117.116409</td>\n",
              "      <td>115.245717</td>\n",
              "      <td>116.296253</td>\n",
              "      <td>50999452</td>\n",
              "      <td>0.0</td>\n",
              "      <td>1.0</td>\n",
              "    </tr>\n",
              "    <tr>\n",
              "      <th>2015-07-24 00:00:00+00:00</th>\n",
              "      <td>124.50</td>\n",
              "      <td>125.74</td>\n",
              "      <td>123.90</td>\n",
              "      <td>125.32</td>\n",
              "      <td>42162332</td>\n",
              "      <td>114.729663</td>\n",
              "      <td>115.872352</td>\n",
              "      <td>114.176749</td>\n",
              "      <td>115.485313</td>\n",
              "      <td>42162332</td>\n",
              "      <td>0.0</td>\n",
              "      <td>1.0</td>\n",
              "    </tr>\n",
              "    <tr>\n",
              "      <th>2015-07-27 00:00:00+00:00</th>\n",
              "      <td>122.77</td>\n",
              "      <td>123.61</td>\n",
              "      <td>122.12</td>\n",
              "      <td>123.09</td>\n",
              "      <td>44455540</td>\n",
              "      <td>113.135428</td>\n",
              "      <td>113.909508</td>\n",
              "      <td>112.536438</td>\n",
              "      <td>113.430315</td>\n",
              "      <td>44455540</td>\n",
              "      <td>0.0</td>\n",
              "      <td>1.0</td>\n",
              "    </tr>\n",
              "    <tr>\n",
              "      <th>2015-07-28 00:00:00+00:00</th>\n",
              "      <td>123.38</td>\n",
              "      <td>123.91</td>\n",
              "      <td>122.55</td>\n",
              "      <td>123.38</td>\n",
              "      <td>33618097</td>\n",
              "      <td>113.697557</td>\n",
              "      <td>114.185965</td>\n",
              "      <td>112.932693</td>\n",
              "      <td>113.697557</td>\n",
              "      <td>33618097</td>\n",
              "      <td>0.0</td>\n",
              "      <td>1.0</td>\n",
              "    </tr>\n",
              "  </tbody>\n",
              "</table>\n",
              "</div>"
            ],
            "text/plain": [
              "                                   close    high  ...  divCash  splitFactor\n",
              "symbol date                                       ...                      \n",
              "AAPL   2015-07-22 00:00:00+00:00  125.22  125.50  ...      0.0          1.0\n",
              "       2015-07-23 00:00:00+00:00  125.16  127.09  ...      0.0          1.0\n",
              "       2015-07-24 00:00:00+00:00  124.50  125.74  ...      0.0          1.0\n",
              "       2015-07-27 00:00:00+00:00  122.77  123.61  ...      0.0          1.0\n",
              "       2015-07-28 00:00:00+00:00  123.38  123.91  ...      0.0          1.0\n",
              "\n",
              "[5 rows x 12 columns]"
            ]
          },
          "metadata": {
            "tags": []
          },
          "execution_count": 403
        }
      ]
    },
    {
      "cell_type": "markdown",
      "metadata": {
        "id": "iIUIiNeaiXyS",
        "colab_type": "text"
      },
      "source": [
        "## Forming dataframe of close prices"
      ]
    },
    {
      "cell_type": "code",
      "metadata": {
        "id": "XkmKErkYiXyV",
        "colab_type": "code",
        "colab": {}
      },
      "source": [
        "df1 = df.reset_index()['close']"
      ],
      "execution_count": 544,
      "outputs": []
    },
    {
      "cell_type": "code",
      "metadata": {
        "id": "WRXECpWqiXye",
        "colab_type": "code",
        "colab": {
          "base_uri": "https://localhost:8080/",
          "height": 34
        },
        "outputId": "1e86cccb-8287-487f-a254-37073b34d684"
      },
      "source": [
        "df1.shape"
      ],
      "execution_count": 405,
      "outputs": [
        {
          "output_type": "execute_result",
          "data": {
            "text/plain": [
              "(1258,)"
            ]
          },
          "metadata": {
            "tags": []
          },
          "execution_count": 405
        }
      ]
    },
    {
      "cell_type": "code",
      "metadata": {
        "id": "efzNb0NkiXyo",
        "colab_type": "code",
        "colab": {
          "base_uri": "https://localhost:8080/",
          "height": 282
        },
        "outputId": "e02ebe9d-e9c6-403f-84ae-3f4117ae0a6d"
      },
      "source": [
        "plt.plot(df1)"
      ],
      "execution_count": 406,
      "outputs": [
        {
          "output_type": "execute_result",
          "data": {
            "text/plain": [
              "[<matplotlib.lines.Line2D at 0x7f73f4bdb128>]"
            ]
          },
          "metadata": {
            "tags": []
          },
          "execution_count": 406
        },
        {
          "output_type": "display_data",
          "data": {
            "image/png": "[encoded data removed]",
            "text/plain": [
              "<Figure size 432x288 with 1 Axes>"
            ]
          },
          "metadata": {
            "tags": [],
            "needs_background": "light"
          }
        }
      ]
    },
    {
      "cell_type": "markdown",
      "metadata": {
        "id": "lQFWMcUMiXyy",
        "colab_type": "text"
      },
      "source": [
        "## Feature scaling using MinMax Scaler (Values between 0 to 1)"
      ]
    },
    {
      "cell_type": "code",
      "metadata": {
        "id": "wdB3QWdHiXyz",
        "colab_type": "code",
        "colab": {}
      },
      "source": [
        "scaler = MinMaxScaler(feature_range=(0,1))\n",
        "df1 = scaler.fit_transform(np.array(df1).reshape(-1,1))"
      ],
      "execution_count": 545,
      "outputs": []
    },
    {
      "cell_type": "code",
      "metadata": {
        "id": "Jhb7lGuviXy7",
        "colab_type": "code",
        "colab": {
          "base_uri": "https://localhost:8080/",
          "height": 34
        },
        "outputId": "370e8f5f-8939-4daa-b069-a0192e6cc816"
      },
      "source": [
        "df1.shape"
      ],
      "execution_count": 408,
      "outputs": [
        {
          "output_type": "execute_result",
          "data": {
            "text/plain": [
              "(1258, 1)"
            ]
          },
          "metadata": {
            "tags": []
          },
          "execution_count": 408
        }
      ]
    },
    {
      "cell_type": "markdown",
      "metadata": {
        "id": "m803rIN-iXzE",
        "colab_type": "text"
      },
      "source": [
        "## Splitting dataset into training set and test set sequentialy"
      ]
    },
    {
      "cell_type": "code",
      "metadata": {
        "id": "2lt2tWCpiXzF",
        "colab_type": "code",
        "colab": {
          "base_uri": "https://localhost:8080/",
          "height": 52
        },
        "outputId": "f4889f1f-2025-4d6a-db1a-68cb477073d3"
      },
      "source": [
        "training_size = int(len(df1)*0.65)\n",
        "test_size = len(df1) - training_size\n",
        "train_data, test_data = (df1[0:training_size, :], \n",
        "                         df1[training_size:len(df1), :1])\n",
        "print(train_data.shape)\n",
        "print(test_data.shape)"
      ],
      "execution_count": 409,
      "outputs": [
        {
          "output_type": "stream",
          "text": [
            "(817, 1)\n",
            "(441, 1)\n"
          ],
          "name": "stdout"
        }
      ]
    },
    {
      "cell_type": "code",
      "metadata": {
        "id": "3IjbwlVqiXzP",
        "colab_type": "code",
        "colab": {
          "base_uri": "https://localhost:8080/",
          "height": 1000
        },
        "outputId": "034b198e-e46b-4ffa-e25a-bdd5953a25dd"
      },
      "source": [
        "train_data"
      ],
      "execution_count": 410,
      "outputs": [
        {
          "output_type": "execute_result",
          "data": {
            "text/plain": [
              "array([[0.11508133],\n",
              "       [0.11488337],\n",
              "       [0.1127058 ],\n",
              "       [0.10699792],\n",
              "       [0.10901052],\n",
              "       [0.10772378],\n",
              "       [0.10567818],\n",
              "       [0.10214788],\n",
              "       [0.09271174],\n",
              "       [0.08017421],\n",
              "       [0.08268171],\n",
              "       [0.08179089],\n",
              "       [0.08307763],\n",
              "       [0.0969349 ],\n",
              "       [0.07637995],\n",
              "       [0.08215382],\n",
              "       [0.08185687],\n",
              "       [0.08452935],\n",
              "       [0.08848857],\n",
              "       [0.086311  ],\n",
              "       [0.08139497],\n",
              "       [0.0736085 ],\n",
              "       [0.05087598],\n",
              "       [0.04216569],\n",
              "       [0.04421129],\n",
              "       [0.06384242],\n",
              "       [0.07449932],\n",
              "       [0.07572008],\n",
              "       [0.07397143],\n",
              "       [0.0573427 ],\n",
              "       [0.0725857 ],\n",
              "       [0.06608598],\n",
              "       [0.0624567 ],\n",
              "       [0.07248672],\n",
              "       [0.06536012],\n",
              "       [0.07334455],\n",
              "       [0.07875549],\n",
              "       [0.08238477],\n",
              "       [0.08558514],\n",
              "       [0.08601406],\n",
              "       [0.07779867],\n",
              "       [0.07624798],\n",
              "       [0.08205484],\n",
              "       [0.07608301],\n",
              "       [0.07911841],\n",
              "       [0.08136197],\n",
              "       [0.08040516],\n",
              "       [0.07291564],\n",
              "       [0.06176383],\n",
              "       [0.06585503],\n",
              "       [0.06347949],\n",
              "       [0.06611897],\n",
              "       [0.06743871],\n",
              "       [0.06918737],\n",
              "       [0.06743871],\n",
              "       [0.06321555],\n",
              "       [0.07185984],\n",
              "       [0.07014418],\n",
              "       [0.07077106],\n",
              "       [0.06555809],\n",
              "       [0.07100201],\n",
              "       [0.06829655],\n",
              "       [0.0705731 ],\n",
              "       [0.07730377],\n",
              "       [0.07727078],\n",
              "       [0.08301165],\n",
              "       [0.09482332],\n",
              "       [0.08228579],\n",
              "       [0.07987726],\n",
              "       [0.0954502 ],\n",
              "       [0.09960738],\n",
              "       [0.09620905],\n",
              "       [0.10175195],\n",
              "       [0.10633805],\n",
              "       [0.10445742],\n",
              "       [0.10089412],\n",
              "       [0.10135603],\n",
              "       [0.09973935],\n",
              "       [0.08720182],\n",
              "       [0.08502425],\n",
              "       [0.0837375 ],\n",
              "       [0.0725857 ],\n",
              "       [0.07864001],\n",
              "       [0.07703982],\n",
              "       [0.08891748],\n",
              "       [0.09383351],\n",
              "       [0.09554918],\n",
              "       [0.09043518],\n",
              "       [0.09416345],\n",
              "       [0.091359  ],\n",
              "       [0.09063315],\n",
              "       [0.09224983],\n",
              "       [0.08908245],\n",
              "       [0.08558514],\n",
              "       [0.08202184],\n",
              "       [0.09465835],\n",
              "       [0.09218384],\n",
              "       [0.09201887],\n",
              "       [0.08340757],\n",
              "       [0.08522221],\n",
              "       [0.07535715],\n",
              "       [0.07304761],\n",
              "       [0.0664819 ],\n",
              "       [0.06928635],\n",
              "       [0.06149988],\n",
              "       [0.0517668 ],\n",
              "       [0.05605596],\n",
              "       [0.05572602],\n",
              "       [0.06027913],\n",
              "       [0.0583655 ],\n",
              "       [0.05437329],\n",
              "       [0.06070804],\n",
              "       [0.05602296],\n",
              "       [0.0492263 ],\n",
              "       [0.04952324],\n",
              "       [0.04081296],\n",
              "       [0.03418127],\n",
              "       [0.02015903],\n",
              "       [0.0218417 ],\n",
              "       [0.02702168],\n",
              "       [0.03173975],\n",
              "       [0.02326042],\n",
              "       [0.03028803],\n",
              "       [0.02240259],\n",
              "       [0.02085189],\n",
              "       [0.02128081],\n",
              "       [0.01966413],\n",
              "       [0.0365568 ],\n",
              "       [0.03002409],\n",
              "       [0.03183873],\n",
              "       [0.010162  ],\n",
              "       [0.01237256],\n",
              "       [0.02309545],\n",
              "       [0.02009304],\n",
              "       [0.01365931],\n",
              "       [0.01982909],\n",
              "       [0.02065393],\n",
              "       [0.01214161],\n",
              "       [0.01540796],\n",
              "       [0.01534198],\n",
              "       [0.01296645],\n",
              "       [0.01108582],\n",
              "       [0.01204263],\n",
              "       [0.02078591],\n",
              "       [0.02566894],\n",
              "       [0.01953215],\n",
              "       [0.0188063 ],\n",
              "       [0.02157775],\n",
              "       [0.01435217],\n",
              "       [0.01900426],\n",
              "       [0.02118183],\n",
              "       [0.02167673],\n",
              "       [0.02095087],\n",
              "       [0.03362038],\n",
              "       [0.03434623],\n",
              "       [0.03682075],\n",
              "       [0.04180276],\n",
              "       [0.03804151],\n",
              "       [0.03527005],\n",
              "       [0.03556699],\n",
              "       [0.03573196],\n",
              "       [0.03932825],\n",
              "       [0.04018608],\n",
              "       [0.04698274],\n",
              "       [0.05156884],\n",
              "       [0.05100795],\n",
              "       [0.05140387],\n",
              "       [0.05137088],\n",
              "       [0.05404335],\n",
              "       [0.05209674],\n",
              "       [0.05057904],\n",
              "       [0.04899535],\n",
              "       [0.05721073],\n",
              "       [0.06341351],\n",
              "       [0.06153288],\n",
              "       [0.06483223],\n",
              "       [0.06856049],\n",
              "       [0.06423835],\n",
              "       [0.0680326 ],\n",
              "       [0.06004817],\n",
              "       [0.06044409],\n",
              "       [0.06163186],\n",
              "       [0.06631694],\n",
              "       [0.0715959 ],\n",
              "       [0.07179386],\n",
              "       [0.06437032],\n",
              "       [0.05655086],\n",
              "       [0.05467023],\n",
              "       [0.05539609],\n",
              "       [0.05156884],\n",
              "       [0.05061203],\n",
              "       [0.04863242],\n",
              "       [0.04622389],\n",
              "       [0.02467914],\n",
              "       [0.01481408],\n",
              "       [0.01121779],\n",
              "       [0.01088786],\n",
              "       [0.01596885],\n",
              "       [0.0127025 ],\n",
              "       [0.00956812],\n",
              "       [0.00785245],\n",
              "       [0.00808341],\n",
              "       [0.010162  ],\n",
              "       [0.00715959],\n",
              "       [0.        ],\n",
              "       [0.00059388],\n",
              "       [0.0116797 ],\n",
              "       [0.01039295],\n",
              "       [0.01392326],\n",
              "       [0.01273549],\n",
              "       [0.01610083],\n",
              "       [0.02009304],\n",
              "       [0.02494309],\n",
              "       [0.03061797],\n",
              "       [0.03322445],\n",
              "       [0.03302649],\n",
              "       [0.03140981],\n",
              "       [0.02679072],\n",
              "       [0.0243492 ],\n",
              "       [0.02500907],\n",
              "       [0.02735161],\n",
              "       [0.02867135],\n",
              "       [0.02837441],\n",
              "       [0.03071695],\n",
              "       [0.02801148],\n",
              "       [0.02309545],\n",
              "       [0.02349137],\n",
              "       [0.02243558],\n",
              "       [0.02378831],\n",
              "       [0.01646376],\n",
              "       [0.01570491],\n",
              "       [0.01837738],\n",
              "       [0.01718961],\n",
              "       [0.01900426],\n",
              "       [0.01009601],\n",
              "       [0.0056089 ],\n",
              "       [0.01072289],\n",
              "       [0.01339536],\n",
              "       [0.01735458],\n",
              "       [0.01831139],\n",
              "       [0.01534198],\n",
              "       [0.01712363],\n",
              "       [0.01847636],\n",
              "       [0.02091788],\n",
              "       [0.02190768],\n",
              "       [0.0233594 ],\n",
              "       [0.02154476],\n",
              "       [0.02787951],\n",
              "       [0.02784651],\n",
              "       [0.03131083],\n",
              "       [0.03144281],\n",
              "       [0.03173975],\n",
              "       [0.02999109],\n",
              "       [0.02745059],\n",
              "       [0.02309545],\n",
              "       [0.02088489],\n",
              "       [0.0416048 ],\n",
              "       [0.0461909 ],\n",
              "       [0.04576198],\n",
              "       [0.05183279],\n",
              "       [0.04665281],\n",
              "       [0.05097496],\n",
              "       [0.05123891],\n",
              "       [0.05655086],\n",
              "       [0.05948728],\n",
              "       [0.060939  ],\n",
              "       [0.05826652],\n",
              "       [0.05803557],\n",
              "       [0.0588604 ],\n",
              "       [0.06314956],\n",
              "       [0.06281962],\n",
              "       [0.06229173],\n",
              "       [0.06182982],\n",
              "       [0.06275364],\n",
              "       [0.05994919],\n",
              "       [0.06107097],\n",
              "       [0.0583655 ],\n",
              "       [0.0568478 ],\n",
              "       [0.05476921],\n",
              "       [0.05437329],\n",
              "       [0.05166782],\n",
              "       [0.05199776],\n",
              "       [0.05407635],\n",
              "       [0.0573757 ],\n",
              "       [0.05727672],\n",
              "       [0.05945429],\n",
              "       [0.05008413],\n",
              "       [0.04219869],\n",
              "       [0.04982019],\n",
              "       [0.05810155],\n",
              "       [0.07070507],\n",
              "       [0.0832426 ],\n",
              "       [0.08109802],\n",
              "       [0.07667689],\n",
              "       [0.0766439 ],\n",
              "       [0.07657791],\n",
              "       [0.08010822],\n",
              "       [0.07380646],\n",
              "       [0.07436735],\n",
              "       [0.07506021],\n",
              "       [0.07789765],\n",
              "       [0.0720578 ],\n",
              "       [0.07492824],\n",
              "       [0.07317958],\n",
              "       [0.07476327],\n",
              "       [0.07492824],\n",
              "       [0.07769969],\n",
              "       [0.07826058],\n",
              "       [0.08482629],\n",
              "       [0.08565113],\n",
              "       [0.08908245],\n",
              "       [0.08789468],\n",
              "       [0.09003926],\n",
              "       [0.08977531],\n",
              "       [0.08951137],\n",
              "       [0.08835659],\n",
              "       [0.08815863],\n",
              "       [0.08664093],\n",
              "       [0.09010525],\n",
              "       [0.09208486],\n",
              "       [0.08330859],\n",
              "       [0.07964631],\n",
              "       [0.0771388 ],\n",
              "       [0.07654492],\n",
              "       [0.06978125],\n",
              "       [0.07011119],\n",
              "       [0.06430433],\n",
              "       [0.06103798],\n",
              "       [0.06621796],\n",
              "       [0.06836253],\n",
              "       [0.06776865],\n",
              "       [0.05757366],\n",
              "       [0.05968524],\n",
              "       [0.05071101],\n",
              "       [0.0553301 ],\n",
              "       [0.06483223],\n",
              "       [0.06470025],\n",
              "       [0.06506318],\n",
              "       [0.0705731 ],\n",
              "       [0.07080405],\n",
              "       [0.06892342],\n",
              "       [0.07077106],\n",
              "       [0.0700452 ],\n",
              "       [0.06968227],\n",
              "       [0.06658088],\n",
              "       [0.06318255],\n",
              "       [0.06453529],\n",
              "       [0.0619288 ],\n",
              "       [0.06470025],\n",
              "       [0.06826355],\n",
              "       [0.07185984],\n",
              "       [0.07789765],\n",
              "       [0.07575308],\n",
              "       [0.08198885],\n",
              "       [0.08198885],\n",
              "       [0.08406744],\n",
              "       [0.08456234],\n",
              "       [0.08677291],\n",
              "       [0.0877957 ],\n",
              "       [0.08815863],\n",
              "       [0.08561813],\n",
              "       [0.08637698],\n",
              "       [0.0888185 ],\n",
              "       [0.08716883],\n",
              "       [0.08706985],\n",
              "       [0.08406744],\n",
              "       [0.08515622],\n",
              "       [0.08472731],\n",
              "       [0.08667393],\n",
              "       [0.09096308],\n",
              "       [0.09452638],\n",
              "       [0.0949223 ],\n",
              "       [0.09703388],\n",
              "       [0.09538421],\n",
              "       [0.09469135],\n",
              "       [0.09785872],\n",
              "       [0.09782573],\n",
              "       [0.09713286],\n",
              "       [0.09785872],\n",
              "       [0.09812267],\n",
              "       [0.09775974],\n",
              "       [0.1040615 ],\n",
              "       [0.10425946],\n",
              "       [0.10429245],\n",
              "       [0.10323666],\n",
              "       [0.10231284],\n",
              "       [0.12672803],\n",
              "       [0.12600218],\n",
              "       [0.12781682],\n",
              "       [0.13180903],\n",
              "       [0.13590023],\n",
              "       [0.1375829 ],\n",
              "       [0.13883665],\n",
              "       [0.13784684],\n",
              "       [0.14170708],\n",
              "       [0.14741496],\n",
              "       [0.14903164],\n",
              "       [0.14848725],\n",
              "       [0.1497245 ],\n",
              "       [0.15295787],\n",
              "       [0.1543106 ],\n",
              "       [0.15239698],\n",
              "       [0.15282589],\n",
              "       [0.15371672],\n",
              "       [0.15391468],\n",
              "       [0.16315286],\n",
              "       [0.1604144 ],\n",
              "       [0.16311987],\n",
              "       [0.16166815],\n",
              "       [0.16226203],\n",
              "       [0.16054637],\n",
              "       [0.15949058],\n",
              "       [0.16100828],\n",
              "       [0.16120624],\n",
              "       [0.16051338],\n",
              "       [0.16536342],\n",
              "       [0.16612227],\n",
              "       [0.16381273],\n",
              "       [0.16866277],\n",
              "       [0.16331783],\n",
              "       [0.1685308 ],\n",
              "       [0.16688112],\n",
              "       [0.16595731],\n",
              "       [0.16674915],\n",
              "       [0.17638325],\n",
              "       [0.17743904],\n",
              "       [0.17681217],\n",
              "       [0.17592134],\n",
              "       [0.17605332],\n",
              "       [0.17958362],\n",
              "       [0.17710911],\n",
              "       [0.17592134],\n",
              "       [0.17486555],\n",
              "       [0.17430466],\n",
              "       [0.16922366],\n",
              "       [0.16978455],\n",
              "       [0.16731004],\n",
              "       [0.16988353],\n",
              "       [0.16780494],\n",
              "       [0.16608928],\n",
              "       [0.17189614],\n",
              "       [0.17133525],\n",
              "       [0.17585536],\n",
              "       [0.17879178],\n",
              "       [0.17598733],\n",
              "       [0.17635026],\n",
              "       [0.17588835],\n",
              "       [0.18555545],\n",
              "       [0.18862384],\n",
              "       [0.18713913],\n",
              "       [0.18539048],\n",
              "       [0.1934079 ],\n",
              "       [0.20677027],\n",
              "       [0.21000363],\n",
              "       [0.2075951 ],\n",
              "       [0.20987166],\n",
              "       [0.21696526],\n",
              "       [0.21564552],\n",
              "       [0.21488667],\n",
              "       [0.19766406],\n",
              "       [0.20521957],\n",
              "       [0.20693523],\n",
              "       [0.21000363],\n",
              "       [0.20937675],\n",
              "       [0.20785905],\n",
              "       [0.20960771],\n",
              "       [0.20874988],\n",
              "       [0.20894784],\n",
              "       [0.20594543],\n",
              "       [0.20733116],\n",
              "       [0.21482068],\n",
              "       [0.20980567],\n",
              "       [0.21152133],\n",
              "       [0.21455673],\n",
              "       [0.21330298],\n",
              "       [0.19347389],\n",
              "       [0.1817282 ],\n",
              "       [0.18558844],\n",
              "       [0.18087037],\n",
              "       [0.17799993],\n",
              "       [0.17133525],\n",
              "       [0.1847636 ],\n",
              "       [0.18037547],\n",
              "       [0.18321291],\n",
              "       [0.18242106],\n",
              "       [0.18456564],\n",
              "       [0.18304794],\n",
              "       [0.1761523 ],\n",
              "       [0.18308093],\n",
              "       [0.17598733],\n",
              "       [0.17710911],\n",
              "       [0.17539345],\n",
              "       [0.17734006],\n",
              "       [0.17285295],\n",
              "       [0.17763701],\n",
              "       [0.18054043],\n",
              "       [0.18209113],\n",
              "       [0.18278399],\n",
              "       [0.18948167],\n",
              "       [0.19367185],\n",
              "       [0.19538751],\n",
              "       [0.19710317],\n",
              "       [0.20020456],\n",
              "       [0.197961  ],\n",
              "       [0.19773005],\n",
              "       [0.20373486],\n",
              "       [0.20587944],\n",
              "       [0.20825497],\n",
              "       [0.19868686],\n",
              "       [0.19518955],\n",
              "       [0.19264905],\n",
              "       [0.19700419],\n",
              "       [0.22039658],\n",
              "       [0.2152166 ],\n",
              "       [0.21792207],\n",
              "       [0.2259065 ],\n",
              "       [0.23009667],\n",
              "       [0.23333003],\n",
              "       [0.21439176],\n",
              "       [0.22151836],\n",
              "       [0.22933782],\n",
              "       [0.23511168],\n",
              "       [0.23296711],\n",
              "       [0.22277211],\n",
              "       [0.22158435],\n",
              "       [0.22062754],\n",
              "       [0.22910687],\n",
              "       [0.22976674],\n",
              "       [0.2274242 ],\n",
              "       [0.22937081],\n",
              "       [0.23468277],\n",
              "       [0.23943383],\n",
              "       [0.24088555],\n",
              "       [0.24303012],\n",
              "       [0.24319509],\n",
              "       [0.23669537],\n",
              "       [0.23613448],\n",
              "       [0.2339899 ],\n",
              "       [0.22531261],\n",
              "       [0.23478175],\n",
              "       [0.23267016],\n",
              "       [0.22867795],\n",
              "       [0.22415784],\n",
              "       [0.2294368 ],\n",
              "       [0.22544459],\n",
              "       [0.22564255],\n",
              "       [0.21686628],\n",
              "       [0.20802402],\n",
              "       [0.20307499],\n",
              "       [0.19865387],\n",
              "       [0.20719918],\n",
              "       [0.21079547],\n",
              "       [0.20766109],\n",
              "       [0.21043254],\n",
              "       [0.20940975],\n",
              "       [0.21162031],\n",
              "       [0.20832096],\n",
              "       [0.21462272],\n",
              "       [0.21432578],\n",
              "       [0.21610743],\n",
              "       [0.21630539],\n",
              "       [0.21844997],\n",
              "       [0.21663532],\n",
              "       [0.21990168],\n",
              "       [0.2294368 ],\n",
              "       [0.23138342],\n",
              "       [0.22904088],\n",
              "       [0.21656934],\n",
              "       [0.21746016],\n",
              "       [0.21719621],\n",
              "       [0.22026461],\n",
              "       [0.21798806],\n",
              "       [0.22128741],\n",
              "       [0.23989574],\n",
              "       [0.25200436],\n",
              "       [0.25965885],\n",
              "       [0.25256524],\n",
              "       [0.25659045],\n",
              "       [0.2710746 ],\n",
              "       [0.27684846],\n",
              "       [0.2786961 ],\n",
              "       [0.28341417],\n",
              "       [0.2822264 ],\n",
              "       [0.27823419],\n",
              "       [0.27592464],\n",
              "       [0.26724735],\n",
              "       [0.25979082],\n",
              "       [0.26645551],\n",
              "       [0.26332113],\n",
              "       [0.26276024],\n",
              "       [0.27318618],\n",
              "       [0.279191  ],\n",
              "       [0.27922399],\n",
              "       [0.27632056],\n",
              "       [0.27295523],\n",
              "       [0.26111056],\n",
              "       [0.26893002],\n",
              "       [0.26629054],\n",
              "       [0.26216635],\n",
              "       [0.26163846],\n",
              "       [0.25955987],\n",
              "       [0.26058267],\n",
              "       [0.26074763],\n",
              "       [0.27163549],\n",
              "       [0.26843512],\n",
              "       [0.27031575],\n",
              "       [0.27015078],\n",
              "       [0.27592464],\n",
              "       [0.28400805],\n",
              "       [0.27780527],\n",
              "       [0.2771784 ],\n",
              "       [0.27935597],\n",
              "       [0.27935597],\n",
              "       [0.26470685],\n",
              "       [0.26480583],\n",
              "       [0.26638952],\n",
              "       [0.26028572],\n",
              "       [0.27028275],\n",
              "       [0.27018377],\n",
              "       [0.27282325],\n",
              "       [0.27932297],\n",
              "       [0.2771784 ],\n",
              "       [0.27711241],\n",
              "       [0.27698043],\n",
              "       [0.28024679],\n",
              "       [0.28621861],\n",
              "       [0.2832492 ],\n",
              "       [0.29285031],\n",
              "       [0.2933782 ],\n",
              "       [0.29073872],\n",
              "       [0.28592167],\n",
              "       [0.28605365],\n",
              "       [0.27674948],\n",
              "       [0.2664885 ],\n",
              "       [0.26780824],\n",
              "       [0.25609555],\n",
              "       [0.25282919],\n",
              "       [0.25434689],\n",
              "       [0.25550167],\n",
              "       [0.2314824 ],\n",
              "       [0.218252  ],\n",
              "       [0.23982975],\n",
              "       [0.22831502],\n",
              "       [0.21383088],\n",
              "       [0.21798806],\n",
              "       [0.23877396],\n",
              "       [0.2441519 ],\n",
              "       [0.25414893],\n",
              "       [0.27269128],\n",
              "       [0.27084364],\n",
              "       [0.26893002],\n",
              "       [0.26635653],\n",
              "       [0.2710746 ],\n",
              "       [0.28097265],\n",
              "       [0.29242139],\n",
              "       [0.29050777],\n",
              "       [0.28961695],\n",
              "       [0.27932297],\n",
              "       [0.28331519],\n",
              "       [0.28532779],\n",
              "       [0.28483289],\n",
              "       [0.27942195],\n",
              "       [0.28572371],\n",
              "       [0.29575374],\n",
              "       [0.30149461],\n",
              "       [0.29572074],\n",
              "       [0.29067274],\n",
              "       [0.2913656 ],\n",
              "       [0.28928701],\n",
              "       [0.28031278],\n",
              "       [0.28011482],\n",
              "       [0.2670164 ],\n",
              "       [0.25903197],\n",
              "       [0.24613151],\n",
              "       [0.27196542],\n",
              "       [0.2573493 ],\n",
              "       [0.25121251],\n",
              "       [0.25550167],\n",
              "       [0.25187238],\n",
              "       [0.25751427],\n",
              "       [0.26813818],\n",
              "       [0.2720644 ],\n",
              "       [0.25748128],\n",
              "       [0.26299119],\n",
              "       [0.27354911],\n",
              "       [0.27087664],\n",
              "       [0.27648553],\n",
              "       [0.27843215],\n",
              "       [0.28202844],\n",
              "       [0.29001287],\n",
              "       [0.28869313],\n",
              "       [0.2720644 ],\n",
              "       [0.24870501],\n",
              "       [0.24712132],\n",
              "       [0.23953281],\n",
              "       [0.24187535],\n",
              "       [0.24375598],\n",
              "       [0.23748722],\n",
              "       [0.2471873 ],\n",
              "       [0.25985681],\n",
              "       [0.28450295],\n",
              "       [0.28555874],\n",
              "       [0.30845623],\n",
              "       [0.31284437],\n",
              "       [0.31578079],\n",
              "       [0.32010294],\n",
              "       [0.3289452 ],\n",
              "       [0.32416114],\n",
              "       [0.32270943],\n",
              "       [0.31706754],\n",
              "       [0.32280841],\n",
              "       [0.31888218],\n",
              "       [0.31663862],\n",
              "       [0.32099376],\n",
              "       [0.31944307],\n",
              "       [0.32340229],\n",
              "       [0.32270943],\n",
              "       [0.32412815],\n",
              "       [0.32188459],\n",
              "       [0.32056485],\n",
              "       [0.31848626],\n",
              "       [0.32960507],\n",
              "       [0.33485103],\n",
              "       [0.33973407],\n",
              "       [0.34194464],\n",
              "       [0.34022897],\n",
              "       [0.33442212],\n",
              "       [0.33287142],\n",
              "       [0.33633574],\n",
              "       [0.33112277],\n",
              "       [0.3314527 ],\n",
              "       [0.32498598],\n",
              "       [0.32465604],\n",
              "       [0.31459303],\n",
              "       [0.3172655 ],\n",
              "       [0.31383417],\n",
              "       [0.31205253],\n",
              "       [0.30297931],\n",
              "       [0.31043584],\n",
              "       [0.30954502],\n",
              "       [0.31396615],\n",
              "       [0.3126794 ],\n",
              "       [0.31950906],\n",
              "       [0.30875318],\n",
              "       [0.31363621],\n",
              "       [0.32211554],\n",
              "       [0.33072685],\n",
              "       [0.329968  ],\n",
              "       [0.3218186 ],\n",
              "       [0.33221155],\n",
              "       [0.33320136],\n",
              "       [0.33181563],\n",
              "       [0.33359728],\n",
              "       [0.33013296],\n",
              "       [0.335016  ],\n",
              "       [0.33356429],\n",
              "       [0.33412518],\n",
              "       [0.33871127],\n",
              "       [0.34471609],\n",
              "       [0.34270349],\n",
              "       [0.33204659],\n",
              "       [0.32851628],\n",
              "       [0.32977004],\n",
              "       [0.36675575],\n",
              "       [0.38618892],\n",
              "       [0.38816853],\n",
              "       [0.39173183],\n",
              "       [0.3852651 ],\n",
              "       [0.38572701],\n",
              "       [0.39110495],\n",
              "       [0.38665083],\n",
              "       [0.39107196],\n",
              "       [0.39397539],\n",
              "       [0.39559207],\n",
              "       [0.40575407],\n",
              "       [0.4198093 ],\n",
              "       [0.41281468],\n",
              "       [0.41142895],\n",
              "       [0.41146194],\n",
              "       [0.41291366],\n",
              "       [0.41512422],\n",
              "       [0.42099706],\n",
              "       [0.42680392],\n",
              "       [0.43762579],\n",
              "       [0.44438946],\n",
              "       [0.45296777],\n",
              "       [0.45537629],\n",
              "       [0.45046026],\n",
              "       [0.43802171],\n",
              "       [0.43208288],\n",
              "       [0.42228381],\n",
              "       [0.44049622],\n",
              "       [0.43132403],\n",
              "       [0.44894256],\n",
              "       [0.44046323],\n",
              "       [0.4207991 ],\n",
              "       [0.42198687],\n",
              "       [0.42241578],\n",
              "       [0.42789271],\n",
              "       [0.42007325],\n",
              "       [0.43040021],\n",
              "       [0.4350193 ],\n",
              "       [0.42917945],\n",
              "       [0.44412551],\n",
              "       [0.44673199],\n",
              "       [0.45174701],\n",
              "       [0.45841169],\n",
              "       [0.46761688],\n",
              "       [0.45415553],\n",
              "       [0.44194794],\n",
              "       [0.44023227],\n",
              "       [0.45046026],\n",
              "       [0.41578409],\n",
              "       [0.40948233],\n",
              "       [0.43475535],\n",
              "       [0.41908344],\n",
              "       [0.43488733]])"
            ]
          },
          "metadata": {
            "tags": []
          },
          "execution_count": 410
        }
      ]
    },
    {
      "cell_type": "code",
      "metadata": {
        "id": "Hy56wsb9iXzX",
        "colab_type": "code",
        "colab": {
          "base_uri": "https://localhost:8080/",
          "height": 206
        },
        "outputId": "a17e8021-229d-4248-8778-c877e2489aea"
      },
      "source": [
        "pd.DataFrame(test_data).head()"
      ],
      "execution_count": 411,
      "outputs": [
        {
          "output_type": "execute_result",
          "data": {
            "text/html": [
              "<div>\n",
              "<style scoped>\n",
              "    .dataframe tbody tr th:only-of-type {\n",
              "        vertical-align: middle;\n",
              "    }\n",
              "\n",
              "    .dataframe tbody tr th {\n",
              "        vertical-align: top;\n",
              "    }\n",
              "\n",
              "    .dataframe thead th {\n",
              "        text-align: right;\n",
              "    }\n",
              "</style>\n",
              "<table border=\"1\" class=\"dataframe\">\n",
              "  <thead>\n",
              "    <tr style=\"text-align: right;\">\n",
              "      <th></th>\n",
              "      <th>0</th>\n",
              "    </tr>\n",
              "  </thead>\n",
              "  <tbody>\n",
              "    <tr>\n",
              "      <th>0</th>\n",
              "      <td>0.431720</td>\n",
              "    </tr>\n",
              "    <tr>\n",
              "      <th>1</th>\n",
              "      <td>0.414662</td>\n",
              "    </tr>\n",
              "    <tr>\n",
              "      <th>2</th>\n",
              "      <td>0.425517</td>\n",
              "    </tr>\n",
              "    <tr>\n",
              "      <th>3</th>\n",
              "      <td>0.429938</td>\n",
              "    </tr>\n",
              "    <tr>\n",
              "      <th>4</th>\n",
              "      <td>0.436801</td>\n",
              "    </tr>\n",
              "  </tbody>\n",
              "</table>\n",
              "</div>"
            ],
            "text/plain": [
              "          0\n",
              "0  0.431720\n",
              "1  0.414662\n",
              "2  0.425517\n",
              "3  0.429938\n",
              "4  0.436801"
            ]
          },
          "metadata": {
            "tags": []
          },
          "execution_count": 411
        }
      ]
    },
    {
      "cell_type": "markdown",
      "metadata": {
        "id": "FRnzNaiziXzg",
        "colab_type": "text"
      },
      "source": [
        "## Creating array of independent and dependent variables(X_train, y_train, X_test, y_test)"
      ]
    },
    {
      "cell_type": "code",
      "metadata": {
        "id": "MV_XdEPPiXzh",
        "colab_type": "code",
        "colab": {}
      },
      "source": [
        "def create_dataset(dataset, time_step=1):\n",
        "  dataX, dataY = [], []\n",
        "  for i in range(len(dataset)-time_step-1):\n",
        "    a = dataset[i:(i+time_step), 0]\n",
        "    dataX.append(a)\n",
        "    dataY.append(dataset[(i+time_step), 0])\n",
        "  return np.array(dataX), np.array(dataY)"
      ],
      "execution_count": 602,
      "outputs": []
    },
    {
      "cell_type": "code",
      "metadata": {
        "id": "mGEJ6mEGiXzr",
        "colab_type": "code",
        "colab": {}
      },
      "source": [
        "time_step = 50\n",
        "X_train, y_train = create_dataset(train_data, time_step)\n",
        "X_test, y_test = create_dataset(test_data, time_step)"
      ],
      "execution_count": 636,
      "outputs": []
    },
    {
      "cell_type": "code",
      "metadata": {
        "id": "XOT7dQkCiXzz",
        "colab_type": "code",
        "colab": {
          "base_uri": "https://localhost:8080/",
          "height": 243
        },
        "outputId": "1b76b3c3-62b8-40f0-cba5-48b0f1a1c1cf"
      },
      "source": [
        "X_train"
      ],
      "execution_count": 637,
      "outputs": [
        {
          "output_type": "execute_result",
          "data": {
            "text/plain": [
              "array([[0.11508133, 0.11488337, 0.1127058 , ..., 0.07291564, 0.06176383,\n",
              "        0.06585503],\n",
              "       [0.11488337, 0.1127058 , 0.10699792, ..., 0.06176383, 0.06585503,\n",
              "        0.06347949],\n",
              "       [0.1127058 , 0.10699792, 0.10901052, ..., 0.06585503, 0.06347949,\n",
              "        0.06611897],\n",
              "       ...,\n",
              "       [0.36675575, 0.38618892, 0.38816853, ..., 0.44023227, 0.45046026,\n",
              "        0.41578409],\n",
              "       [0.38618892, 0.38816853, 0.39173183, ..., 0.45046026, 0.41578409,\n",
              "        0.40948233],\n",
              "       [0.38816853, 0.39173183, 0.3852651 , ..., 0.41578409, 0.40948233,\n",
              "        0.43475535]])"
            ]
          },
          "metadata": {
            "tags": []
          },
          "execution_count": 637
        }
      ]
    },
    {
      "cell_type": "code",
      "metadata": {
        "id": "C95auSN-iXz6",
        "colab_type": "code",
        "colab": {
          "base_uri": "https://localhost:8080/",
          "height": 34
        },
        "outputId": "39d5b014-20aa-4122-acd2-01820ce76490"
      },
      "source": [
        "print(X_train.shape)"
      ],
      "execution_count": 638,
      "outputs": [
        {
          "output_type": "stream",
          "text": [
            "(766, 50)\n"
          ],
          "name": "stdout"
        }
      ]
    },
    {
      "cell_type": "code",
      "metadata": {
        "id": "mjxHB3PEiX0A",
        "colab_type": "code",
        "colab": {
          "base_uri": "https://localhost:8080/",
          "height": 206
        },
        "outputId": "4a3456e3-516c-4ce0-ad22-ecd7ac647482"
      },
      "source": [
        "pd.DataFrame(y_train).head()"
      ],
      "execution_count": 639,
      "outputs": [
        {
          "output_type": "execute_result",
          "data": {
            "text/html": [
              "<div>\n",
              "<style scoped>\n",
              "    .dataframe tbody tr th:only-of-type {\n",
              "        vertical-align: middle;\n",
              "    }\n",
              "\n",
              "    .dataframe tbody tr th {\n",
              "        vertical-align: top;\n",
              "    }\n",
              "\n",
              "    .dataframe thead th {\n",
              "        text-align: right;\n",
              "    }\n",
              "</style>\n",
              "<table border=\"1\" class=\"dataframe\">\n",
              "  <thead>\n",
              "    <tr style=\"text-align: right;\">\n",
              "      <th></th>\n",
              "      <th>0</th>\n",
              "    </tr>\n",
              "  </thead>\n",
              "  <tbody>\n",
              "    <tr>\n",
              "      <th>0</th>\n",
              "      <td>0.063479</td>\n",
              "    </tr>\n",
              "    <tr>\n",
              "      <th>1</th>\n",
              "      <td>0.066119</td>\n",
              "    </tr>\n",
              "    <tr>\n",
              "      <th>2</th>\n",
              "      <td>0.067439</td>\n",
              "    </tr>\n",
              "    <tr>\n",
              "      <th>3</th>\n",
              "      <td>0.069187</td>\n",
              "    </tr>\n",
              "    <tr>\n",
              "      <th>4</th>\n",
              "      <td>0.067439</td>\n",
              "    </tr>\n",
              "  </tbody>\n",
              "</table>\n",
              "</div>"
            ],
            "text/plain": [
              "          0\n",
              "0  0.063479\n",
              "1  0.066119\n",
              "2  0.067439\n",
              "3  0.069187\n",
              "4  0.067439"
            ]
          },
          "metadata": {
            "tags": []
          },
          "execution_count": 639
        }
      ]
    },
    {
      "cell_type": "code",
      "metadata": {
        "id": "rWgYe6eTiX0I",
        "colab_type": "code",
        "colab": {
          "base_uri": "https://localhost:8080/",
          "height": 226
        },
        "outputId": "8c8e63e8-15f2-428d-ed86-0422e6479e6b"
      },
      "source": [
        "pd.DataFrame(X_test).head()"
      ],
      "execution_count": 640,
      "outputs": [
        {
          "output_type": "execute_result",
          "data": {
            "text/html": [
              "<div>\n",
              "<style scoped>\n",
              "    .dataframe tbody tr th:only-of-type {\n",
              "        vertical-align: middle;\n",
              "    }\n",
              "\n",
              "    .dataframe tbody tr th {\n",
              "        vertical-align: top;\n",
              "    }\n",
              "\n",
              "    .dataframe thead th {\n",
              "        text-align: right;\n",
              "    }\n",
              "</style>\n",
              "<table border=\"1\" class=\"dataframe\">\n",
              "  <thead>\n",
              "    <tr style=\"text-align: right;\">\n",
              "      <th></th>\n",
              "      <th>0</th>\n",
              "      <th>1</th>\n",
              "      <th>2</th>\n",
              "      <th>3</th>\n",
              "      <th>4</th>\n",
              "      <th>5</th>\n",
              "      <th>6</th>\n",
              "      <th>7</th>\n",
              "      <th>8</th>\n",
              "      <th>9</th>\n",
              "      <th>10</th>\n",
              "      <th>11</th>\n",
              "      <th>12</th>\n",
              "      <th>13</th>\n",
              "      <th>14</th>\n",
              "      <th>15</th>\n",
              "      <th>16</th>\n",
              "      <th>17</th>\n",
              "      <th>18</th>\n",
              "      <th>19</th>\n",
              "      <th>20</th>\n",
              "      <th>21</th>\n",
              "      <th>22</th>\n",
              "      <th>23</th>\n",
              "      <th>24</th>\n",
              "      <th>25</th>\n",
              "      <th>26</th>\n",
              "      <th>27</th>\n",
              "      <th>28</th>\n",
              "      <th>29</th>\n",
              "      <th>30</th>\n",
              "      <th>31</th>\n",
              "      <th>32</th>\n",
              "      <th>33</th>\n",
              "      <th>34</th>\n",
              "      <th>35</th>\n",
              "      <th>36</th>\n",
              "      <th>37</th>\n",
              "      <th>38</th>\n",
              "      <th>39</th>\n",
              "      <th>40</th>\n",
              "      <th>41</th>\n",
              "      <th>42</th>\n",
              "      <th>43</th>\n",
              "      <th>44</th>\n",
              "      <th>45</th>\n",
              "      <th>46</th>\n",
              "      <th>47</th>\n",
              "      <th>48</th>\n",
              "      <th>49</th>\n",
              "    </tr>\n",
              "  </thead>\n",
              "  <tbody>\n",
              "    <tr>\n",
              "      <th>0</th>\n",
              "      <td>0.431720</td>\n",
              "      <td>0.414662</td>\n",
              "      <td>0.425517</td>\n",
              "      <td>0.429938</td>\n",
              "      <td>0.436801</td>\n",
              "      <td>0.411594</td>\n",
              "      <td>0.427134</td>\n",
              "      <td>0.415586</td>\n",
              "      <td>0.402191</td>\n",
              "      <td>0.405688</td>\n",
              "      <td>0.424032</td>\n",
              "      <td>0.435118</td>\n",
              "      <td>0.386486</td>\n",
              "      <td>0.367053</td>\n",
              "      <td>0.374245</td>\n",
              "      <td>0.394635</td>\n",
              "      <td>0.389818</td>\n",
              "      <td>0.376555</td>\n",
              "      <td>0.342572</td>\n",
              "      <td>0.336171</td>\n",
              "      <td>0.318255</td>\n",
              "      <td>0.333465</td>\n",
              "      <td>0.340460</td>\n",
              "      <td>0.315154</td>\n",
              "      <td>0.285856</td>\n",
              "      <td>0.285196</td>\n",
              "      <td>0.270382</td>\n",
              "      <td>0.278069</td>\n",
              "      <td>0.276815</td>\n",
              "      <td>0.298921</td>\n",
              "      <td>0.294335</td>\n",
              "      <td>0.291135</td>\n",
              "      <td>0.311723</td>\n",
              "      <td>0.284899</td>\n",
              "      <td>0.278399</td>\n",
              "      <td>0.257844</td>\n",
              "      <td>0.261506</td>\n",
              "      <td>0.258306</td>\n",
              "      <td>0.259857</td>\n",
              "      <td>0.265961</td>\n",
              "      <td>0.247913</td>\n",
              "      <td>0.242832</td>\n",
              "      <td>0.249860</td>\n",
              "      <td>0.232769</td>\n",
              "      <td>0.219374</td>\n",
              "      <td>0.199248</td>\n",
              "      <td>0.186380</td>\n",
              "      <td>0.220496</td>\n",
              "      <td>0.217130</td>\n",
              "      <td>0.217394</td>\n",
              "    </tr>\n",
              "    <tr>\n",
              "      <th>1</th>\n",
              "      <td>0.414662</td>\n",
              "      <td>0.425517</td>\n",
              "      <td>0.429938</td>\n",
              "      <td>0.436801</td>\n",
              "      <td>0.411594</td>\n",
              "      <td>0.427134</td>\n",
              "      <td>0.415586</td>\n",
              "      <td>0.402191</td>\n",
              "      <td>0.405688</td>\n",
              "      <td>0.424032</td>\n",
              "      <td>0.435118</td>\n",
              "      <td>0.386486</td>\n",
              "      <td>0.367053</td>\n",
              "      <td>0.374245</td>\n",
              "      <td>0.394635</td>\n",
              "      <td>0.389818</td>\n",
              "      <td>0.376555</td>\n",
              "      <td>0.342572</td>\n",
              "      <td>0.336171</td>\n",
              "      <td>0.318255</td>\n",
              "      <td>0.333465</td>\n",
              "      <td>0.340460</td>\n",
              "      <td>0.315154</td>\n",
              "      <td>0.285856</td>\n",
              "      <td>0.285196</td>\n",
              "      <td>0.270382</td>\n",
              "      <td>0.278069</td>\n",
              "      <td>0.276815</td>\n",
              "      <td>0.298921</td>\n",
              "      <td>0.294335</td>\n",
              "      <td>0.291135</td>\n",
              "      <td>0.311723</td>\n",
              "      <td>0.284899</td>\n",
              "      <td>0.278399</td>\n",
              "      <td>0.257844</td>\n",
              "      <td>0.261506</td>\n",
              "      <td>0.258306</td>\n",
              "      <td>0.259857</td>\n",
              "      <td>0.265961</td>\n",
              "      <td>0.247913</td>\n",
              "      <td>0.242832</td>\n",
              "      <td>0.249860</td>\n",
              "      <td>0.232769</td>\n",
              "      <td>0.219374</td>\n",
              "      <td>0.199248</td>\n",
              "      <td>0.186380</td>\n",
              "      <td>0.220496</td>\n",
              "      <td>0.217130</td>\n",
              "      <td>0.217394</td>\n",
              "      <td>0.222376</td>\n",
              "    </tr>\n",
              "    <tr>\n",
              "      <th>2</th>\n",
              "      <td>0.425517</td>\n",
              "      <td>0.429938</td>\n",
              "      <td>0.436801</td>\n",
              "      <td>0.411594</td>\n",
              "      <td>0.427134</td>\n",
              "      <td>0.415586</td>\n",
              "      <td>0.402191</td>\n",
              "      <td>0.405688</td>\n",
              "      <td>0.424032</td>\n",
              "      <td>0.435118</td>\n",
              "      <td>0.386486</td>\n",
              "      <td>0.367053</td>\n",
              "      <td>0.374245</td>\n",
              "      <td>0.394635</td>\n",
              "      <td>0.389818</td>\n",
              "      <td>0.376555</td>\n",
              "      <td>0.342572</td>\n",
              "      <td>0.336171</td>\n",
              "      <td>0.318255</td>\n",
              "      <td>0.333465</td>\n",
              "      <td>0.340460</td>\n",
              "      <td>0.315154</td>\n",
              "      <td>0.285856</td>\n",
              "      <td>0.285196</td>\n",
              "      <td>0.270382</td>\n",
              "      <td>0.278069</td>\n",
              "      <td>0.276815</td>\n",
              "      <td>0.298921</td>\n",
              "      <td>0.294335</td>\n",
              "      <td>0.291135</td>\n",
              "      <td>0.311723</td>\n",
              "      <td>0.284899</td>\n",
              "      <td>0.278399</td>\n",
              "      <td>0.257844</td>\n",
              "      <td>0.261506</td>\n",
              "      <td>0.258306</td>\n",
              "      <td>0.259857</td>\n",
              "      <td>0.265961</td>\n",
              "      <td>0.247913</td>\n",
              "      <td>0.242832</td>\n",
              "      <td>0.249860</td>\n",
              "      <td>0.232769</td>\n",
              "      <td>0.219374</td>\n",
              "      <td>0.199248</td>\n",
              "      <td>0.186380</td>\n",
              "      <td>0.220496</td>\n",
              "      <td>0.217130</td>\n",
              "      <td>0.217394</td>\n",
              "      <td>0.222376</td>\n",
              "      <td>0.222970</td>\n",
              "    </tr>\n",
              "    <tr>\n",
              "      <th>3</th>\n",
              "      <td>0.429938</td>\n",
              "      <td>0.436801</td>\n",
              "      <td>0.411594</td>\n",
              "      <td>0.427134</td>\n",
              "      <td>0.415586</td>\n",
              "      <td>0.402191</td>\n",
              "      <td>0.405688</td>\n",
              "      <td>0.424032</td>\n",
              "      <td>0.435118</td>\n",
              "      <td>0.386486</td>\n",
              "      <td>0.367053</td>\n",
              "      <td>0.374245</td>\n",
              "      <td>0.394635</td>\n",
              "      <td>0.389818</td>\n",
              "      <td>0.376555</td>\n",
              "      <td>0.342572</td>\n",
              "      <td>0.336171</td>\n",
              "      <td>0.318255</td>\n",
              "      <td>0.333465</td>\n",
              "      <td>0.340460</td>\n",
              "      <td>0.315154</td>\n",
              "      <td>0.285856</td>\n",
              "      <td>0.285196</td>\n",
              "      <td>0.270382</td>\n",
              "      <td>0.278069</td>\n",
              "      <td>0.276815</td>\n",
              "      <td>0.298921</td>\n",
              "      <td>0.294335</td>\n",
              "      <td>0.291135</td>\n",
              "      <td>0.311723</td>\n",
              "      <td>0.284899</td>\n",
              "      <td>0.278399</td>\n",
              "      <td>0.257844</td>\n",
              "      <td>0.261506</td>\n",
              "      <td>0.258306</td>\n",
              "      <td>0.259857</td>\n",
              "      <td>0.265961</td>\n",
              "      <td>0.247913</td>\n",
              "      <td>0.242832</td>\n",
              "      <td>0.249860</td>\n",
              "      <td>0.232769</td>\n",
              "      <td>0.219374</td>\n",
              "      <td>0.199248</td>\n",
              "      <td>0.186380</td>\n",
              "      <td>0.220496</td>\n",
              "      <td>0.217130</td>\n",
              "      <td>0.217394</td>\n",
              "      <td>0.222376</td>\n",
              "      <td>0.222970</td>\n",
              "      <td>0.171071</td>\n",
              "    </tr>\n",
              "    <tr>\n",
              "      <th>4</th>\n",
              "      <td>0.436801</td>\n",
              "      <td>0.411594</td>\n",
              "      <td>0.427134</td>\n",
              "      <td>0.415586</td>\n",
              "      <td>0.402191</td>\n",
              "      <td>0.405688</td>\n",
              "      <td>0.424032</td>\n",
              "      <td>0.435118</td>\n",
              "      <td>0.386486</td>\n",
              "      <td>0.367053</td>\n",
              "      <td>0.374245</td>\n",
              "      <td>0.394635</td>\n",
              "      <td>0.389818</td>\n",
              "      <td>0.376555</td>\n",
              "      <td>0.342572</td>\n",
              "      <td>0.336171</td>\n",
              "      <td>0.318255</td>\n",
              "      <td>0.333465</td>\n",
              "      <td>0.340460</td>\n",
              "      <td>0.315154</td>\n",
              "      <td>0.285856</td>\n",
              "      <td>0.285196</td>\n",
              "      <td>0.270382</td>\n",
              "      <td>0.278069</td>\n",
              "      <td>0.276815</td>\n",
              "      <td>0.298921</td>\n",
              "      <td>0.294335</td>\n",
              "      <td>0.291135</td>\n",
              "      <td>0.311723</td>\n",
              "      <td>0.284899</td>\n",
              "      <td>0.278399</td>\n",
              "      <td>0.257844</td>\n",
              "      <td>0.261506</td>\n",
              "      <td>0.258306</td>\n",
              "      <td>0.259857</td>\n",
              "      <td>0.265961</td>\n",
              "      <td>0.247913</td>\n",
              "      <td>0.242832</td>\n",
              "      <td>0.249860</td>\n",
              "      <td>0.232769</td>\n",
              "      <td>0.219374</td>\n",
              "      <td>0.199248</td>\n",
              "      <td>0.186380</td>\n",
              "      <td>0.220496</td>\n",
              "      <td>0.217130</td>\n",
              "      <td>0.217394</td>\n",
              "      <td>0.222376</td>\n",
              "      <td>0.222970</td>\n",
              "      <td>0.171071</td>\n",
              "      <td>0.191098</td>\n",
              "    </tr>\n",
              "  </tbody>\n",
              "</table>\n",
              "</div>"
            ],
            "text/plain": [
              "         0         1         2   ...        47        48        49\n",
              "0  0.431720  0.414662  0.425517  ...  0.220496  0.217130  0.217394\n",
              "1  0.414662  0.425517  0.429938  ...  0.217130  0.217394  0.222376\n",
              "2  0.425517  0.429938  0.436801  ...  0.217394  0.222376  0.222970\n",
              "3  0.429938  0.436801  0.411594  ...  0.222376  0.222970  0.171071\n",
              "4  0.436801  0.411594  0.427134  ...  0.222970  0.171071  0.191098\n",
              "\n",
              "[5 rows x 50 columns]"
            ]
          },
          "metadata": {
            "tags": []
          },
          "execution_count": 640
        }
      ]
    },
    {
      "cell_type": "code",
      "metadata": {
        "id": "mXg_5VPLiX0R",
        "colab_type": "code",
        "colab": {
          "base_uri": "https://localhost:8080/",
          "height": 206
        },
        "outputId": "b26be3e4-55b0-4ff8-a25f-f918a2ad17dc"
      },
      "source": [
        "pd.DataFrame(y_test).head()"
      ],
      "execution_count": 641,
      "outputs": [
        {
          "output_type": "execute_result",
          "data": {
            "text/html": [
              "<div>\n",
              "<style scoped>\n",
              "    .dataframe tbody tr th:only-of-type {\n",
              "        vertical-align: middle;\n",
              "    }\n",
              "\n",
              "    .dataframe tbody tr th {\n",
              "        vertical-align: top;\n",
              "    }\n",
              "\n",
              "    .dataframe thead th {\n",
              "        text-align: right;\n",
              "    }\n",
              "</style>\n",
              "<table border=\"1\" class=\"dataframe\">\n",
              "  <thead>\n",
              "    <tr style=\"text-align: right;\">\n",
              "      <th></th>\n",
              "      <th>0</th>\n",
              "    </tr>\n",
              "  </thead>\n",
              "  <tbody>\n",
              "    <tr>\n",
              "      <th>0</th>\n",
              "      <td>0.222376</td>\n",
              "    </tr>\n",
              "    <tr>\n",
              "      <th>1</th>\n",
              "      <td>0.222970</td>\n",
              "    </tr>\n",
              "    <tr>\n",
              "      <th>2</th>\n",
              "      <td>0.171071</td>\n",
              "    </tr>\n",
              "    <tr>\n",
              "      <th>3</th>\n",
              "      <td>0.191098</td>\n",
              "    </tr>\n",
              "    <tr>\n",
              "      <th>4</th>\n",
              "      <td>0.190010</td>\n",
              "    </tr>\n",
              "  </tbody>\n",
              "</table>\n",
              "</div>"
            ],
            "text/plain": [
              "          0\n",
              "0  0.222376\n",
              "1  0.222970\n",
              "2  0.171071\n",
              "3  0.191098\n",
              "4  0.190010"
            ]
          },
          "metadata": {
            "tags": []
          },
          "execution_count": 641
        }
      ]
    },
    {
      "cell_type": "markdown",
      "metadata": {
        "id": "syshjIcX4Sck",
        "colab_type": "text"
      },
      "source": [
        "# Creating LSTM model"
      ]
    },
    {
      "cell_type": "markdown",
      "metadata": {
        "id": "qAi5qSnG0rZs",
        "colab_type": "text"
      },
      "source": [
        "## Reshaping X_train and X_test into 3D arrays"
      ]
    },
    {
      "cell_type": "code",
      "metadata": {
        "id": "4tupRye8iX0X",
        "colab_type": "code",
        "colab": {
          "base_uri": "https://localhost:8080/",
          "height": 34
        },
        "outputId": "6d9c698b-f415-4c45-b560-b0fccfad3a3a"
      },
      "source": [
        "X_train = X_train.reshape(X_train.shape[0], X_train.shape[1], 1)\n",
        "X_test = X_test.reshape(X_test.shape[0], X_test.shape[1], 1)\n",
        "print(X_train.shape)"
      ],
      "execution_count": 642,
      "outputs": [
        {
          "output_type": "stream",
          "text": [
            "(766, 50, 1)\n"
          ],
          "name": "stdout"
        }
      ]
    },
    {
      "cell_type": "code",
      "metadata": {
        "id": "4sAM5Dn35kfY",
        "colab_type": "code",
        "colab": {
          "base_uri": "https://localhost:8080/",
          "height": 868
        },
        "outputId": "92998713-52dc-41df-bf94-db3074538e72"
      },
      "source": [
        "print(X_train)"
      ],
      "execution_count": 643,
      "outputs": [
        {
          "output_type": "stream",
          "text": [
            "[[[0.11508133]\n",
            "  [0.11488337]\n",
            "  [0.1127058 ]\n",
            "  ...\n",
            "  [0.07291564]\n",
            "  [0.06176383]\n",
            "  [0.06585503]]\n",
            "\n",
            " [[0.11488337]\n",
            "  [0.1127058 ]\n",
            "  [0.10699792]\n",
            "  ...\n",
            "  [0.06176383]\n",
            "  [0.06585503]\n",
            "  [0.06347949]]\n",
            "\n",
            " [[0.1127058 ]\n",
            "  [0.10699792]\n",
            "  [0.10901052]\n",
            "  ...\n",
            "  [0.06585503]\n",
            "  [0.06347949]\n",
            "  [0.06611897]]\n",
            "\n",
            " ...\n",
            "\n",
            " [[0.36675575]\n",
            "  [0.38618892]\n",
            "  [0.38816853]\n",
            "  ...\n",
            "  [0.44023227]\n",
            "  [0.45046026]\n",
            "  [0.41578409]]\n",
            "\n",
            " [[0.38618892]\n",
            "  [0.38816853]\n",
            "  [0.39173183]\n",
            "  ...\n",
            "  [0.45046026]\n",
            "  [0.41578409]\n",
            "  [0.40948233]]\n",
            "\n",
            " [[0.38816853]\n",
            "  [0.39173183]\n",
            "  [0.3852651 ]\n",
            "  ...\n",
            "  [0.41578409]\n",
            "  [0.40948233]\n",
            "  [0.43475535]]]\n"
          ],
          "name": "stdout"
        }
      ]
    },
    {
      "cell_type": "markdown",
      "metadata": {
        "id": "gAJ_JE-l94KJ",
        "colab_type": "text"
      },
      "source": [
        "## Creating a sequential model"
      ]
    },
    {
      "cell_type": "code",
      "metadata": {
        "id": "fsUcUwfWiX0k",
        "colab_type": "code",
        "colab": {}
      },
      "source": [
        "model = Sequential([\n",
        "          LSTM(50, return_sequences=True, input_shape=(100,1)),\n",
        "          LSTM(50, return_sequences=True),\n",
        "          LSTM(50),\n",
        "          Dense(1)\n",
        "])\n",
        "model.compile(loss='mean_squared_error', optimizer='adam')"
      ],
      "execution_count": 644,
      "outputs": []
    },
    {
      "cell_type": "code",
      "metadata": {
        "id": "lixMBM9AiX0r",
        "colab_type": "code",
        "colab": {
          "base_uri": "https://localhost:8080/",
          "height": 295
        },
        "outputId": "82cecdf6-afb6-4fc4-afe9-42aee3d93923"
      },
      "source": [
        "model.summary()"
      ],
      "execution_count": 645,
      "outputs": [
        {
          "output_type": "stream",
          "text": [
            "Model: \"sequential_18\"\n",
            "_________________________________________________________________\n",
            "Layer (type)                 Output Shape              Param #   \n",
            "=================================================================\n",
            "lstm_50 (LSTM)               (None, 100, 50)           10400     \n",
            "_________________________________________________________________\n",
            "lstm_51 (LSTM)               (None, 100, 50)           20200     \n",
            "_________________________________________________________________\n",
            "lstm_52 (LSTM)               (None, 50)                20200     \n",
            "_________________________________________________________________\n",
            "dense_16 (Dense)             (None, 1)                 51        \n",
            "=================================================================\n",
            "Total params: 50,851\n",
            "Trainable params: 50,851\n",
            "Non-trainable params: 0\n",
            "_________________________________________________________________\n"
          ],
          "name": "stdout"
        }
      ]
    },
    {
      "cell_type": "markdown",
      "metadata": {
        "id": "9Fx95fJcHlbh",
        "colab_type": "text"
      },
      "source": [
        "## Training the sequential model"
      ]
    },
    {
      "cell_type": "code",
      "metadata": {
        "id": "tPgFk1oZiX0y",
        "colab_type": "code",
        "colab": {
          "base_uri": "https://localhost:8080/",
          "height": 1000
        },
        "outputId": "b1d20a97-ccf6-4f06-df63-afa687eaf083"
      },
      "source": [
        "model.fit(X_train, y_train, validation_data=(X_test, y_test), \n",
        "          epochs=100, batch_size=64, verbose=2)"
      ],
      "execution_count": 646,
      "outputs": [
        {
          "output_type": "stream",
          "text": [
            "Epoch 1/100\n",
            "WARNING:tensorflow:Model was constructed with shape (None, 100, 1) for input Tensor(\"lstm_50_input:0\", shape=(None, 100, 1), dtype=float32), but it was called on an input with incompatible shape (None, 50, 1).\n",
            "WARNING:tensorflow:Model was constructed with shape (None, 100, 1) for input Tensor(\"lstm_50_input:0\", shape=(None, 100, 1), dtype=float32), but it was called on an input with incompatible shape (None, 50, 1).\n",
            "WARNING:tensorflow:Model was constructed with shape (None, 100, 1) for input Tensor(\"lstm_50_input:0\", shape=(None, 100, 1), dtype=float32), but it was called on an input with incompatible shape (None, 50, 1).\n",
            "12/12 - 1s - loss: 0.0109 - val_loss: 0.0348\n",
            "Epoch 2/100\n",
            "12/12 - 0s - loss: 0.0016 - val_loss: 0.0029\n",
            "Epoch 3/100\n",
            "12/12 - 0s - loss: 7.0386e-04 - val_loss: 0.0032\n",
            "Epoch 4/100\n",
            "12/12 - 0s - loss: 4.4990e-04 - val_loss: 0.0027\n",
            "Epoch 5/100\n",
            "12/12 - 0s - loss: 4.1031e-04 - val_loss: 0.0025\n",
            "Epoch 6/100\n",
            "12/12 - 0s - loss: 3.8198e-04 - val_loss: 0.0025\n",
            "Epoch 7/100\n",
            "12/12 - 0s - loss: 3.7814e-04 - val_loss: 0.0025\n",
            "Epoch 8/100\n",
            "12/12 - 0s - loss: 3.5884e-04 - val_loss: 0.0025\n",
            "Epoch 9/100\n",
            "12/12 - 0s - loss: 3.5494e-04 - val_loss: 0.0024\n",
            "Epoch 10/100\n",
            "12/12 - 0s - loss: 3.5735e-04 - val_loss: 0.0024\n",
            "Epoch 11/100\n",
            "12/12 - 0s - loss: 3.7651e-04 - val_loss: 0.0023\n",
            "Epoch 12/100\n",
            "12/12 - 0s - loss: 3.7894e-04 - val_loss: 0.0028\n",
            "Epoch 13/100\n",
            "12/12 - 0s - loss: 3.5577e-04 - val_loss: 0.0025\n",
            "Epoch 14/100\n",
            "12/12 - 0s - loss: 3.4417e-04 - val_loss: 0.0021\n",
            "Epoch 15/100\n",
            "12/12 - 0s - loss: 3.5967e-04 - val_loss: 0.0021\n",
            "Epoch 16/100\n",
            "12/12 - 0s - loss: 3.4941e-04 - val_loss: 0.0029\n",
            "Epoch 17/100\n",
            "12/12 - 0s - loss: 3.4798e-04 - val_loss: 0.0021\n",
            "Epoch 18/100\n",
            "12/12 - 0s - loss: 3.2262e-04 - val_loss: 0.0021\n",
            "Epoch 19/100\n",
            "12/12 - 0s - loss: 3.2714e-04 - val_loss: 0.0020\n",
            "Epoch 20/100\n",
            "12/12 - 0s - loss: 3.2493e-04 - val_loss: 0.0019\n",
            "Epoch 21/100\n",
            "12/12 - 0s - loss: 3.1215e-04 - val_loss: 0.0025\n",
            "Epoch 22/100\n",
            "12/12 - 0s - loss: 3.0972e-04 - val_loss: 0.0022\n",
            "Epoch 23/100\n",
            "12/12 - 0s - loss: 2.9409e-04 - val_loss: 0.0017\n",
            "Epoch 24/100\n",
            "12/12 - 0s - loss: 3.0071e-04 - val_loss: 0.0020\n",
            "Epoch 25/100\n",
            "12/12 - 0s - loss: 2.8885e-04 - val_loss: 0.0016\n",
            "Epoch 26/100\n",
            "12/12 - 0s - loss: 2.9139e-04 - val_loss: 0.0023\n",
            "Epoch 27/100\n",
            "12/12 - 0s - loss: 3.1105e-04 - val_loss: 0.0015\n",
            "Epoch 28/100\n",
            "12/12 - 0s - loss: 2.9599e-04 - val_loss: 0.0020\n",
            "Epoch 29/100\n",
            "12/12 - 0s - loss: 2.7640e-04 - val_loss: 0.0016\n",
            "Epoch 30/100\n",
            "12/12 - 0s - loss: 2.6159e-04 - val_loss: 0.0016\n",
            "Epoch 31/100\n",
            "12/12 - 0s - loss: 2.6881e-04 - val_loss: 0.0017\n",
            "Epoch 32/100\n",
            "12/12 - 0s - loss: 2.6878e-04 - val_loss: 0.0014\n",
            "Epoch 33/100\n",
            "12/12 - 0s - loss: 2.7279e-04 - val_loss: 0.0017\n",
            "Epoch 34/100\n",
            "12/12 - 0s - loss: 2.5556e-04 - val_loss: 0.0014\n",
            "Epoch 35/100\n",
            "12/12 - 0s - loss: 2.5630e-04 - val_loss: 0.0013\n",
            "Epoch 36/100\n",
            "12/12 - 0s - loss: 2.4584e-04 - val_loss: 0.0013\n",
            "Epoch 37/100\n",
            "12/12 - 0s - loss: 2.4323e-04 - val_loss: 0.0018\n",
            "Epoch 38/100\n",
            "12/12 - 0s - loss: 2.4280e-04 - val_loss: 0.0011\n",
            "Epoch 39/100\n",
            "12/12 - 0s - loss: 2.3801e-04 - val_loss: 0.0018\n",
            "Epoch 40/100\n",
            "12/12 - 0s - loss: 2.4505e-04 - val_loss: 0.0011\n",
            "Epoch 41/100\n",
            "12/12 - 0s - loss: 2.3315e-04 - val_loss: 0.0011\n",
            "Epoch 42/100\n",
            "12/12 - 0s - loss: 2.3544e-04 - val_loss: 0.0014\n",
            "Epoch 43/100\n",
            "12/12 - 0s - loss: 2.3999e-04 - val_loss: 0.0022\n",
            "Epoch 44/100\n",
            "12/12 - 0s - loss: 2.6488e-04 - val_loss: 0.0012\n",
            "Epoch 45/100\n",
            "12/12 - 0s - loss: 2.9821e-04 - val_loss: 0.0024\n",
            "Epoch 46/100\n",
            "12/12 - 0s - loss: 2.4561e-04 - val_loss: 0.0011\n",
            "Epoch 47/100\n",
            "12/12 - 0s - loss: 2.3944e-04 - val_loss: 0.0020\n",
            "Epoch 48/100\n",
            "12/12 - 0s - loss: 2.1989e-04 - val_loss: 0.0019\n",
            "Epoch 49/100\n",
            "12/12 - 0s - loss: 2.2981e-04 - val_loss: 0.0012\n",
            "Epoch 50/100\n",
            "12/12 - 0s - loss: 2.1331e-04 - val_loss: 0.0012\n",
            "Epoch 51/100\n",
            "12/12 - 0s - loss: 2.0320e-04 - val_loss: 0.0015\n",
            "Epoch 52/100\n",
            "12/12 - 0s - loss: 2.1292e-04 - val_loss: 0.0013\n",
            "Epoch 53/100\n",
            "12/12 - 0s - loss: 2.1142e-04 - val_loss: 0.0010\n",
            "Epoch 54/100\n",
            "12/12 - 0s - loss: 2.1152e-04 - val_loss: 0.0017\n",
            "Epoch 55/100\n",
            "12/12 - 0s - loss: 2.5500e-04 - val_loss: 0.0011\n",
            "Epoch 56/100\n",
            "12/12 - 0s - loss: 2.0703e-04 - val_loss: 0.0012\n",
            "Epoch 57/100\n",
            "12/12 - 0s - loss: 2.0077e-04 - val_loss: 0.0015\n",
            "Epoch 58/100\n",
            "12/12 - 0s - loss: 1.9793e-04 - val_loss: 0.0014\n",
            "Epoch 59/100\n",
            "12/12 - 0s - loss: 2.1204e-04 - val_loss: 0.0014\n",
            "Epoch 60/100\n",
            "12/12 - 0s - loss: 2.0219e-04 - val_loss: 0.0010\n",
            "Epoch 61/100\n",
            "12/12 - 0s - loss: 2.1324e-04 - val_loss: 0.0010\n",
            "Epoch 62/100\n",
            "12/12 - 0s - loss: 1.9837e-04 - val_loss: 0.0017\n",
            "Epoch 63/100\n",
            "12/12 - 0s - loss: 2.0593e-04 - val_loss: 9.3549e-04\n",
            "Epoch 64/100\n",
            "12/12 - 0s - loss: 2.1705e-04 - val_loss: 0.0014\n",
            "Epoch 65/100\n",
            "12/12 - 0s - loss: 1.9610e-04 - val_loss: 0.0017\n",
            "Epoch 66/100\n",
            "12/12 - 0s - loss: 1.8140e-04 - val_loss: 0.0010\n",
            "Epoch 67/100\n",
            "12/12 - 0s - loss: 1.8632e-04 - val_loss: 0.0015\n",
            "Epoch 68/100\n",
            "12/12 - 0s - loss: 2.0898e-04 - val_loss: 9.1191e-04\n",
            "Epoch 69/100\n",
            "12/12 - 0s - loss: 1.8049e-04 - val_loss: 0.0016\n",
            "Epoch 70/100\n",
            "12/12 - 0s - loss: 1.7061e-04 - val_loss: 0.0010\n",
            "Epoch 71/100\n",
            "12/12 - 0s - loss: 1.6727e-04 - val_loss: 0.0011\n",
            "Epoch 72/100\n",
            "12/12 - 0s - loss: 1.7407e-04 - val_loss: 0.0011\n",
            "Epoch 73/100\n",
            "12/12 - 0s - loss: 1.5771e-04 - val_loss: 0.0012\n",
            "Epoch 74/100\n",
            "12/12 - 0s - loss: 1.6159e-04 - val_loss: 0.0011\n",
            "Epoch 75/100\n",
            "12/12 - 0s - loss: 1.5787e-04 - val_loss: 8.9379e-04\n",
            "Epoch 76/100\n",
            "12/12 - 0s - loss: 1.5784e-04 - val_loss: 0.0011\n",
            "Epoch 77/100\n",
            "12/12 - 0s - loss: 1.5902e-04 - val_loss: 0.0010\n",
            "Epoch 78/100\n",
            "12/12 - 0s - loss: 1.7426e-04 - val_loss: 0.0013\n",
            "Epoch 79/100\n",
            "12/12 - 0s - loss: 1.5690e-04 - val_loss: 0.0011\n",
            "Epoch 80/100\n",
            "12/12 - 0s - loss: 1.4026e-04 - val_loss: 8.1542e-04\n",
            "Epoch 81/100\n",
            "12/12 - 0s - loss: 1.3887e-04 - val_loss: 0.0012\n",
            "Epoch 82/100\n",
            "12/12 - 0s - loss: 1.3733e-04 - val_loss: 0.0013\n",
            "Epoch 83/100\n",
            "12/12 - 0s - loss: 1.4339e-04 - val_loss: 8.5201e-04\n",
            "Epoch 84/100\n",
            "12/12 - 0s - loss: 1.3715e-04 - val_loss: 7.8603e-04\n",
            "Epoch 85/100\n",
            "12/12 - 0s - loss: 1.4636e-04 - val_loss: 8.2530e-04\n",
            "Epoch 86/100\n",
            "12/12 - 0s - loss: 1.2985e-04 - val_loss: 9.0088e-04\n",
            "Epoch 87/100\n",
            "12/12 - 0s - loss: 1.2650e-04 - val_loss: 9.3283e-04\n",
            "Epoch 88/100\n",
            "12/12 - 0s - loss: 1.2804e-04 - val_loss: 9.0744e-04\n",
            "Epoch 89/100\n",
            "12/12 - 0s - loss: 1.3151e-04 - val_loss: 7.8900e-04\n",
            "Epoch 90/100\n",
            "12/12 - 0s - loss: 1.1883e-04 - val_loss: 9.1570e-04\n",
            "Epoch 91/100\n",
            "12/12 - 0s - loss: 1.1696e-04 - val_loss: 9.0716e-04\n",
            "Epoch 92/100\n",
            "12/12 - 0s - loss: 1.2182e-04 - val_loss: 7.8347e-04\n",
            "Epoch 93/100\n",
            "12/12 - 0s - loss: 1.1993e-04 - val_loss: 6.6254e-04\n",
            "Epoch 94/100\n",
            "12/12 - 0s - loss: 1.4281e-04 - val_loss: 0.0012\n",
            "Epoch 95/100\n",
            "12/12 - 0s - loss: 1.3508e-04 - val_loss: 0.0013\n",
            "Epoch 96/100\n",
            "12/12 - 0s - loss: 1.1176e-04 - val_loss: 8.0908e-04\n",
            "Epoch 97/100\n",
            "12/12 - 0s - loss: 1.0987e-04 - val_loss: 9.9194e-04\n",
            "Epoch 98/100\n",
            "12/12 - 0s - loss: 1.1699e-04 - val_loss: 6.9403e-04\n",
            "Epoch 99/100\n",
            "12/12 - 0s - loss: 1.1468e-04 - val_loss: 6.7140e-04\n",
            "Epoch 100/100\n",
            "12/12 - 0s - loss: 1.1045e-04 - val_loss: 7.0640e-04\n"
          ],
          "name": "stdout"
        },
        {
          "output_type": "execute_result",
          "data": {
            "text/plain": [
              "<tensorflow.python.keras.callbacks.History at 0x7f73e8652c50>"
            ]
          },
          "metadata": {
            "tags": []
          },
          "execution_count": 646
        }
      ]
    },
    {
      "cell_type": "markdown",
      "metadata": {
        "id": "i74HUh_EDECK",
        "colab_type": "text"
      },
      "source": [
        "## Prediction of training and test sets"
      ]
    },
    {
      "cell_type": "code",
      "metadata": {
        "id": "tpxHquWZiX03",
        "colab_type": "code",
        "colab": {
          "base_uri": "https://localhost:8080/",
          "height": 89
        },
        "outputId": "6ee9a09b-f6d3-4030-902e-6138cd969a25"
      },
      "source": [
        "train_pred = model.predict(X_train)\n",
        "test_pred = model.predict(X_test)\n",
        "print(train_pred.shape)\n",
        "print(test_pred.shape)"
      ],
      "execution_count": 647,
      "outputs": [
        {
          "output_type": "stream",
          "text": [
            "WARNING:tensorflow:Model was constructed with shape (None, 100, 1) for input Tensor(\"lstm_50_input:0\", shape=(None, 100, 1), dtype=float32), but it was called on an input with incompatible shape (None, 50, 1).\n",
            "(766, 1)\n",
            "(390, 1)\n"
          ],
          "name": "stdout"
        }
      ]
    },
    {
      "cell_type": "code",
      "metadata": {
        "id": "SF2lPk85iX1A",
        "colab_type": "code",
        "colab": {}
      },
      "source": [
        "train_pred = scaler.inverse_transform(train_pred)\n",
        "test_pred = scaler.inverse_transform(test_pred)"
      ],
      "execution_count": 648,
      "outputs": []
    },
    {
      "cell_type": "markdown",
      "metadata": {
        "id": "r8SqFEQpDQQl",
        "colab_type": "text"
      },
      "source": [
        "# Analysing training and test set results"
      ]
    },
    {
      "cell_type": "code",
      "metadata": {
        "id": "THh8ntISiX1E",
        "colab_type": "code",
        "colab": {
          "base_uri": "https://localhost:8080/",
          "height": 34
        },
        "outputId": "c8f360fa-bf39-45d0-b50b-adaf15305f3f"
      },
      "source": [
        "math.sqrt(mean_squared_error(y_train, train_pred))"
      ],
      "execution_count": 649,
      "outputs": [
        {
          "output_type": "execute_result",
          "data": {
            "text/plain": [
              "146.37658356168203"
            ]
          },
          "metadata": {
            "tags": []
          },
          "execution_count": 649
        }
      ]
    },
    {
      "cell_type": "code",
      "metadata": {
        "id": "5CMytUMQiX1M",
        "colab_type": "code",
        "colab": {
          "base_uri": "https://localhost:8080/",
          "height": 34
        },
        "outputId": "d187f6f8-29cb-44be-d802-de4adea50b18"
      },
      "source": [
        "math.sqrt(mean_squared_error(y_test, test_pred))"
      ],
      "execution_count": 650,
      "outputs": [
        {
          "output_type": "execute_result",
          "data": {
            "text/plain": [
              "247.12432713386417"
            ]
          },
          "metadata": {
            "tags": []
          },
          "execution_count": 650
        }
      ]
    },
    {
      "cell_type": "code",
      "metadata": {
        "id": "ALfWwjcuiX1Q",
        "colab_type": "code",
        "colab": {
          "base_uri": "https://localhost:8080/",
          "height": 265
        },
        "outputId": "9e65d57b-1e73-41ed-861c-018d10891998"
      },
      "source": [
        "y_pred_plot = np.empty_like(df1)\n",
        "y_pred_plot[:, :] = np.nan\n",
        "y_pred_plot[time_step:len(train_pred)+time_step, :] = train_pred\n",
        "#y_pred_plot = np.empty_like(df1)\n",
        "#y_pred_plot[:,:] = np.nan\n",
        "y_pred_plot[len(train_pred)+(time_step*2)+1:len(df1)-1, :] = test_pred\n",
        "#y_pred_plot = np.append(y_pred_plot, test_pred)\n",
        "plt.plot(scaler.inverse_transform(df1))\n",
        "#plt.plot(train_pred_plot)\n",
        "plt.plot(y_pred_plot)\n",
        "plt.show()"
      ],
      "execution_count": 651,
      "outputs": [
        {
          "output_type": "display_data",
          "data": {
            "image/png": "[encoded data removed]",
            "text/plain": [
              "<Figure size 432x288 with 1 Axes>"
            ]
          },
          "metadata": {
            "tags": [],
            "needs_background": "light"
          }
        }
      ]
    },
    {
      "cell_type": "code",
      "metadata": {
        "id": "4ZcMh3BPiX1d",
        "colab_type": "code",
        "colab": {
          "base_uri": "https://localhost:8080/",
          "height": 206
        },
        "outputId": "6bd75d3e-7cf6-4a08-ac13-008b1d8421fc"
      },
      "source": [
        "pd.DataFrame(test_data).tail()"
      ],
      "execution_count": 652,
      "outputs": [
        {
          "output_type": "execute_result",
          "data": {
            "text/html": [
              "<div>\n",
              "<style scoped>\n",
              "    .dataframe tbody tr th:only-of-type {\n",
              "        vertical-align: middle;\n",
              "    }\n",
              "\n",
              "    .dataframe tbody tr th {\n",
              "        vertical-align: top;\n",
              "    }\n",
              "\n",
              "    .dataframe thead th {\n",
              "        text-align: right;\n",
              "    }\n",
              "</style>\n",
              "<table border=\"1\" class=\"dataframe\">\n",
              "  <thead>\n",
              "    <tr style=\"text-align: right;\">\n",
              "      <th></th>\n",
              "      <th>0</th>\n",
              "    </tr>\n",
              "  </thead>\n",
              "  <tbody>\n",
              "    <tr>\n",
              "      <th>436</th>\n",
              "      <td>0.982843</td>\n",
              "    </tr>\n",
              "    <tr>\n",
              "      <th>437</th>\n",
              "      <td>0.991653</td>\n",
              "    </tr>\n",
              "    <tr>\n",
              "      <th>438</th>\n",
              "      <td>0.975783</td>\n",
              "    </tr>\n",
              "    <tr>\n",
              "      <th>439</th>\n",
              "      <td>0.973209</td>\n",
              "    </tr>\n",
              "    <tr>\n",
              "      <th>440</th>\n",
              "      <td>1.000000</td>\n",
              "    </tr>\n",
              "  </tbody>\n",
              "</table>\n",
              "</div>"
            ],
            "text/plain": [
              "            0\n",
              "436  0.982843\n",
              "437  0.991653\n",
              "438  0.975783\n",
              "439  0.973209\n",
              "440  1.000000"
            ]
          },
          "metadata": {
            "tags": []
          },
          "execution_count": 652
        }
      ]
    },
    {
      "cell_type": "code",
      "metadata": {
        "id": "yGtNRf-viX1k",
        "colab_type": "code",
        "colab": {
          "base_uri": "https://localhost:8080/",
          "height": 34
        },
        "outputId": "93b30cb2-b1f0-4133-d580-88925d3bdf91"
      },
      "source": [
        "X_in = test_data[340:].reshape(1, -1)\n",
        "X_in.shape"
      ],
      "execution_count": 653,
      "outputs": [
        {
          "output_type": "execute_result",
          "data": {
            "text/plain": [
              "(1, 101)"
            ]
          },
          "metadata": {
            "tags": []
          },
          "execution_count": 653
        }
      ]
    },
    {
      "cell_type": "code",
      "metadata": {
        "id": "yroa6QS0iX1p",
        "colab_type": "code",
        "colab": {}
      },
      "source": [
        "temp_in = list(X_in)\n",
        "temp_in = temp_in[0].tolist()"
      ],
      "execution_count": 601,
      "outputs": []
    },
    {
      "cell_type": "code",
      "metadata": {
        "id": "CaoinndqiX1t",
        "colab_type": "code",
        "colab": {
          "base_uri": "https://localhost:8080/",
          "height": 206
        },
        "outputId": "43a6c17b-ec71-42bf-ee38-6bc3228b88ce"
      },
      "source": [
        "pd.DataFrame(temp_in).head()"
      ],
      "execution_count": 523,
      "outputs": [
        {
          "output_type": "execute_result",
          "data": {
            "text/html": [
              "<div>\n",
              "<style scoped>\n",
              "    .dataframe tbody tr th:only-of-type {\n",
              "        vertical-align: middle;\n",
              "    }\n",
              "\n",
              "    .dataframe tbody tr th {\n",
              "        vertical-align: top;\n",
              "    }\n",
              "\n",
              "    .dataframe thead th {\n",
              "        text-align: right;\n",
              "    }\n",
              "</style>\n",
              "<table border=\"1\" class=\"dataframe\">\n",
              "  <thead>\n",
              "    <tr style=\"text-align: right;\">\n",
              "      <th></th>\n",
              "      <th>0</th>\n",
              "    </tr>\n",
              "  </thead>\n",
              "  <tbody>\n",
              "    <tr>\n",
              "      <th>0</th>\n",
              "      <td>0.667492</td>\n",
              "    </tr>\n",
              "    <tr>\n",
              "      <th>1</th>\n",
              "      <td>0.604375</td>\n",
              "    </tr>\n",
              "    <tr>\n",
              "      <th>2</th>\n",
              "      <td>0.603847</td>\n",
              "    </tr>\n",
              "    <tr>\n",
              "      <th>3</th>\n",
              "      <td>0.687816</td>\n",
              "    </tr>\n",
              "    <tr>\n",
              "      <th>4</th>\n",
              "      <td>0.656505</td>\n",
              "    </tr>\n",
              "  </tbody>\n",
              "</table>\n",
              "</div>"
            ],
            "text/plain": [
              "          0\n",
              "0  0.667492\n",
              "1  0.604375\n",
              "2  0.603847\n",
              "3  0.687816\n",
              "4  0.656505"
            ]
          },
          "metadata": {
            "tags": []
          },
          "execution_count": 523
        }
      ]
    },
    {
      "cell_type": "code",
      "metadata": {
        "id": "PSyKnkGxiX10",
        "colab_type": "code",
        "colab": {}
      },
      "source": [
        "list_output = []\n",
        "n_steps = 100\n",
        "days_ahead = 0\n",
        "while(days_ahead<30):\n",
        "  if (len(temp_in) > 100):\n",
        "    X_in = np.array(temp_in[1:])\n",
        "    #print(\"{0} day input {1}\".format(i, X_in))\n",
        "    X_in = X_in.reshape(1, -1)\n",
        "    X_in = X_in.reshape((1, n_steps, 1))\n",
        "    y_hat = model.predict(X_in, verbose=0)\n",
        "    #print(\"{0} day output {1}\".format(i, y_hat))\n",
        "    temp_in.extend(y_hat[0].tolist())\n",
        "    temp_in = temp_in[1:]\n",
        "    list_output.extend(y_hat.tolist())\n",
        "    days_ahead += 1\n",
        "  else:\n",
        "    X_in = X_in.reshape((1, n_steps, 1))\n",
        "    y_hat = model.predict(X_in, verbose=0)\n",
        "    #print(y_hat)\n",
        "    temp_in.extend(y_hat[0].tolist())\n",
        "    #print(len(temp_in))\n",
        "    list_output.extend(y_hat.tolist())\n",
        "    days_ahead +=1\n",
        "\n",
        "  pd.DataFrame(list_output).head()"
      ],
      "execution_count": 524,
      "outputs": []
    },
    {
      "cell_type": "code",
      "metadata": {
        "id": "W8u3Mai-iX17",
        "colab_type": "code",
        "colab": {}
      },
      "source": [
        "day_new = np.arange(1, 101)\n",
        "day_pred = np.arange(101, (101+days_ahead))"
      ],
      "execution_count": 525,
      "outputs": []
    },
    {
      "cell_type": "code",
      "metadata": {
        "id": "-6d9JRe5iX2A",
        "colab_type": "code",
        "colab": {
          "base_uri": "https://localhost:8080/",
          "height": 34
        },
        "outputId": "ea53f9e0-d54f-4b5c-d4f9-ee2a103c90d0"
      },
      "source": [
        "len(df1)"
      ],
      "execution_count": 526,
      "outputs": [
        {
          "output_type": "execute_result",
          "data": {
            "text/plain": [
              "1258"
            ]
          },
          "metadata": {
            "tags": []
          },
          "execution_count": 526
        }
      ]
    },
    {
      "cell_type": "code",
      "metadata": {
        "id": "5XELB0VRiX2F",
        "colab_type": "code",
        "colab": {
          "base_uri": "https://localhost:8080/",
          "height": 282
        },
        "outputId": "24d19a57-3615-4529-dd37-9a952a660d33"
      },
      "source": [
        "df3 = df1.tolist()\n",
        "df3.extend(list_output)\n",
        "plt.plot(df3[1200:])"
      ],
      "execution_count": 527,
      "outputs": [
        {
          "output_type": "execute_result",
          "data": {
            "text/plain": [
              "[<matplotlib.lines.Line2D at 0x7f73f0a2ef98>]"
            ]
          },
          "metadata": {
            "tags": []
          },
          "execution_count": 527
        },
        {
          "output_type": "display_data",
          "data": {
            "image/png": "[encoded data removed]",
            "text/plain": [
              "<Figure size 432x288 with 1 Axes>"
            ]
          },
          "metadata": {
            "tags": [],
            "needs_background": "light"
          }
        }
      ]
    },
    {
      "cell_type": "code",
      "metadata": {
        "id": "AyKEqlj8iX2K",
        "colab_type": "code",
        "colab": {
          "base_uri": "https://localhost:8080/",
          "height": 281
        },
        "outputId": "659e7ec7-11b6-44ca-ebab-c576b171d9cc"
      },
      "source": [
        "plt.plot(day_new[90:], scaler.inverse_transform(df1[(len(df1)-10):]))\n",
        "plt.plot(day_pred, scaler.inverse_transform(list_output))\n",
        "plt.title(\"{0} prediction\".format(ticker))\n",
        "plt.show()"
      ],
      "execution_count": 528,
      "outputs": [
        {
          "output_type": "display_data",
          "data": {
            "image/png": "[encoded data removed]",
            "text/plain": [
              "<Figure size 432x288 with 1 Axes>"
            ]
          },
          "metadata": {
            "tags": [],
            "needs_background": "light"
          }
        }
      ]
    },
    {
      "cell_type": "code",
      "metadata": {
        "id": "l8n-nKNOiX2P",
        "colab_type": "code",
        "colab": {
          "base_uri": "https://localhost:8080/",
          "height": 34
        },
        "outputId": "766b3f66-7a85-45c3-814f-4a39026596d0"
      },
      "source": [
        "program_end = time.time()\n",
        "print(f\"Runtime: {program_end - program_start}\")"
      ],
      "execution_count": 529,
      "outputs": [
        {
          "output_type": "stream",
          "text": [
            "Runtime: 3961.200824022293\n"
          ],
          "name": "stdout"
        }
      ]
    },
    {
      "cell_type": "code",
      "metadata": {
        "id": "MGAZ7_jfPz4I",
        "colab_type": "code",
        "colab": {}
      },
      "source": [
        ""
      ],
      "execution_count": null,
      "outputs": []
    }
  ]
}