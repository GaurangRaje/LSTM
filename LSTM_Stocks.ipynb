{
  "nbformat": 4,
  "nbformat_minor": 0,
  "metadata": {
    "kernelspec": {
      "display_name": "Python 3",
      "language": "python",
      "name": "python3"
    },
    "language_info": {
      "codemirror_mode": {
        "name": "ipython",
        "version": 3
      },
      "file_extension": ".py",
      "mimetype": "text/x-python",
      "name": "python",
      "nbconvert_exporter": "python",
      "pygments_lexer": "ipython3",
      "version": "3.7.6"
    },
    "colab": {
      "name": "LSTM_Stocks.ipynb",
      "provenance": []
    },
    "accelerator": "GPU"
  },
  "cells": [
    {
      "cell_type": "markdown",
      "metadata": {
        "id": "GxL4wct8iXw9",
        "colab_type": "text"
      },
      "source": [
        "# Importing the libraries"
      ]
    },
    {
      "cell_type": "code",
      "metadata": {
        "id": "MxryTV01iXxC",
        "colab_type": "code",
        "colab": {
          "base_uri": "https://localhost:8080/",
          "height": 34
        },
        "outputId": "c6fed2ea-5ab3-4f70-e27f-9c0244a0deac"
      },
      "source": [
        "import time\n",
        "program_start = time.time()\n",
        "from datetime import date, timedelta\n",
        "import matplotlib.pyplot as plt\n",
        "import numpy as np\n",
        "import pandas as pd\n",
        "import pandas_datareader as pdr\n",
        "from sklearn.preprocessing import MinMaxScaler\n",
        "from tensorflow.keras.models import Sequential\n",
        "from tensorflow.keras.layers import Dense, LSTM\n",
        "import tensorflow as tf\n",
        "print(tf.__version__)\n",
        "import math\n",
        "from sklearn.metrics import mean_squared_error\n",
        "import os"
      ],
      "execution_count": 61,
      "outputs": [
        {
          "output_type": "stream",
          "text": [
            "2.2.0\n"
          ],
          "name": "stdout"
        }
      ]
    },
    {
      "cell_type": "markdown",
      "metadata": {
        "id": "3quw4Q_RiXxX",
        "colab_type": "text"
      },
      "source": [
        "# Importing the dataset"
      ]
    },
    {
      "cell_type": "code",
      "metadata": {
        "id": "FsLuqpGBiXxu",
        "colab_type": "code",
        "colab": {
          "base_uri": "https://localhost:8080/",
          "height": 52
        },
        "outputId": "ccb671f2-1431-4b06-931a-8969a84d235e"
      },
      "source": [
        "yesterday = date.today() - timedelta(days = 1)\n",
        "print(yesterday)\n",
        "fya = yesterday - timedelta(days = 365 * 3)\n",
        "print(fya)"
      ],
      "execution_count": 62,
      "outputs": [
        {
          "output_type": "stream",
          "text": [
            "2020-07-20\n",
            "2017-07-21\n"
          ],
          "name": "stdout"
        }
      ]
    },
    {
      "cell_type": "code",
      "metadata": {
        "id": "o8zkuV8yiXx5",
        "colab_type": "code",
        "colab": {}
      },
      "source": [
        "ticker = 'TSLA'\n",
        "TIINGO_API_KEY = '0d89b22b2baae6031d933255d95b27b45630fa18'\n",
        "#api_key=os.environ.get('TIINGO_API_KEY')\n",
        "df = pdr.get_data_tiingo(ticker, api_key=TIINGO_API_KEY, \n",
        "                         start = fya, end = yesterday)"
      ],
      "execution_count": 63,
      "outputs": []
    },
    {
      "cell_type": "markdown",
      "metadata": {
        "id": "FBgwV3HJiXyD",
        "colab_type": "text"
      },
      "source": [
        "# Data preprocessing"
      ]
    },
    {
      "cell_type": "markdown",
      "metadata": {
        "id": "pGJjHuFZiXyF",
        "colab_type": "text"
      },
      "source": [
        "## Converting JSON to CSV"
      ]
    },
    {
      "cell_type": "code",
      "metadata": {
        "id": "QA4-RZ9miXyH",
        "colab_type": "code",
        "colab": {
          "base_uri": "https://localhost:8080/",
          "height": 345
        },
        "outputId": "4e87d0db-e0a5-4b4c-db31-dac788581b82"
      },
      "source": [
        "df.to_csv('{0}.csv'.format(ticker))\n",
        "df.head()"
      ],
      "execution_count": 64,
      "outputs": [
        {
          "output_type": "execute_result",
          "data": {
            "text/html": [
              "<div>\n",
              "<style scoped>\n",
              "    .dataframe tbody tr th:only-of-type {\n",
              "        vertical-align: middle;\n",
              "    }\n",
              "\n",
              "    .dataframe tbody tr th {\n",
              "        vertical-align: top;\n",
              "    }\n",
              "\n",
              "    .dataframe thead th {\n",
              "        text-align: right;\n",
              "    }\n",
              "</style>\n",
              "<table border=\"1\" class=\"dataframe\">\n",
              "  <thead>\n",
              "    <tr style=\"text-align: right;\">\n",
              "      <th></th>\n",
              "      <th></th>\n",
              "      <th>close</th>\n",
              "      <th>high</th>\n",
              "      <th>low</th>\n",
              "      <th>open</th>\n",
              "      <th>volume</th>\n",
              "      <th>adjClose</th>\n",
              "      <th>adjHigh</th>\n",
              "      <th>adjLow</th>\n",
              "      <th>adjOpen</th>\n",
              "      <th>adjVolume</th>\n",
              "      <th>divCash</th>\n",
              "      <th>splitFactor</th>\n",
              "    </tr>\n",
              "    <tr>\n",
              "      <th>symbol</th>\n",
              "      <th>date</th>\n",
              "      <th></th>\n",
              "      <th></th>\n",
              "      <th></th>\n",
              "      <th></th>\n",
              "      <th></th>\n",
              "      <th></th>\n",
              "      <th></th>\n",
              "      <th></th>\n",
              "      <th></th>\n",
              "      <th></th>\n",
              "      <th></th>\n",
              "      <th></th>\n",
              "    </tr>\n",
              "  </thead>\n",
              "  <tbody>\n",
              "    <tr>\n",
              "      <th rowspan=\"5\" valign=\"top\">TSLA</th>\n",
              "      <th>2017-07-21 00:00:00+00:00</th>\n",
              "      <td>328.40</td>\n",
              "      <td>331.26</td>\n",
              "      <td>325.80</td>\n",
              "      <td>329.46</td>\n",
              "      <td>4826383</td>\n",
              "      <td>328.40</td>\n",
              "      <td>331.26</td>\n",
              "      <td>325.80</td>\n",
              "      <td>329.46</td>\n",
              "      <td>4826383</td>\n",
              "      <td>0.0</td>\n",
              "      <td>1.0</td>\n",
              "    </tr>\n",
              "    <tr>\n",
              "      <th>2017-07-24 00:00:00+00:00</th>\n",
              "      <td>342.52</td>\n",
              "      <td>343.40</td>\n",
              "      <td>330.01</td>\n",
              "      <td>330.24</td>\n",
              "      <td>8552012</td>\n",
              "      <td>342.52</td>\n",
              "      <td>343.40</td>\n",
              "      <td>330.01</td>\n",
              "      <td>330.24</td>\n",
              "      <td>8552012</td>\n",
              "      <td>0.0</td>\n",
              "      <td>1.0</td>\n",
              "    </tr>\n",
              "    <tr>\n",
              "      <th>2017-07-25 00:00:00+00:00</th>\n",
              "      <td>339.60</td>\n",
              "      <td>345.60</td>\n",
              "      <td>334.15</td>\n",
              "      <td>345.00</td>\n",
              "      <td>6958889</td>\n",
              "      <td>339.60</td>\n",
              "      <td>345.60</td>\n",
              "      <td>334.15</td>\n",
              "      <td>345.00</td>\n",
              "      <td>6958889</td>\n",
              "      <td>0.0</td>\n",
              "      <td>1.0</td>\n",
              "    </tr>\n",
              "    <tr>\n",
              "      <th>2017-07-26 00:00:00+00:00</th>\n",
              "      <td>343.85</td>\n",
              "      <td>345.50</td>\n",
              "      <td>338.12</td>\n",
              "      <td>340.36</td>\n",
              "      <td>4750198</td>\n",
              "      <td>343.85</td>\n",
              "      <td>345.50</td>\n",
              "      <td>338.12</td>\n",
              "      <td>340.36</td>\n",
              "      <td>4750198</td>\n",
              "      <td>0.0</td>\n",
              "      <td>1.0</td>\n",
              "    </tr>\n",
              "    <tr>\n",
              "      <th>2017-07-27 00:00:00+00:00</th>\n",
              "      <td>334.46</td>\n",
              "      <td>347.50</td>\n",
              "      <td>326.29</td>\n",
              "      <td>346.00</td>\n",
              "      <td>8259202</td>\n",
              "      <td>334.46</td>\n",
              "      <td>347.50</td>\n",
              "      <td>326.29</td>\n",
              "      <td>346.00</td>\n",
              "      <td>8259202</td>\n",
              "      <td>0.0</td>\n",
              "      <td>1.0</td>\n",
              "    </tr>\n",
              "  </tbody>\n",
              "</table>\n",
              "</div>"
            ],
            "text/plain": [
              "                                   close    high  ...  divCash  splitFactor\n",
              "symbol date                                       ...                      \n",
              "TSLA   2017-07-21 00:00:00+00:00  328.40  331.26  ...      0.0          1.0\n",
              "       2017-07-24 00:00:00+00:00  342.52  343.40  ...      0.0          1.0\n",
              "       2017-07-25 00:00:00+00:00  339.60  345.60  ...      0.0          1.0\n",
              "       2017-07-26 00:00:00+00:00  343.85  345.50  ...      0.0          1.0\n",
              "       2017-07-27 00:00:00+00:00  334.46  347.50  ...      0.0          1.0\n",
              "\n",
              "[5 rows x 12 columns]"
            ]
          },
          "metadata": {
            "tags": []
          },
          "execution_count": 64
        }
      ]
    },
    {
      "cell_type": "markdown",
      "metadata": {
        "id": "iIUIiNeaiXyS",
        "colab_type": "text"
      },
      "source": [
        "## Forming dataframe of close prices"
      ]
    },
    {
      "cell_type": "code",
      "metadata": {
        "id": "XkmKErkYiXyV",
        "colab_type": "code",
        "colab": {}
      },
      "source": [
        "df1 = df.reset_index()['close']"
      ],
      "execution_count": 65,
      "outputs": []
    },
    {
      "cell_type": "code",
      "metadata": {
        "id": "WRXECpWqiXye",
        "colab_type": "code",
        "colab": {
          "base_uri": "https://localhost:8080/",
          "height": 34
        },
        "outputId": "26b25cfb-b529-4528-9dce-86c056b9f5f3"
      },
      "source": [
        "df1.shape"
      ],
      "execution_count": 66,
      "outputs": [
        {
          "output_type": "execute_result",
          "data": {
            "text/plain": [
              "(754,)"
            ]
          },
          "metadata": {
            "tags": []
          },
          "execution_count": 66
        }
      ]
    },
    {
      "cell_type": "code",
      "metadata": {
        "id": "efzNb0NkiXyo",
        "colab_type": "code",
        "colab": {
          "base_uri": "https://localhost:8080/",
          "height": 282
        },
        "outputId": "99e9ebf0-d932-4378-e316-4f1f00c19d52"
      },
      "source": [
        "plt.plot(df1)"
      ],
      "execution_count": 67,
      "outputs": [
        {
          "output_type": "execute_result",
          "data": {
            "text/plain": [
              "[<matplotlib.lines.Line2D at 0x7efe1dc89978>]"
            ]
          },
          "metadata": {
            "tags": []
          },
          "execution_count": 67
        },
        {
          "output_type": "display_data",
          "data": {
            "image/png": "[encoded data removed]",
            "text/plain": [
              "<Figure size 432x288 with 1 Axes>"
            ]
          },
          "metadata": {
            "tags": [],
            "needs_background": "light"
          }
        }
      ]
    },
    {
      "cell_type": "markdown",
      "metadata": {
        "id": "lQFWMcUMiXyy",
        "colab_type": "text"
      },
      "source": [
        "## Feature scaling using MinMax Scaler (Values between 0 to 1)"
      ]
    },
    {
      "cell_type": "code",
      "metadata": {
        "id": "wdB3QWdHiXyz",
        "colab_type": "code",
        "colab": {}
      },
      "source": [
        "scaler = MinMaxScaler(feature_range=(0,1))\n",
        "df1 = scaler.fit_transform(np.array(df1).reshape(-1,1))"
      ],
      "execution_count": 68,
      "outputs": []
    },
    {
      "cell_type": "code",
      "metadata": {
        "id": "Jhb7lGuviXy7",
        "colab_type": "code",
        "colab": {
          "base_uri": "https://localhost:8080/",
          "height": 34
        },
        "outputId": "df511431-6e3d-4d37-ed5a-4624dd764b86"
      },
      "source": [
        "df1.shape"
      ],
      "execution_count": 69,
      "outputs": [
        {
          "output_type": "execute_result",
          "data": {
            "text/plain": [
              "(754, 1)"
            ]
          },
          "metadata": {
            "tags": []
          },
          "execution_count": 69
        }
      ]
    },
    {
      "cell_type": "markdown",
      "metadata": {
        "id": "m803rIN-iXzE",
        "colab_type": "text"
      },
      "source": [
        "## Splitting dataset into training set and test set sequentialy"
      ]
    },
    {
      "cell_type": "code",
      "metadata": {
        "id": "2lt2tWCpiXzF",
        "colab_type": "code",
        "colab": {
          "base_uri": "https://localhost:8080/",
          "height": 52
        },
        "outputId": "550f866c-0546-4676-a8da-31a771273cfd"
      },
      "source": [
        "training_size = int(len(df1)*0.65)\n",
        "test_size = len(df1) - training_size\n",
        "train_data, test_data = (df1[0:training_size, :], \n",
        "                         df1[training_size:len(df1), :1])\n",
        "print(train_data.shape)\n",
        "print(test_data.shape)"
      ],
      "execution_count": 70,
      "outputs": [
        {
          "output_type": "stream",
          "text": [
            "(490, 1)\n",
            "(264, 1)\n"
          ],
          "name": "stdout"
        }
      ]
    },
    {
      "cell_type": "code",
      "metadata": {
        "id": "3IjbwlVqiXzP",
        "colab_type": "code",
        "colab": {
          "base_uri": "https://localhost:8080/",
          "height": 1000
        },
        "outputId": "0bb7cf94-9107-44bf-da1c-def0df1ab142"
      },
      "source": [
        "train_data"
      ],
      "execution_count": 71,
      "outputs": [
        {
          "output_type": "execute_result",
          "data": {
            "text/plain": [
              "array([[0.10206758],\n",
              "       [0.11171219],\n",
              "       [0.1097177 ],\n",
              "       [0.11262064],\n",
              "       [0.10620684],\n",
              "       [0.1066235 ],\n",
              "       [0.09870016],\n",
              "       [0.09603628],\n",
              "       [0.10035313],\n",
              "       [0.11483371],\n",
              "       [0.12154123],\n",
              "       [0.12035273],\n",
              "       [0.12721734],\n",
              "       [0.12606299],\n",
              "       [0.12050983],\n",
              "       [0.12219695],\n",
              "       [0.12624741],\n",
              "       [0.12524334],\n",
              "       [0.1256395 ],\n",
              "       [0.11813283],\n",
              "       [0.11508644],\n",
              "       [0.1085292 ],\n",
              "       [0.11091303],\n",
              "       [0.11871341],\n",
              "       [0.1188227 ],\n",
              "       [0.11548944],\n",
              "       [0.11385696],\n",
              "       [0.11501813],\n",
              "       [0.11899346],\n",
              "       [0.12085135],\n",
              "       [0.12050983],\n",
              "       [0.11654133],\n",
              "       [0.11308511],\n",
              "       [0.11723803],\n",
              "       [0.11231327],\n",
              "       [0.12617228],\n",
              "       [0.12553021],\n",
              "       [0.12790722],\n",
              "       [0.13570077],\n",
              "       [0.13718298],\n",
              "       [0.14072799],\n",
              "       [0.13396583],\n",
              "       [0.13315301],\n",
              "       [0.12807798],\n",
              "       [0.1175659 ],\n",
              "       [0.11339932],\n",
              "       [0.11357691],\n",
              "       [0.11065347],\n",
              "       [0.1097177 ],\n",
              "       [0.11074227],\n",
              "       [0.11103598],\n",
              "       [0.11555091],\n",
              "       [0.12024344],\n",
              "       [0.12046201],\n",
              "       [0.12152073],\n",
              "       [0.11199907],\n",
              "       [0.1206396 ],\n",
              "       [0.11996339],\n",
              "       [0.12070108],\n",
              "       [0.12062594],\n",
              "       [0.1172312 ],\n",
              "       [0.12074889],\n",
              "       [0.12341277],\n",
              "       [0.11805769],\n",
              "       [0.11347445],\n",
              "       [0.10795544],\n",
              "       [0.10817401],\n",
              "       [0.10031898],\n",
              "       [0.10054439],\n",
              "       [0.09692424],\n",
              "       [0.09638464],\n",
              "       [0.10420551],\n",
              "       [0.09706768],\n",
              "       [0.08216362],\n",
              "       [0.08682882],\n",
              "       [0.08456794],\n",
              "       [0.0868015 ],\n",
              "       [0.08566764],\n",
              "       [0.08471138],\n",
              "       [0.08471138],\n",
              "       [0.09318798],\n",
              "       [0.08861157],\n",
              "       [0.09038749],\n",
              "       [0.09120715],\n",
              "       [0.09294891],\n",
              "       [0.08863889],\n",
              "       [0.09483412],\n",
              "       [0.09127545],\n",
              "       [0.09329044],\n",
              "       [0.09415108],\n",
              "       [0.09465653],\n",
              "       [0.08781924],\n",
              "       [0.08871403],\n",
              "       [0.08712936],\n",
              "       [0.08622091],\n",
              "       [0.08519634],\n",
              "       [0.09172626],\n",
              "       [0.09034651],\n",
              "       [0.09300356],\n",
              "       [0.10241593],\n",
              "       [0.11069445],\n",
              "       [0.10932836],\n",
              "       [0.10854969],\n",
              "       [0.11234742],\n",
              "       [0.10921907],\n",
              "       [0.10391181],\n",
              "       [0.10246375],\n",
              "       [0.10429431],\n",
              "       [0.09988183],\n",
              "       [0.09447894],\n",
              "       [0.09061973],\n",
              "       [0.09316066],\n",
              "       [0.09042164],\n",
              "       [0.09669201],\n",
              "       [0.09445162],\n",
              "       [0.09265521],\n",
              "       [0.09399398],\n",
              "       [0.10753878],\n",
              "       [0.10568089],\n",
              "       [0.10643908],\n",
              "       [0.10859067],\n",
              "       [0.107409  ],\n",
              "       [0.1100319 ],\n",
              "       [0.11488153],\n",
              "       [0.11311244],\n",
              "       [0.11683504],\n",
              "       [0.11788693],\n",
              "       [0.11872708],\n",
              "       [0.11401406],\n",
              "       [0.10837893],\n",
              "       [0.1119376 ],\n",
              "       [0.11650034],\n",
              "       [0.11396624],\n",
              "       [0.11976531],\n",
              "       [0.11630909],\n",
              "       [0.11255234],\n",
              "       [0.10529839],\n",
              "       [0.10587215],\n",
              "       [0.11340615],\n",
              "       [0.09307186],\n",
              "       [0.08978641],\n",
              "       [0.09341339],\n",
              "       [0.09882994],\n",
              "       [0.09790783],\n",
              "       [0.10593704],\n",
              "       [0.10691038],\n",
              "       [0.10641858],\n",
              "       [0.10541451],\n",
              "       [0.11420531],\n",
              "       [0.11822162],\n",
              "       [0.12188958],\n",
              "       [0.11749759],\n",
              "       [0.11208104],\n",
              "       [0.10379569],\n",
              "       [0.10665765],\n",
              "       [0.10544866],\n",
              "       [0.10193097],\n",
              "       [0.10473146],\n",
              "       [0.10254571],\n",
              "       [0.10122743],\n",
              "       [0.1137545 ],\n",
              "       [0.11124772],\n",
              "       [0.10085859],\n",
              "       [0.10015505],\n",
              "       [0.09725211],\n",
              "       [0.09193118],\n",
              "       [0.08987521],\n",
              "       [0.09395982],\n",
              "       [0.08888479],\n",
              "       [0.08372096],\n",
              "       [0.0855242 ],\n",
              "       [0.06844805],\n",
              "       [0.05383086],\n",
              "       [0.0595343 ],\n",
              "       [0.05021072],\n",
              "       [0.06049056],\n",
              "       [0.07374849],\n",
              "       [0.08657609],\n",
              "       [0.08219094],\n",
              "       [0.07560637],\n",
              "       [0.08587939],\n",
              "       [0.0833043 ],\n",
              "       [0.07862544],\n",
              "       [0.08290131],\n",
              "       [0.0766651 ],\n",
              "       [0.07426077],\n",
              "       [0.07812681],\n",
              "       [0.08272371],\n",
              "       [0.07600254],\n",
              "       [0.07131001],\n",
              "       [0.07137149],\n",
              "       [0.06947945],\n",
              "       [0.07275124],\n",
              "       [0.07862202],\n",
              "       [0.07850249],\n",
              "       [0.08261443],\n",
              "       [0.08345457],\n",
              "       [0.0720477 ],\n",
              "       [0.07863227],\n",
              "       [0.08456111],\n",
              "       [0.08401467],\n",
              "       [0.08734794],\n",
              "       [0.08609796],\n",
              "       [0.0833931 ],\n",
              "       [0.07718421],\n",
              "       [0.07186328],\n",
              "       [0.07343429],\n",
              "       [0.07210918],\n",
              "       [0.06683606],\n",
              "       [0.07207503],\n",
              "       [0.06559975],\n",
              "       [0.06837292],\n",
              "       [0.0675396 ],\n",
              "       [0.06822265],\n",
              "       [0.0715764 ],\n",
              "       [0.07701345],\n",
              "       [0.07223896],\n",
              "       [0.07708175],\n",
              "       [0.08044234],\n",
              "       [0.07661045],\n",
              "       [0.09598847],\n",
              "       [0.09365928],\n",
              "       [0.09473167],\n",
              "       [0.10459485],\n",
              "       [0.11188295],\n",
              "       [0.11325588],\n",
              "       [0.12209449],\n",
              "       [0.12240186],\n",
              "       [0.13104923],\n",
              "       [0.11856314],\n",
              "       [0.1251682 ],\n",
              "       [0.11512059],\n",
              "       [0.10563991],\n",
              "       [0.10521642],\n",
              "       [0.11135701],\n",
              "       [0.11306462],\n",
              "       [0.11677356],\n",
              "       [0.1120059 ],\n",
              "       [0.1066235 ],\n",
              "       [0.09008695],\n",
              "       [0.08892577],\n",
              "       [0.08874818],\n",
              "       [0.09531225],\n",
              "       [0.09801712],\n",
              "       [0.09561963],\n",
              "       [0.09408277],\n",
              "       [0.09555815],\n",
              "       [0.08956784],\n",
              "       [0.09816739],\n",
              "       [0.09895972],\n",
              "       [0.09648709],\n",
              "       [0.09194484],\n",
              "       [0.08485482],\n",
              "       [0.08091364],\n",
              "       [0.08863889],\n",
              "       [0.08721133],\n",
              "       [0.08074288],\n",
              "       [0.07595473],\n",
              "       [0.08139861],\n",
              "       [0.08324283],\n",
              "       [0.11650718],\n",
              "       [0.1155714 ],\n",
              "       [0.11135018],\n",
              "       [0.13701905],\n",
              "       [0.13071453],\n",
              "       [0.11849484],\n",
              "       [0.1205713 ],\n",
              "       [0.1211997 ],\n",
              "       [0.11520939],\n",
              "       [0.10909613],\n",
              "       [0.10688306],\n",
              "       [0.08642582],\n",
              "       [0.08843398],\n",
              "       [0.09762778],\n",
              "       [0.09745019],\n",
              "       [0.0963983 ],\n",
              "       [0.09825618],\n",
              "       [0.09583137],\n",
              "       [0.09077   ],\n",
              "       [0.08609113],\n",
              "       [0.08482067],\n",
              "       [0.08380293],\n",
              "       [0.07512141],\n",
              "       [0.0695136 ],\n",
              "       [0.06965704],\n",
              "       [0.0575603 ],\n",
              "       [0.0727649 ],\n",
              "       [0.06862564],\n",
              "       [0.07620745],\n",
              "       [0.07546976],\n",
              "       [0.07939045],\n",
              "       [0.07914455],\n",
              "       [0.07239606],\n",
              "       [0.08199969],\n",
              "       [0.08152838],\n",
              "       [0.08205433],\n",
              "       [0.0824505 ],\n",
              "       [0.08334529],\n",
              "       [0.08921265],\n",
              "       [0.08780558],\n",
              "       [0.05860536],\n",
              "       [0.08997766],\n",
              "       [0.08336578],\n",
              "       [0.07911723],\n",
              "       [0.07025812],\n",
              "       [0.05667917],\n",
              "       [0.04889927],\n",
              "       [0.05725976],\n",
              "       [0.05321612],\n",
              "       [0.05003996],\n",
              "       [0.05451391],\n",
              "       [0.05506718],\n",
              "       [0.06667896],\n",
              "       [0.06339351],\n",
              "       [0.05801794],\n",
              "       [0.05534723],\n",
              "       [0.05599612],\n",
              "       [0.07866642],\n",
              "       [0.07481404],\n",
              "       [0.09281914],\n",
              "       [0.1037752 ],\n",
              "       [0.10647323],\n",
              "       [0.10309215],\n",
              "       [0.10816035],\n",
              "       [0.11291435],\n",
              "       [0.11436924],\n",
              "       [0.11094718],\n",
              "       [0.11071494],\n",
              "       [0.11556457],\n",
              "       [0.11777764],\n",
              "       [0.11716973],\n",
              "       [0.10403475],\n",
              "       [0.10912345],\n",
              "       [0.1127231 ],\n",
              "       [0.11575582],\n",
              "       [0.11976531],\n",
              "       [0.11919155],\n",
              "       [0.11510693],\n",
              "       [0.1087546 ],\n",
              "       [0.10031215],\n",
              "       [0.11408919],\n",
              "       [0.11266846],\n",
              "       [0.11536649],\n",
              "       [0.11079008],\n",
              "       [0.11714924],\n",
              "       [0.12262044],\n",
              "       [0.12344692],\n",
              "       [0.12574196],\n",
              "       [0.12226184],\n",
              "       [0.12716953],\n",
              "       [0.12826923],\n",
              "       [0.12815994],\n",
              "       [0.13512018],\n",
              "       [0.12755203],\n",
              "       [0.11574216],\n",
              "       [0.10796227],\n",
              "       [0.1051891 ],\n",
              "       [0.09317432],\n",
              "       [0.09617289],\n",
              "       [0.07952023],\n",
              "       [0.10048974],\n",
              "       [0.0936866 ],\n",
              "       [0.10580384],\n",
              "       [0.10507298],\n",
              "       [0.0895815 ],\n",
              "       [0.08291497],\n",
              "       [0.09475216],\n",
              "       [0.10654836],\n",
              "       [0.10681475],\n",
              "       [0.10898684],\n",
              "       [0.11338565],\n",
              "       [0.11494983],\n",
              "       [0.10616586],\n",
              "       [0.11301681],\n",
              "       [0.11412334],\n",
              "       [0.11498398],\n",
              "       [0.08421276],\n",
              "       [0.08193138],\n",
              "       [0.07419247],\n",
              "       [0.07687001],\n",
              "       [0.08064725],\n",
              "       [0.08019644],\n",
              "       [0.08093413],\n",
              "       [0.08865939],\n",
              "       [0.08746405],\n",
              "       [0.09100906],\n",
              "       [0.09147354],\n",
              "       [0.09725211],\n",
              "       [0.09443113],\n",
              "       [0.08779875],\n",
              "       [0.08663074],\n",
              "       [0.09143938],\n",
              "       [0.09073585],\n",
              "       [0.08824956],\n",
              "       [0.08524415],\n",
              "       [0.08805147],\n",
              "       [0.08652145],\n",
              "       [0.08441767],\n",
              "       [0.07667876],\n",
              "       [0.07905576],\n",
              "       [0.08182892],\n",
              "       [0.08120735],\n",
              "       [0.09273717],\n",
              "       [0.09624803],\n",
              "       [0.0791104 ],\n",
              "       [0.07266928],\n",
              "       [0.06664481],\n",
              "       [0.0664399 ],\n",
              "       [0.06667896],\n",
              "       [0.07183596],\n",
              "       [0.07646701],\n",
              "       [0.07130318],\n",
              "       [0.07512824],\n",
              "       [0.07581129],\n",
              "       [0.06588663],\n",
              "       [0.06182933],\n",
              "       [0.06044958],\n",
              "       [0.06463665],\n",
              "       [0.06492353],\n",
              "       [0.05844143],\n",
              "       [0.05563411],\n",
              "       [0.06065449],\n",
              "       [0.0654768 ],\n",
              "       [0.06806555],\n",
              "       [0.06891252],\n",
              "       [0.07527851],\n",
              "       [0.07302446],\n",
              "       [0.07707492],\n",
              "       [0.06066133],\n",
              "       [0.0655656 ],\n",
              "       [0.06436344],\n",
              "       [0.06375552],\n",
              "       [0.06631695],\n",
              "       [0.06109847],\n",
              "       [0.06060668],\n",
              "       [0.05970506],\n",
              "       [0.06447272],\n",
              "       [0.06301783],\n",
              "       [0.06440442],\n",
              "       [0.0572256 ],\n",
              "       [0.05801111],\n",
              "       [0.05443194],\n",
              "       [0.04689795],\n",
              "       [0.0383667 ],\n",
              "       [0.04269038],\n",
              "       [0.04079151],\n",
              "       [0.03759486],\n",
              "       [0.04448679],\n",
              "       [0.05195249],\n",
              "       [0.05216423],\n",
              "       [0.04650861],\n",
              "       [0.04499225],\n",
              "       [0.04303874],\n",
              "       [0.04135844],\n",
              "       [0.03281354],\n",
              "       [0.03643368],\n",
              "       [0.03618778],\n",
              "       [0.03371516],\n",
              "       [0.02189846],\n",
              "       [0.01802559],\n",
              "       [0.01783433],\n",
              "       [0.00939871],\n",
              "       [0.01128392],\n",
              "       [0.00796432],\n",
              "       [0.00664604],\n",
              "       [0.00743837],\n",
              "       [0.00631818],\n",
              "       [0.00422806],\n",
              "       [0.        ],\n",
              "       [0.00999296],\n",
              "       [0.01203527],\n",
              "       [0.01842858],\n",
              "       [0.01743817],\n",
              "       [0.02316209],\n",
              "       [0.02604455],\n",
              "       [0.02068947],\n",
              "       [0.02386563],\n",
              "       [0.02455551],\n",
              "       [0.0314611 ],\n",
              "       [0.03126302],\n",
              "       [0.03241737],\n",
              "       [0.02776582],\n",
              "       [0.02929585],\n",
              "       [0.03051167],\n",
              "       [0.02786145],\n",
              "       [0.02752676],\n",
              "       [0.02996523],\n",
              "       [0.03038872],\n",
              "       [0.03292282],\n",
              "       [0.03113324]])"
            ]
          },
          "metadata": {
            "tags": []
          },
          "execution_count": 71
        }
      ]
    },
    {
      "cell_type": "code",
      "metadata": {
        "id": "Hy56wsb9iXzX",
        "colab_type": "code",
        "colab": {
          "base_uri": "https://localhost:8080/",
          "height": 206
        },
        "outputId": "58a01813-b135-4275-c844-8789ca44e444"
      },
      "source": [
        "pd.DataFrame(test_data).head()"
      ],
      "execution_count": 72,
      "outputs": [
        {
          "output_type": "execute_result",
          "data": {
            "text/html": [
              "<div>\n",
              "<style scoped>\n",
              "    .dataframe tbody tr th:only-of-type {\n",
              "        vertical-align: middle;\n",
              "    }\n",
              "\n",
              "    .dataframe tbody tr th {\n",
              "        vertical-align: top;\n",
              "    }\n",
              "\n",
              "    .dataframe thead th {\n",
              "        text-align: right;\n",
              "    }\n",
              "</style>\n",
              "<table border=\"1\" class=\"dataframe\">\n",
              "  <thead>\n",
              "    <tr style=\"text-align: right;\">\n",
              "      <th></th>\n",
              "      <th>0</th>\n",
              "    </tr>\n",
              "  </thead>\n",
              "  <tbody>\n",
              "    <tr>\n",
              "      <th>0</th>\n",
              "      <td>0.038203</td>\n",
              "    </tr>\n",
              "    <tr>\n",
              "      <th>1</th>\n",
              "      <td>0.036973</td>\n",
              "    </tr>\n",
              "    <tr>\n",
              "      <th>2</th>\n",
              "      <td>0.035088</td>\n",
              "    </tr>\n",
              "    <tr>\n",
              "      <th>3</th>\n",
              "      <td>0.034897</td>\n",
              "    </tr>\n",
              "    <tr>\n",
              "      <th>4</th>\n",
              "      <td>0.040949</td>\n",
              "    </tr>\n",
              "  </tbody>\n",
              "</table>\n",
              "</div>"
            ],
            "text/plain": [
              "          0\n",
              "0  0.038203\n",
              "1  0.036973\n",
              "2  0.035088\n",
              "3  0.034897\n",
              "4  0.040949"
            ]
          },
          "metadata": {
            "tags": []
          },
          "execution_count": 72
        }
      ]
    },
    {
      "cell_type": "markdown",
      "metadata": {
        "id": "FRnzNaiziXzg",
        "colab_type": "text"
      },
      "source": [
        "## Creating array of independent and dependent variables(X_train, y_train, X_test, y_test)"
      ]
    },
    {
      "cell_type": "code",
      "metadata": {
        "id": "MV_XdEPPiXzh",
        "colab_type": "code",
        "colab": {}
      },
      "source": [
        "def create_dataset(dataset, time_step=1):\n",
        "  dataX, dataY = [], []\n",
        "  for i in range(len(dataset)-time_step-1):\n",
        "    a = dataset[i:(i+time_step), 0]\n",
        "    dataX.append(a)\n",
        "    dataY.append(dataset[(i+time_step), 0])\n",
        "  return np.array(dataX), np.array(dataY)"
      ],
      "execution_count": 73,
      "outputs": []
    },
    {
      "cell_type": "code",
      "metadata": {
        "id": "mGEJ6mEGiXzr",
        "colab_type": "code",
        "colab": {}
      },
      "source": [
        "time_step = 50\n",
        "X_train, y_train = create_dataset(train_data, time_step)\n",
        "X_test, y_test = create_dataset(test_data, time_step)"
      ],
      "execution_count": 74,
      "outputs": []
    },
    {
      "cell_type": "code",
      "metadata": {
        "id": "XOT7dQkCiXzz",
        "colab_type": "code",
        "colab": {
          "base_uri": "https://localhost:8080/",
          "height": 243
        },
        "outputId": "1e968c05-7482-45dc-da3d-17042591d29a"
      },
      "source": [
        "X_train"
      ],
      "execution_count": 75,
      "outputs": [
        {
          "output_type": "execute_result",
          "data": {
            "text/plain": [
              "array([[0.10206758, 0.11171219, 0.1097177 , ..., 0.11065347, 0.1097177 ,\n",
              "        0.11074227],\n",
              "       [0.11171219, 0.1097177 , 0.11262064, ..., 0.1097177 , 0.11074227,\n",
              "        0.11103598],\n",
              "       [0.1097177 , 0.11262064, 0.10620684, ..., 0.11074227, 0.11103598,\n",
              "        0.11555091],\n",
              "       ...,\n",
              "       [0.06447272, 0.06301783, 0.06440442, ..., 0.03051167, 0.02786145,\n",
              "        0.02752676],\n",
              "       [0.06301783, 0.06440442, 0.0572256 , ..., 0.02786145, 0.02752676,\n",
              "        0.02996523],\n",
              "       [0.06440442, 0.0572256 , 0.05801111, ..., 0.02752676, 0.02996523,\n",
              "        0.03038872]])"
            ]
          },
          "metadata": {
            "tags": []
          },
          "execution_count": 75
        }
      ]
    },
    {
      "cell_type": "code",
      "metadata": {
        "id": "C95auSN-iXz6",
        "colab_type": "code",
        "colab": {
          "base_uri": "https://localhost:8080/",
          "height": 34
        },
        "outputId": "da879324-26c9-41ae-828b-b674284092b8"
      },
      "source": [
        "print(X_train.shape)"
      ],
      "execution_count": 76,
      "outputs": [
        {
          "output_type": "stream",
          "text": [
            "(439, 50)\n"
          ],
          "name": "stdout"
        }
      ]
    },
    {
      "cell_type": "code",
      "metadata": {
        "id": "mjxHB3PEiX0A",
        "colab_type": "code",
        "colab": {
          "base_uri": "https://localhost:8080/",
          "height": 206
        },
        "outputId": "d844266c-2c77-44d0-d2b2-2cc8b2529b42"
      },
      "source": [
        "pd.DataFrame(y_train).head()"
      ],
      "execution_count": 77,
      "outputs": [
        {
          "output_type": "execute_result",
          "data": {
            "text/html": [
              "<div>\n",
              "<style scoped>\n",
              "    .dataframe tbody tr th:only-of-type {\n",
              "        vertical-align: middle;\n",
              "    }\n",
              "\n",
              "    .dataframe tbody tr th {\n",
              "        vertical-align: top;\n",
              "    }\n",
              "\n",
              "    .dataframe thead th {\n",
              "        text-align: right;\n",
              "    }\n",
              "</style>\n",
              "<table border=\"1\" class=\"dataframe\">\n",
              "  <thead>\n",
              "    <tr style=\"text-align: right;\">\n",
              "      <th></th>\n",
              "      <th>0</th>\n",
              "    </tr>\n",
              "  </thead>\n",
              "  <tbody>\n",
              "    <tr>\n",
              "      <th>0</th>\n",
              "      <td>0.111036</td>\n",
              "    </tr>\n",
              "    <tr>\n",
              "      <th>1</th>\n",
              "      <td>0.115551</td>\n",
              "    </tr>\n",
              "    <tr>\n",
              "      <th>2</th>\n",
              "      <td>0.120243</td>\n",
              "    </tr>\n",
              "    <tr>\n",
              "      <th>3</th>\n",
              "      <td>0.120462</td>\n",
              "    </tr>\n",
              "    <tr>\n",
              "      <th>4</th>\n",
              "      <td>0.121521</td>\n",
              "    </tr>\n",
              "  </tbody>\n",
              "</table>\n",
              "</div>"
            ],
            "text/plain": [
              "          0\n",
              "0  0.111036\n",
              "1  0.115551\n",
              "2  0.120243\n",
              "3  0.120462\n",
              "4  0.121521"
            ]
          },
          "metadata": {
            "tags": []
          },
          "execution_count": 77
        }
      ]
    },
    {
      "cell_type": "code",
      "metadata": {
        "id": "rWgYe6eTiX0I",
        "colab_type": "code",
        "colab": {
          "base_uri": "https://localhost:8080/",
          "height": 226
        },
        "outputId": "6a242601-42d4-4ac3-bf42-fd5a0135608d"
      },
      "source": [
        "pd.DataFrame(X_test).head()"
      ],
      "execution_count": 78,
      "outputs": [
        {
          "output_type": "execute_result",
          "data": {
            "text/html": [
              "<div>\n",
              "<style scoped>\n",
              "    .dataframe tbody tr th:only-of-type {\n",
              "        vertical-align: middle;\n",
              "    }\n",
              "\n",
              "    .dataframe tbody tr th {\n",
              "        vertical-align: top;\n",
              "    }\n",
              "\n",
              "    .dataframe thead th {\n",
              "        text-align: right;\n",
              "    }\n",
              "</style>\n",
              "<table border=\"1\" class=\"dataframe\">\n",
              "  <thead>\n",
              "    <tr style=\"text-align: right;\">\n",
              "      <th></th>\n",
              "      <th>0</th>\n",
              "      <th>1</th>\n",
              "      <th>2</th>\n",
              "      <th>3</th>\n",
              "      <th>4</th>\n",
              "      <th>5</th>\n",
              "      <th>6</th>\n",
              "      <th>7</th>\n",
              "      <th>8</th>\n",
              "      <th>9</th>\n",
              "      <th>10</th>\n",
              "      <th>11</th>\n",
              "      <th>12</th>\n",
              "      <th>13</th>\n",
              "      <th>14</th>\n",
              "      <th>15</th>\n",
              "      <th>16</th>\n",
              "      <th>17</th>\n",
              "      <th>18</th>\n",
              "      <th>19</th>\n",
              "      <th>20</th>\n",
              "      <th>21</th>\n",
              "      <th>22</th>\n",
              "      <th>23</th>\n",
              "      <th>24</th>\n",
              "      <th>25</th>\n",
              "      <th>26</th>\n",
              "      <th>27</th>\n",
              "      <th>28</th>\n",
              "      <th>29</th>\n",
              "      <th>30</th>\n",
              "      <th>31</th>\n",
              "      <th>32</th>\n",
              "      <th>33</th>\n",
              "      <th>34</th>\n",
              "      <th>35</th>\n",
              "      <th>36</th>\n",
              "      <th>37</th>\n",
              "      <th>38</th>\n",
              "      <th>39</th>\n",
              "      <th>40</th>\n",
              "      <th>41</th>\n",
              "      <th>42</th>\n",
              "      <th>43</th>\n",
              "      <th>44</th>\n",
              "      <th>45</th>\n",
              "      <th>46</th>\n",
              "      <th>47</th>\n",
              "      <th>48</th>\n",
              "      <th>49</th>\n",
              "    </tr>\n",
              "  </thead>\n",
              "  <tbody>\n",
              "    <tr>\n",
              "      <th>0</th>\n",
              "      <td>0.038203</td>\n",
              "      <td>0.036973</td>\n",
              "      <td>0.035088</td>\n",
              "      <td>0.034897</td>\n",
              "      <td>0.040949</td>\n",
              "      <td>0.040730</td>\n",
              "      <td>0.045156</td>\n",
              "      <td>0.050907</td>\n",
              "      <td>0.050142</td>\n",
              "      <td>0.051836</td>\n",
              "      <td>0.050935</td>\n",
              "      <td>0.054104</td>\n",
              "      <td>0.052396</td>\n",
              "      <td>0.055463</td>\n",
              "      <td>0.058680</td>\n",
              "      <td>0.034050</td>\n",
              "      <td>0.033517</td>\n",
              "      <td>0.038797</td>\n",
              "      <td>0.043230</td>\n",
              "      <td>0.042786</td>\n",
              "      <td>0.037486</td>\n",
              "      <td>0.037820</td>\n",
              "      <td>0.033708</td>\n",
              "      <td>0.035368</td>\n",
              "      <td>0.037192</td>\n",
              "      <td>0.040525</td>\n",
              "      <td>0.038278</td>\n",
              "      <td>0.034180</td>\n",
              "      <td>0.038271</td>\n",
              "      <td>0.027766</td>\n",
              "      <td>0.025047</td>\n",
              "      <td>0.027984</td>\n",
              "      <td>0.032691</td>\n",
              "      <td>0.032028</td>\n",
              "      <td>0.028592</td>\n",
              "      <td>0.029494</td>\n",
              "      <td>0.022151</td>\n",
              "      <td>0.024610</td>\n",
              "      <td>0.023982</td>\n",
              "      <td>0.025013</td>\n",
              "      <td>0.029193</td>\n",
              "      <td>0.031857</td>\n",
              "      <td>0.031447</td>\n",
              "      <td>0.028490</td>\n",
              "      <td>0.034569</td>\n",
              "      <td>0.033114</td>\n",
              "      <td>0.036078</td>\n",
              "      <td>0.038640</td>\n",
              "      <td>0.046536</td>\n",
              "      <td>0.045696</td>\n",
              "    </tr>\n",
              "    <tr>\n",
              "      <th>1</th>\n",
              "      <td>0.036973</td>\n",
              "      <td>0.035088</td>\n",
              "      <td>0.034897</td>\n",
              "      <td>0.040949</td>\n",
              "      <td>0.040730</td>\n",
              "      <td>0.045156</td>\n",
              "      <td>0.050907</td>\n",
              "      <td>0.050142</td>\n",
              "      <td>0.051836</td>\n",
              "      <td>0.050935</td>\n",
              "      <td>0.054104</td>\n",
              "      <td>0.052396</td>\n",
              "      <td>0.055463</td>\n",
              "      <td>0.058680</td>\n",
              "      <td>0.034050</td>\n",
              "      <td>0.033517</td>\n",
              "      <td>0.038797</td>\n",
              "      <td>0.043230</td>\n",
              "      <td>0.042786</td>\n",
              "      <td>0.037486</td>\n",
              "      <td>0.037820</td>\n",
              "      <td>0.033708</td>\n",
              "      <td>0.035368</td>\n",
              "      <td>0.037192</td>\n",
              "      <td>0.040525</td>\n",
              "      <td>0.038278</td>\n",
              "      <td>0.034180</td>\n",
              "      <td>0.038271</td>\n",
              "      <td>0.027766</td>\n",
              "      <td>0.025047</td>\n",
              "      <td>0.027984</td>\n",
              "      <td>0.032691</td>\n",
              "      <td>0.032028</td>\n",
              "      <td>0.028592</td>\n",
              "      <td>0.029494</td>\n",
              "      <td>0.022151</td>\n",
              "      <td>0.024610</td>\n",
              "      <td>0.023982</td>\n",
              "      <td>0.025013</td>\n",
              "      <td>0.029193</td>\n",
              "      <td>0.031857</td>\n",
              "      <td>0.031447</td>\n",
              "      <td>0.028490</td>\n",
              "      <td>0.034569</td>\n",
              "      <td>0.033114</td>\n",
              "      <td>0.036078</td>\n",
              "      <td>0.038640</td>\n",
              "      <td>0.046536</td>\n",
              "      <td>0.045696</td>\n",
              "      <td>0.045238</td>\n",
              "    </tr>\n",
              "    <tr>\n",
              "      <th>2</th>\n",
              "      <td>0.035088</td>\n",
              "      <td>0.034897</td>\n",
              "      <td>0.040949</td>\n",
              "      <td>0.040730</td>\n",
              "      <td>0.045156</td>\n",
              "      <td>0.050907</td>\n",
              "      <td>0.050142</td>\n",
              "      <td>0.051836</td>\n",
              "      <td>0.050935</td>\n",
              "      <td>0.054104</td>\n",
              "      <td>0.052396</td>\n",
              "      <td>0.055463</td>\n",
              "      <td>0.058680</td>\n",
              "      <td>0.034050</td>\n",
              "      <td>0.033517</td>\n",
              "      <td>0.038797</td>\n",
              "      <td>0.043230</td>\n",
              "      <td>0.042786</td>\n",
              "      <td>0.037486</td>\n",
              "      <td>0.037820</td>\n",
              "      <td>0.033708</td>\n",
              "      <td>0.035368</td>\n",
              "      <td>0.037192</td>\n",
              "      <td>0.040525</td>\n",
              "      <td>0.038278</td>\n",
              "      <td>0.034180</td>\n",
              "      <td>0.038271</td>\n",
              "      <td>0.027766</td>\n",
              "      <td>0.025047</td>\n",
              "      <td>0.027984</td>\n",
              "      <td>0.032691</td>\n",
              "      <td>0.032028</td>\n",
              "      <td>0.028592</td>\n",
              "      <td>0.029494</td>\n",
              "      <td>0.022151</td>\n",
              "      <td>0.024610</td>\n",
              "      <td>0.023982</td>\n",
              "      <td>0.025013</td>\n",
              "      <td>0.029193</td>\n",
              "      <td>0.031857</td>\n",
              "      <td>0.031447</td>\n",
              "      <td>0.028490</td>\n",
              "      <td>0.034569</td>\n",
              "      <td>0.033114</td>\n",
              "      <td>0.036078</td>\n",
              "      <td>0.038640</td>\n",
              "      <td>0.046536</td>\n",
              "      <td>0.045696</td>\n",
              "      <td>0.045238</td>\n",
              "      <td>0.043606</td>\n",
              "    </tr>\n",
              "    <tr>\n",
              "      <th>3</th>\n",
              "      <td>0.034897</td>\n",
              "      <td>0.040949</td>\n",
              "      <td>0.040730</td>\n",
              "      <td>0.045156</td>\n",
              "      <td>0.050907</td>\n",
              "      <td>0.050142</td>\n",
              "      <td>0.051836</td>\n",
              "      <td>0.050935</td>\n",
              "      <td>0.054104</td>\n",
              "      <td>0.052396</td>\n",
              "      <td>0.055463</td>\n",
              "      <td>0.058680</td>\n",
              "      <td>0.034050</td>\n",
              "      <td>0.033517</td>\n",
              "      <td>0.038797</td>\n",
              "      <td>0.043230</td>\n",
              "      <td>0.042786</td>\n",
              "      <td>0.037486</td>\n",
              "      <td>0.037820</td>\n",
              "      <td>0.033708</td>\n",
              "      <td>0.035368</td>\n",
              "      <td>0.037192</td>\n",
              "      <td>0.040525</td>\n",
              "      <td>0.038278</td>\n",
              "      <td>0.034180</td>\n",
              "      <td>0.038271</td>\n",
              "      <td>0.027766</td>\n",
              "      <td>0.025047</td>\n",
              "      <td>0.027984</td>\n",
              "      <td>0.032691</td>\n",
              "      <td>0.032028</td>\n",
              "      <td>0.028592</td>\n",
              "      <td>0.029494</td>\n",
              "      <td>0.022151</td>\n",
              "      <td>0.024610</td>\n",
              "      <td>0.023982</td>\n",
              "      <td>0.025013</td>\n",
              "      <td>0.029193</td>\n",
              "      <td>0.031857</td>\n",
              "      <td>0.031447</td>\n",
              "      <td>0.028490</td>\n",
              "      <td>0.034569</td>\n",
              "      <td>0.033114</td>\n",
              "      <td>0.036078</td>\n",
              "      <td>0.038640</td>\n",
              "      <td>0.046536</td>\n",
              "      <td>0.045696</td>\n",
              "      <td>0.045238</td>\n",
              "      <td>0.043606</td>\n",
              "      <td>0.044958</td>\n",
              "    </tr>\n",
              "    <tr>\n",
              "      <th>4</th>\n",
              "      <td>0.040949</td>\n",
              "      <td>0.040730</td>\n",
              "      <td>0.045156</td>\n",
              "      <td>0.050907</td>\n",
              "      <td>0.050142</td>\n",
              "      <td>0.051836</td>\n",
              "      <td>0.050935</td>\n",
              "      <td>0.054104</td>\n",
              "      <td>0.052396</td>\n",
              "      <td>0.055463</td>\n",
              "      <td>0.058680</td>\n",
              "      <td>0.034050</td>\n",
              "      <td>0.033517</td>\n",
              "      <td>0.038797</td>\n",
              "      <td>0.043230</td>\n",
              "      <td>0.042786</td>\n",
              "      <td>0.037486</td>\n",
              "      <td>0.037820</td>\n",
              "      <td>0.033708</td>\n",
              "      <td>0.035368</td>\n",
              "      <td>0.037192</td>\n",
              "      <td>0.040525</td>\n",
              "      <td>0.038278</td>\n",
              "      <td>0.034180</td>\n",
              "      <td>0.038271</td>\n",
              "      <td>0.027766</td>\n",
              "      <td>0.025047</td>\n",
              "      <td>0.027984</td>\n",
              "      <td>0.032691</td>\n",
              "      <td>0.032028</td>\n",
              "      <td>0.028592</td>\n",
              "      <td>0.029494</td>\n",
              "      <td>0.022151</td>\n",
              "      <td>0.024610</td>\n",
              "      <td>0.023982</td>\n",
              "      <td>0.025013</td>\n",
              "      <td>0.029193</td>\n",
              "      <td>0.031857</td>\n",
              "      <td>0.031447</td>\n",
              "      <td>0.028490</td>\n",
              "      <td>0.034569</td>\n",
              "      <td>0.033114</td>\n",
              "      <td>0.036078</td>\n",
              "      <td>0.038640</td>\n",
              "      <td>0.046536</td>\n",
              "      <td>0.045696</td>\n",
              "      <td>0.045238</td>\n",
              "      <td>0.043606</td>\n",
              "      <td>0.044958</td>\n",
              "      <td>0.044070</td>\n",
              "    </tr>\n",
              "  </tbody>\n",
              "</table>\n",
              "</div>"
            ],
            "text/plain": [
              "         0         1         2   ...        47        48        49\n",
              "0  0.038203  0.036973  0.035088  ...  0.038640  0.046536  0.045696\n",
              "1  0.036973  0.035088  0.034897  ...  0.046536  0.045696  0.045238\n",
              "2  0.035088  0.034897  0.040949  ...  0.045696  0.045238  0.043606\n",
              "3  0.034897  0.040949  0.040730  ...  0.045238  0.043606  0.044958\n",
              "4  0.040949  0.040730  0.045156  ...  0.043606  0.044958  0.044070\n",
              "\n",
              "[5 rows x 50 columns]"
            ]
          },
          "metadata": {
            "tags": []
          },
          "execution_count": 78
        }
      ]
    },
    {
      "cell_type": "code",
      "metadata": {
        "id": "mXg_5VPLiX0R",
        "colab_type": "code",
        "colab": {
          "base_uri": "https://localhost:8080/",
          "height": 206
        },
        "outputId": "927ad0bc-19d8-425f-d14b-eacc9419bc39"
      },
      "source": [
        "pd.DataFrame(y_test).head()"
      ],
      "execution_count": 79,
      "outputs": [
        {
          "output_type": "execute_result",
          "data": {
            "text/html": [
              "<div>\n",
              "<style scoped>\n",
              "    .dataframe tbody tr th:only-of-type {\n",
              "        vertical-align: middle;\n",
              "    }\n",
              "\n",
              "    .dataframe tbody tr th {\n",
              "        vertical-align: top;\n",
              "    }\n",
              "\n",
              "    .dataframe thead th {\n",
              "        text-align: right;\n",
              "    }\n",
              "</style>\n",
              "<table border=\"1\" class=\"dataframe\">\n",
              "  <thead>\n",
              "    <tr style=\"text-align: right;\">\n",
              "      <th></th>\n",
              "      <th>0</th>\n",
              "    </tr>\n",
              "  </thead>\n",
              "  <tbody>\n",
              "    <tr>\n",
              "      <th>0</th>\n",
              "      <td>0.045238</td>\n",
              "    </tr>\n",
              "    <tr>\n",
              "      <th>1</th>\n",
              "      <td>0.043606</td>\n",
              "    </tr>\n",
              "    <tr>\n",
              "      <th>2</th>\n",
              "      <td>0.044958</td>\n",
              "    </tr>\n",
              "    <tr>\n",
              "      <th>3</th>\n",
              "      <td>0.044070</td>\n",
              "    </tr>\n",
              "    <tr>\n",
              "      <th>4</th>\n",
              "      <td>0.046194</td>\n",
              "    </tr>\n",
              "  </tbody>\n",
              "</table>\n",
              "</div>"
            ],
            "text/plain": [
              "          0\n",
              "0  0.045238\n",
              "1  0.043606\n",
              "2  0.044958\n",
              "3  0.044070\n",
              "4  0.046194"
            ]
          },
          "metadata": {
            "tags": []
          },
          "execution_count": 79
        }
      ]
    },
    {
      "cell_type": "markdown",
      "metadata": {
        "id": "syshjIcX4Sck",
        "colab_type": "text"
      },
      "source": [
        "# Creating LSTM model"
      ]
    },
    {
      "cell_type": "markdown",
      "metadata": {
        "id": "qAi5qSnG0rZs",
        "colab_type": "text"
      },
      "source": [
        "## Reshaping X_train and X_test into 3D arrays"
      ]
    },
    {
      "cell_type": "code",
      "metadata": {
        "id": "4tupRye8iX0X",
        "colab_type": "code",
        "colab": {
          "base_uri": "https://localhost:8080/",
          "height": 34
        },
        "outputId": "658fc0a9-62f0-45a5-cae0-50d3228cccd7"
      },
      "source": [
        "X_train = X_train.reshape(X_train.shape[0], X_train.shape[1], 1)\n",
        "X_test = X_test.reshape(X_test.shape[0], X_test.shape[1], 1)\n",
        "print(X_train.shape)"
      ],
      "execution_count": 80,
      "outputs": [
        {
          "output_type": "stream",
          "text": [
            "(439, 50, 1)\n"
          ],
          "name": "stdout"
        }
      ]
    },
    {
      "cell_type": "code",
      "metadata": {
        "id": "4sAM5Dn35kfY",
        "colab_type": "code",
        "colab": {
          "base_uri": "https://localhost:8080/",
          "height": 868
        },
        "outputId": "4b268516-7ecf-444d-fb70-3e47e1a76715"
      },
      "source": [
        "print(X_train)"
      ],
      "execution_count": 81,
      "outputs": [
        {
          "output_type": "stream",
          "text": [
            "[[[0.10206758]\n",
            "  [0.11171219]\n",
            "  [0.1097177 ]\n",
            "  ...\n",
            "  [0.11065347]\n",
            "  [0.1097177 ]\n",
            "  [0.11074227]]\n",
            "\n",
            " [[0.11171219]\n",
            "  [0.1097177 ]\n",
            "  [0.11262064]\n",
            "  ...\n",
            "  [0.1097177 ]\n",
            "  [0.11074227]\n",
            "  [0.11103598]]\n",
            "\n",
            " [[0.1097177 ]\n",
            "  [0.11262064]\n",
            "  [0.10620684]\n",
            "  ...\n",
            "  [0.11074227]\n",
            "  [0.11103598]\n",
            "  [0.11555091]]\n",
            "\n",
            " ...\n",
            "\n",
            " [[0.06447272]\n",
            "  [0.06301783]\n",
            "  [0.06440442]\n",
            "  ...\n",
            "  [0.03051167]\n",
            "  [0.02786145]\n",
            "  [0.02752676]]\n",
            "\n",
            " [[0.06301783]\n",
            "  [0.06440442]\n",
            "  [0.0572256 ]\n",
            "  ...\n",
            "  [0.02786145]\n",
            "  [0.02752676]\n",
            "  [0.02996523]]\n",
            "\n",
            " [[0.06440442]\n",
            "  [0.0572256 ]\n",
            "  [0.05801111]\n",
            "  ...\n",
            "  [0.02752676]\n",
            "  [0.02996523]\n",
            "  [0.03038872]]]\n"
          ],
          "name": "stdout"
        }
      ]
    },
    {
      "cell_type": "markdown",
      "metadata": {
        "id": "gAJ_JE-l94KJ",
        "colab_type": "text"
      },
      "source": [
        "## Creating a sequential model"
      ]
    },
    {
      "cell_type": "code",
      "metadata": {
        "id": "fsUcUwfWiX0k",
        "colab_type": "code",
        "colab": {
          "base_uri": "https://localhost:8080/",
          "height": 72
        },
        "outputId": "c1d31a3e-9e38-42b3-9ca3-6c1f5803da36"
      },
      "source": [
        "model = Sequential([\n",
        "          LSTM(50, return_sequences=True, input_shape=(100,1)),\n",
        "          LSTM(50, return_sequences=True, activation='relu'),\n",
        "          LSTM(50, activation='relu'),\n",
        "          Dense(1, activation='linear')\n",
        "])\n",
        "model.compile(loss='mean_squared_error', optimizer='adam')"
      ],
      "execution_count": 82,
      "outputs": [
        {
          "output_type": "stream",
          "text": [
            "WARNING:tensorflow:Layer lstm_4 will not use cuDNN kernel since it doesn't meet the cuDNN kernel criteria. It will use generic GPU kernel as fallback when running on GPU\n",
            "WARNING:tensorflow:Layer lstm_5 will not use cuDNN kernel since it doesn't meet the cuDNN kernel criteria. It will use generic GPU kernel as fallback when running on GPU\n"
          ],
          "name": "stdout"
        }
      ]
    },
    {
      "cell_type": "code",
      "metadata": {
        "id": "lixMBM9AiX0r",
        "colab_type": "code",
        "colab": {
          "base_uri": "https://localhost:8080/",
          "height": 295
        },
        "outputId": "87648c5d-114d-47e5-aa12-c4c3eb459711"
      },
      "source": [
        "model.summary()"
      ],
      "execution_count": 83,
      "outputs": [
        {
          "output_type": "stream",
          "text": [
            "Model: \"sequential_1\"\n",
            "_________________________________________________________________\n",
            "Layer (type)                 Output Shape              Param #   \n",
            "=================================================================\n",
            "lstm_3 (LSTM)                (None, 100, 50)           10400     \n",
            "_________________________________________________________________\n",
            "lstm_4 (LSTM)                (None, 100, 50)           20200     \n",
            "_________________________________________________________________\n",
            "lstm_5 (LSTM)                (None, 50)                20200     \n",
            "_________________________________________________________________\n",
            "dense_1 (Dense)              (None, 1)                 51        \n",
            "=================================================================\n",
            "Total params: 50,851\n",
            "Trainable params: 50,851\n",
            "Non-trainable params: 0\n",
            "_________________________________________________________________\n"
          ],
          "name": "stdout"
        }
      ]
    },
    {
      "cell_type": "markdown",
      "metadata": {
        "id": "9Fx95fJcHlbh",
        "colab_type": "text"
      },
      "source": [
        "## Training the sequential model"
      ]
    },
    {
      "cell_type": "code",
      "metadata": {
        "id": "tPgFk1oZiX0y",
        "colab_type": "code",
        "colab": {
          "base_uri": "https://localhost:8080/",
          "height": 1000
        },
        "outputId": "143b1596-ca0c-475a-810f-d7253432a3eb"
      },
      "source": [
        "model.fit(X_train, y_train, validation_data=(X_test, y_test), \n",
        "          epochs=100, batch_size=64, verbose=2)"
      ],
      "execution_count": 84,
      "outputs": [
        {
          "output_type": "stream",
          "text": [
            "Epoch 1/100\n",
            "WARNING:tensorflow:Model was constructed with shape (None, 100, 1) for input Tensor(\"lstm_3_input:0\", shape=(None, 100, 1), dtype=float32), but it was called on an input with incompatible shape (None, 50, 1).\n",
            "WARNING:tensorflow:Model was constructed with shape (None, 100, 1) for input Tensor(\"lstm_3_input:0\", shape=(None, 100, 1), dtype=float32), but it was called on an input with incompatible shape (None, 50, 1).\n",
            "WARNING:tensorflow:Model was constructed with shape (None, 100, 1) for input Tensor(\"lstm_3_input:0\", shape=(None, 100, 1), dtype=float32), but it was called on an input with incompatible shape (None, 50, 1).\n",
            "7/7 - 2s - loss: 0.0037 - val_loss: 0.0530\n",
            "Epoch 2/100\n",
            "7/7 - 1s - loss: 9.5910e-04 - val_loss: 0.0468\n",
            "Epoch 3/100\n",
            "7/7 - 1s - loss: 6.2294e-04 - val_loss: 0.0627\n",
            "Epoch 4/100\n",
            "7/7 - 1s - loss: 5.7813e-04 - val_loss: 0.0507\n",
            "Epoch 5/100\n",
            "7/7 - 2s - loss: 4.7307e-04 - val_loss: 0.0473\n",
            "Epoch 6/100\n",
            "7/7 - 1s - loss: 4.2331e-04 - val_loss: 0.0435\n",
            "Epoch 7/100\n",
            "7/7 - 1s - loss: 3.6535e-04 - val_loss: 0.0376\n",
            "Epoch 8/100\n",
            "7/7 - 1s - loss: 2.9710e-04 - val_loss: 0.0321\n",
            "Epoch 9/100\n",
            "7/7 - 1s - loss: 2.6317e-04 - val_loss: 0.0269\n",
            "Epoch 10/100\n",
            "7/7 - 1s - loss: 2.5401e-04 - val_loss: 0.0253\n",
            "Epoch 11/100\n",
            "7/7 - 1s - loss: 2.4077e-04 - val_loss: 0.0230\n",
            "Epoch 12/100\n",
            "7/7 - 1s - loss: 2.4105e-04 - val_loss: 0.0231\n",
            "Epoch 13/100\n",
            "7/7 - 1s - loss: 2.3811e-04 - val_loss: 0.0231\n",
            "Epoch 14/100\n",
            "7/7 - 1s - loss: 2.3359e-04 - val_loss: 0.0231\n",
            "Epoch 15/100\n",
            "7/7 - 1s - loss: 2.3060e-04 - val_loss: 0.0240\n",
            "Epoch 16/100\n",
            "7/7 - 1s - loss: 2.3880e-04 - val_loss: 0.0239\n",
            "Epoch 17/100\n",
            "7/7 - 1s - loss: 2.4755e-04 - val_loss: 0.0231\n",
            "Epoch 18/100\n",
            "7/7 - 1s - loss: 2.3683e-04 - val_loss: 0.0218\n",
            "Epoch 19/100\n",
            "7/7 - 1s - loss: 2.5951e-04 - val_loss: 0.0226\n",
            "Epoch 20/100\n",
            "7/7 - 1s - loss: 2.4071e-04 - val_loss: 0.0240\n",
            "Epoch 21/100\n",
            "7/7 - 1s - loss: 2.3211e-04 - val_loss: 0.0244\n",
            "Epoch 22/100\n",
            "7/7 - 1s - loss: 2.2024e-04 - val_loss: 0.0245\n",
            "Epoch 23/100\n",
            "7/7 - 1s - loss: 2.3210e-04 - val_loss: 0.0243\n",
            "Epoch 24/100\n",
            "7/7 - 1s - loss: 2.3212e-04 - val_loss: 0.0220\n",
            "Epoch 25/100\n",
            "7/7 - 1s - loss: 2.2484e-04 - val_loss: 0.0221\n",
            "Epoch 26/100\n",
            "7/7 - 2s - loss: 2.2517e-04 - val_loss: 0.0231\n",
            "Epoch 27/100\n",
            "7/7 - 1s - loss: 2.0568e-04 - val_loss: 0.0234\n",
            "Epoch 28/100\n",
            "7/7 - 1s - loss: 2.0487e-04 - val_loss: 0.0225\n",
            "Epoch 29/100\n",
            "7/7 - 1s - loss: 1.9558e-04 - val_loss: 0.0229\n",
            "Epoch 30/100\n",
            "7/7 - 1s - loss: 2.0235e-04 - val_loss: 0.0216\n",
            "Epoch 31/100\n",
            "7/7 - 1s - loss: 1.9698e-04 - val_loss: 0.0218\n",
            "Epoch 32/100\n",
            "7/7 - 1s - loss: 1.9299e-04 - val_loss: 0.0219\n",
            "Epoch 33/100\n",
            "7/7 - 2s - loss: 1.9380e-04 - val_loss: 0.0219\n",
            "Epoch 34/100\n",
            "7/7 - 1s - loss: 1.9122e-04 - val_loss: 0.0209\n",
            "Epoch 35/100\n",
            "7/7 - 1s - loss: 1.9334e-04 - val_loss: 0.0203\n",
            "Epoch 36/100\n",
            "7/7 - 2s - loss: 1.8659e-04 - val_loss: 0.0218\n",
            "Epoch 37/100\n",
            "7/7 - 1s - loss: 1.9081e-04 - val_loss: 0.0226\n",
            "Epoch 38/100\n",
            "7/7 - 1s - loss: 1.9095e-04 - val_loss: 0.0216\n",
            "Epoch 39/100\n",
            "7/7 - 1s - loss: 1.9688e-04 - val_loss: 0.0211\n",
            "Epoch 40/100\n",
            "7/7 - 1s - loss: 1.8553e-04 - val_loss: 0.0218\n",
            "Epoch 41/100\n",
            "7/7 - 1s - loss: 1.8277e-04 - val_loss: 0.0231\n",
            "Epoch 42/100\n",
            "7/7 - 2s - loss: 1.8175e-04 - val_loss: 0.0228\n",
            "Epoch 43/100\n",
            "7/7 - 1s - loss: 1.7866e-04 - val_loss: 0.0219\n",
            "Epoch 44/100\n",
            "7/7 - 1s - loss: 1.8857e-04 - val_loss: 0.0212\n",
            "Epoch 45/100\n",
            "7/7 - 1s - loss: 1.7259e-04 - val_loss: 0.0212\n",
            "Epoch 46/100\n",
            "7/7 - 1s - loss: 1.7564e-04 - val_loss: 0.0208\n",
            "Epoch 47/100\n",
            "7/7 - 1s - loss: 1.6889e-04 - val_loss: 0.0210\n",
            "Epoch 48/100\n",
            "7/7 - 1s - loss: 1.6648e-04 - val_loss: 0.0208\n",
            "Epoch 49/100\n",
            "7/7 - 1s - loss: 1.7003e-04 - val_loss: 0.0202\n",
            "Epoch 50/100\n",
            "7/7 - 1s - loss: 1.6406e-04 - val_loss: 0.0213\n",
            "Epoch 51/100\n",
            "7/7 - 1s - loss: 1.7114e-04 - val_loss: 0.0215\n",
            "Epoch 52/100\n",
            "7/7 - 1s - loss: 1.6851e-04 - val_loss: 0.0204\n",
            "Epoch 53/100\n",
            "7/7 - 1s - loss: 1.5939e-04 - val_loss: 0.0204\n",
            "Epoch 54/100\n",
            "7/7 - 1s - loss: 1.5806e-04 - val_loss: 0.0209\n",
            "Epoch 55/100\n",
            "7/7 - 1s - loss: 1.6453e-04 - val_loss: 0.0204\n",
            "Epoch 56/100\n",
            "7/7 - 1s - loss: 1.5866e-04 - val_loss: 0.0202\n",
            "Epoch 57/100\n",
            "7/7 - 1s - loss: 1.5789e-04 - val_loss: 0.0203\n",
            "Epoch 58/100\n",
            "7/7 - 1s - loss: 1.5413e-04 - val_loss: 0.0197\n",
            "Epoch 59/100\n",
            "7/7 - 1s - loss: 1.5247e-04 - val_loss: 0.0196\n",
            "Epoch 60/100\n",
            "7/7 - 1s - loss: 1.5056e-04 - val_loss: 0.0193\n",
            "Epoch 61/100\n",
            "7/7 - 1s - loss: 1.5394e-04 - val_loss: 0.0187\n",
            "Epoch 62/100\n",
            "7/7 - 1s - loss: 1.4688e-04 - val_loss: 0.0195\n",
            "Epoch 63/100\n",
            "7/7 - 1s - loss: 1.4908e-04 - val_loss: 0.0180\n",
            "Epoch 64/100\n",
            "7/7 - 1s - loss: 1.4526e-04 - val_loss: 0.0186\n",
            "Epoch 65/100\n",
            "7/7 - 1s - loss: 1.4356e-04 - val_loss: 0.0173\n",
            "Epoch 66/100\n",
            "7/7 - 1s - loss: 1.5764e-04 - val_loss: 0.0162\n",
            "Epoch 67/100\n",
            "7/7 - 1s - loss: 1.6588e-04 - val_loss: 0.0170\n",
            "Epoch 68/100\n",
            "7/7 - 1s - loss: 1.5322e-04 - val_loss: 0.0178\n",
            "Epoch 69/100\n",
            "7/7 - 1s - loss: 1.4294e-04 - val_loss: 0.0183\n",
            "Epoch 70/100\n",
            "7/7 - 1s - loss: 1.4244e-04 - val_loss: 0.0174\n",
            "Epoch 71/100\n",
            "7/7 - 2s - loss: 1.3877e-04 - val_loss: 0.0174\n",
            "Epoch 72/100\n",
            "7/7 - 2s - loss: 1.4032e-04 - val_loss: 0.0169\n",
            "Epoch 73/100\n",
            "7/7 - 1s - loss: 1.3804e-04 - val_loss: 0.0161\n",
            "Epoch 74/100\n",
            "7/7 - 1s - loss: 1.4295e-04 - val_loss: 0.0160\n",
            "Epoch 75/100\n",
            "7/7 - 1s - loss: 1.4738e-04 - val_loss: 0.0155\n",
            "Epoch 76/100\n",
            "7/7 - 1s - loss: 1.4615e-04 - val_loss: 0.0160\n",
            "Epoch 77/100\n",
            "7/7 - 1s - loss: 1.4410e-04 - val_loss: 0.0168\n",
            "Epoch 78/100\n",
            "7/7 - 1s - loss: 1.3800e-04 - val_loss: 0.0174\n",
            "Epoch 79/100\n",
            "7/7 - 1s - loss: 1.4511e-04 - val_loss: 0.0155\n",
            "Epoch 80/100\n",
            "7/7 - 1s - loss: 1.3691e-04 - val_loss: 0.0141\n",
            "Epoch 81/100\n",
            "7/7 - 1s - loss: 1.3478e-04 - val_loss: 0.0151\n",
            "Epoch 82/100\n",
            "7/7 - 1s - loss: 1.2964e-04 - val_loss: 0.0150\n",
            "Epoch 83/100\n",
            "7/7 - 1s - loss: 1.3004e-04 - val_loss: 0.0157\n",
            "Epoch 84/100\n",
            "7/7 - 1s - loss: 1.2324e-04 - val_loss: 0.0159\n",
            "Epoch 85/100\n",
            "7/7 - 1s - loss: 1.2057e-04 - val_loss: 0.0162\n",
            "Epoch 86/100\n",
            "7/7 - 1s - loss: 1.1893e-04 - val_loss: 0.0159\n",
            "Epoch 87/100\n",
            "7/7 - 1s - loss: 1.2028e-04 - val_loss: 0.0162\n",
            "Epoch 88/100\n",
            "7/7 - 1s - loss: 1.2832e-04 - val_loss: 0.0156\n",
            "Epoch 89/100\n",
            "7/7 - 1s - loss: 1.2579e-04 - val_loss: 0.0146\n",
            "Epoch 90/100\n",
            "7/7 - 1s - loss: 1.3144e-04 - val_loss: 0.0148\n",
            "Epoch 91/100\n",
            "7/7 - 1s - loss: 1.1647e-04 - val_loss: 0.0150\n",
            "Epoch 92/100\n",
            "7/7 - 1s - loss: 1.1563e-04 - val_loss: 0.0150\n",
            "Epoch 93/100\n",
            "7/7 - 1s - loss: 1.1385e-04 - val_loss: 0.0153\n",
            "Epoch 94/100\n",
            "7/7 - 1s - loss: 1.1349e-04 - val_loss: 0.0153\n",
            "Epoch 95/100\n",
            "7/7 - 1s - loss: 1.1108e-04 - val_loss: 0.0147\n",
            "Epoch 96/100\n",
            "7/7 - 1s - loss: 1.1085e-04 - val_loss: 0.0145\n",
            "Epoch 97/100\n",
            "7/7 - 1s - loss: 1.1028e-04 - val_loss: 0.0138\n",
            "Epoch 98/100\n",
            "7/7 - 1s - loss: 1.1002e-04 - val_loss: 0.0129\n",
            "Epoch 99/100\n",
            "7/7 - 1s - loss: 1.2450e-04 - val_loss: 0.0130\n",
            "Epoch 100/100\n",
            "7/7 - 1s - loss: 1.1118e-04 - val_loss: 0.0132\n"
          ],
          "name": "stdout"
        },
        {
          "output_type": "execute_result",
          "data": {
            "text/plain": [
              "<tensorflow.python.keras.callbacks.History at 0x7efe1e0cd748>"
            ]
          },
          "metadata": {
            "tags": []
          },
          "execution_count": 84
        }
      ]
    },
    {
      "cell_type": "markdown",
      "metadata": {
        "id": "i74HUh_EDECK",
        "colab_type": "text"
      },
      "source": [
        "## Prediction of training and test sets"
      ]
    },
    {
      "cell_type": "code",
      "metadata": {
        "id": "tpxHquWZiX03",
        "colab_type": "code",
        "colab": {
          "base_uri": "https://localhost:8080/",
          "height": 89
        },
        "outputId": "5b4972ed-1c96-4603-97c0-4930a9a5a9b4"
      },
      "source": [
        "train_pred = model.predict(X_train)\n",
        "test_pred = model.predict(X_test)\n",
        "print(train_pred.shape)\n",
        "print(test_pred.shape)"
      ],
      "execution_count": 85,
      "outputs": [
        {
          "output_type": "stream",
          "text": [
            "WARNING:tensorflow:Model was constructed with shape (None, 100, 1) for input Tensor(\"lstm_3_input:0\", shape=(None, 100, 1), dtype=float32), but it was called on an input with incompatible shape (None, 50, 1).\n",
            "(439, 1)\n",
            "(213, 1)\n"
          ],
          "name": "stdout"
        }
      ]
    },
    {
      "cell_type": "code",
      "metadata": {
        "id": "SF2lPk85iX1A",
        "colab_type": "code",
        "colab": {}
      },
      "source": [
        "train_pred = scaler.inverse_transform(train_pred)\n",
        "test_pred = scaler.inverse_transform(test_pred)"
      ],
      "execution_count": 86,
      "outputs": []
    },
    {
      "cell_type": "markdown",
      "metadata": {
        "id": "r8SqFEQpDQQl",
        "colab_type": "text"
      },
      "source": [
        "# Analysing training and test set results"
      ]
    },
    {
      "cell_type": "code",
      "metadata": {
        "id": "THh8ntISiX1E",
        "colab_type": "code",
        "colab": {
          "base_uri": "https://localhost:8080/",
          "height": 34
        },
        "outputId": "f94e0ded-8181-4b73-f023-528916bd5eee"
      },
      "source": [
        "math.sqrt(mean_squared_error(y_train, train_pred))"
      ],
      "execution_count": 87,
      "outputs": [
        {
          "output_type": "execute_result",
          "data": {
            "text/plain": [
              "311.2688102583682"
            ]
          },
          "metadata": {
            "tags": []
          },
          "execution_count": 87
        }
      ]
    },
    {
      "cell_type": "code",
      "metadata": {
        "id": "5CMytUMQiX1M",
        "colab_type": "code",
        "colab": {
          "base_uri": "https://localhost:8080/",
          "height": 34
        },
        "outputId": "92ba40f2-287d-4e6b-a7d3-2349725bf773"
      },
      "source": [
        "math.sqrt(mean_squared_error(y_test, test_pred))"
      ],
      "execution_count": 88,
      "outputs": [
        {
          "output_type": "execute_result",
          "data": {
            "text/plain": [
              "537.6594516362148"
            ]
          },
          "metadata": {
            "tags": []
          },
          "execution_count": 88
        }
      ]
    },
    {
      "cell_type": "code",
      "metadata": {
        "id": "ALfWwjcuiX1Q",
        "colab_type": "code",
        "colab": {
          "base_uri": "https://localhost:8080/",
          "height": 265
        },
        "outputId": "0d414cc7-6a7c-4f43-8162-c3cfdb3ac64a"
      },
      "source": [
        "y_pred_plot = np.empty_like(df1)\n",
        "y_pred_plot[:, :] = np.nan\n",
        "y_pred_plot[time_step:len(train_pred)+time_step, :] = train_pred\n",
        "y_pred_plot[len(train_pred)+(time_step*2)+1:len(df1)-1, :] = test_pred\n",
        "plt.plot(scaler.inverse_transform(df1))\n",
        "plt.plot(y_pred_plot)\n",
        "plt.show()"
      ],
      "execution_count": 89,
      "outputs": [
        {
          "output_type": "display_data",
          "data": {
            "image/png": "[encoded data removed]",
            "text/plain": [
              "<Figure size 432x288 with 1 Axes>"
            ]
          },
          "metadata": {
            "tags": [],
            "needs_background": "light"
          }
        }
      ]
    },
    {
      "cell_type": "code",
      "metadata": {
        "id": "4ZcMh3BPiX1d",
        "colab_type": "code",
        "colab": {
          "base_uri": "https://localhost:8080/",
          "height": 206
        },
        "outputId": "629311eb-f81f-4afd-dbeb-335bbccca2e4"
      },
      "source": [
        "pd.DataFrame(test_data).tail()"
      ],
      "execution_count": 90,
      "outputs": [
        {
          "output_type": "execute_result",
          "data": {
            "text/html": [
              "<div>\n",
              "<style scoped>\n",
              "    .dataframe tbody tr th:only-of-type {\n",
              "        vertical-align: middle;\n",
              "    }\n",
              "\n",
              "    .dataframe tbody tr th {\n",
              "        vertical-align: top;\n",
              "    }\n",
              "\n",
              "    .dataframe thead th {\n",
              "        text-align: right;\n",
              "    }\n",
              "</style>\n",
              "<table border=\"1\" class=\"dataframe\">\n",
              "  <thead>\n",
              "    <tr style=\"text-align: right;\">\n",
              "      <th></th>\n",
              "      <th>0</th>\n",
              "    </tr>\n",
              "  </thead>\n",
              "  <tbody>\n",
              "    <tr>\n",
              "      <th>259</th>\n",
              "      <td>0.913800</td>\n",
              "    </tr>\n",
              "    <tr>\n",
              "      <th>260</th>\n",
              "      <td>0.933751</td>\n",
              "    </tr>\n",
              "    <tr>\n",
              "      <th>261</th>\n",
              "      <td>0.902762</td>\n",
              "    </tr>\n",
              "    <tr>\n",
              "      <th>262</th>\n",
              "      <td>0.902898</td>\n",
              "    </tr>\n",
              "    <tr>\n",
              "      <th>263</th>\n",
              "      <td>1.000000</td>\n",
              "    </tr>\n",
              "  </tbody>\n",
              "</table>\n",
              "</div>"
            ],
            "text/plain": [
              "            0\n",
              "259  0.913800\n",
              "260  0.933751\n",
              "261  0.902762\n",
              "262  0.902898\n",
              "263  1.000000"
            ]
          },
          "metadata": {
            "tags": []
          },
          "execution_count": 90
        }
      ]
    },
    {
      "cell_type": "code",
      "metadata": {
        "id": "yGtNRf-viX1k",
        "colab_type": "code",
        "colab": {
          "base_uri": "https://localhost:8080/",
          "height": 34
        },
        "outputId": "9aa80d6e-81a0-4b59-d1e2-87d4c5b487e6"
      },
      "source": [
        "X_in = test_data[-100:].reshape(1, -1)\n",
        "X_in.shape"
      ],
      "execution_count": 91,
      "outputs": [
        {
          "output_type": "execute_result",
          "data": {
            "text/plain": [
              "(1, 100)"
            ]
          },
          "metadata": {
            "tags": []
          },
          "execution_count": 91
        }
      ]
    },
    {
      "cell_type": "code",
      "metadata": {
        "id": "yroa6QS0iX1p",
        "colab_type": "code",
        "colab": {}
      },
      "source": [
        "temp_in = list(X_in)\n",
        "temp_in = temp_in[0].tolist()"
      ],
      "execution_count": 92,
      "outputs": []
    },
    {
      "cell_type": "code",
      "metadata": {
        "id": "CaoinndqiX1t",
        "colab_type": "code",
        "colab": {
          "base_uri": "https://localhost:8080/",
          "height": 206
        },
        "outputId": "47062e88-3a39-4b05-8db4-10e73f5af497"
      },
      "source": [
        "pd.DataFrame(temp_in).head()"
      ],
      "execution_count": 93,
      "outputs": [
        {
          "output_type": "execute_result",
          "data": {
            "text/html": [
              "<div>\n",
              "<style scoped>\n",
              "    .dataframe tbody tr th:only-of-type {\n",
              "        vertical-align: middle;\n",
              "    }\n",
              "\n",
              "    .dataframe tbody tr th {\n",
              "        vertical-align: top;\n",
              "    }\n",
              "\n",
              "    .dataframe thead th {\n",
              "        text-align: right;\n",
              "    }\n",
              "</style>\n",
              "<table border=\"1\" class=\"dataframe\">\n",
              "  <thead>\n",
              "    <tr style=\"text-align: right;\">\n",
              "      <th></th>\n",
              "      <th>0</th>\n",
              "    </tr>\n",
              "  </thead>\n",
              "  <tbody>\n",
              "    <tr>\n",
              "      <th>0</th>\n",
              "      <td>0.341544</td>\n",
              "    </tr>\n",
              "    <tr>\n",
              "      <th>1</th>\n",
              "      <td>0.334023</td>\n",
              "    </tr>\n",
              "    <tr>\n",
              "      <th>2</th>\n",
              "      <td>0.385682</td>\n",
              "    </tr>\n",
              "    <tr>\n",
              "      <th>3</th>\n",
              "      <td>0.386973</td>\n",
              "    </tr>\n",
              "    <tr>\n",
              "      <th>4</th>\n",
              "      <td>0.389698</td>\n",
              "    </tr>\n",
              "  </tbody>\n",
              "</table>\n",
              "</div>"
            ],
            "text/plain": [
              "          0\n",
              "0  0.341544\n",
              "1  0.334023\n",
              "2  0.385682\n",
              "3  0.386973\n",
              "4  0.389698"
            ]
          },
          "metadata": {
            "tags": []
          },
          "execution_count": 93
        }
      ]
    },
    {
      "cell_type": "code",
      "metadata": {
        "id": "PSyKnkGxiX10",
        "colab_type": "code",
        "colab": {}
      },
      "source": [
        "list_output = []\n",
        "n_steps = 100\n",
        "days_ahead = 0\n",
        "while(days_ahead<30):\n",
        "  if (len(temp_in) > 100):\n",
        "    X_in = np.array(temp_in[1:])\n",
        "    #print(\"{0} day input {1}\".format(i, X_in))\n",
        "    X_in = X_in.reshape(1, -1)\n",
        "    X_in = X_in.reshape((1, n_steps, 1))\n",
        "    y_hat = model.predict(X_in, verbose=0)\n",
        "    #print(\"{0} day output {1}\".format(i, y_hat))\n",
        "    temp_in.extend(y_hat[0].tolist())\n",
        "    temp_in = temp_in[1:]\n",
        "    list_output.extend(y_hat.tolist())\n",
        "    days_ahead += 1\n",
        "  else:\n",
        "    X_in = X_in.reshape((1, n_steps, 1))\n",
        "    y_hat = model.predict(X_in, verbose=0)\n",
        "    #print(y_hat)\n",
        "    temp_in.extend(y_hat[0].tolist())\n",
        "    #print(len(temp_in))\n",
        "    list_output.extend(y_hat.tolist())\n",
        "    days_ahead +=1\n",
        "\n",
        "  pd.DataFrame(list_output).head()"
      ],
      "execution_count": 94,
      "outputs": []
    },
    {
      "cell_type": "code",
      "metadata": {
        "id": "W8u3Mai-iX17",
        "colab_type": "code",
        "colab": {}
      },
      "source": [
        "day_new = np.arange(1, 101)\n",
        "day_pred = np.arange(101, (101+days_ahead))"
      ],
      "execution_count": 95,
      "outputs": []
    },
    {
      "cell_type": "code",
      "metadata": {
        "id": "-6d9JRe5iX2A",
        "colab_type": "code",
        "colab": {
          "base_uri": "https://localhost:8080/",
          "height": 34
        },
        "outputId": "57d8acc1-0873-406a-a938-6c321cb1905d"
      },
      "source": [
        "len(df1)"
      ],
      "execution_count": 96,
      "outputs": [
        {
          "output_type": "execute_result",
          "data": {
            "text/plain": [
              "754"
            ]
          },
          "metadata": {
            "tags": []
          },
          "execution_count": 96
        }
      ]
    },
    {
      "cell_type": "code",
      "metadata": {
        "id": "5XELB0VRiX2F",
        "colab_type": "code",
        "colab": {
          "base_uri": "https://localhost:8080/",
          "height": 282
        },
        "outputId": "9b03a80d-8a13-4a8a-c64f-7cc8a2d66d45"
      },
      "source": [
        "df3 = df1.tolist()\n",
        "df3.extend(list_output)\n",
        "plt.plot(df3[-100:])"
      ],
      "execution_count": 97,
      "outputs": [
        {
          "output_type": "execute_result",
          "data": {
            "text/plain": [
              "[<matplotlib.lines.Line2D at 0x7efe1b353240>]"
            ]
          },
          "metadata": {
            "tags": []
          },
          "execution_count": 97
        },
        {
          "output_type": "display_data",
          "data": {
            "image/png": "[encoded data removed]",
            "text/plain": [
              "<Figure size 432x288 with 1 Axes>"
            ]
          },
          "metadata": {
            "tags": [],
            "needs_background": "light"
          }
        }
      ]
    },
    {
      "cell_type": "code",
      "metadata": {
        "id": "KQt-JKLdNXL2",
        "colab_type": "code",
        "colab": {}
      },
      "source": [
        "def best_fit_slope(xs, ys):\n",
        "  m = (((np.mean(xs) * np.mean(ys)) - np.mean(xs*ys))/\n",
        "       ((np.mean(xs) * np.mean(xs))- np.mean(xs*xs)))\n",
        "  return m"
      ],
      "execution_count": 98,
      "outputs": []
    },
    {
      "cell_type": "code",
      "metadata": {
        "id": "YUeswg6oZeZ1",
        "colab_type": "code",
        "colab": {
          "base_uri": "https://localhost:8080/",
          "height": 121
        },
        "outputId": "427af32a-6eb9-4f32-eb49-7107f745da83"
      },
      "source": [
        "l_output = scaler.inverse_transform(list_output).ravel()\n",
        "print(l_output)"
      ],
      "execution_count": 99,
      "outputs": [
        {
          "output_type": "stream",
          "text": [
            "[1153.05104549 1146.47935712 1113.14524472 1063.05026841 1003.79416182\n",
            "  942.86906333  884.45831693  830.50932712  781.56748757  737.4406888\n",
            "  697.87621721  662.60041607  631.24987865  603.43667735  578.7985835\n",
            "  556.98842131  537.67925999  520.57006405  505.39210711  491.91477491\n",
            "  479.91746663  469.19262723  459.56946125  450.87658416  442.98650475\n",
            "  435.7569189   429.07909692  422.90301531  417.18070123  411.86749786]\n"
          ],
          "name": "stdout"
        }
      ]
    },
    {
      "cell_type": "code",
      "metadata": {
        "id": "AyKEqlj8iX2K",
        "colab_type": "code",
        "colab": {
          "base_uri": "https://localhost:8080/",
          "height": 281
        },
        "outputId": "e1d1be25-7654-49c1-f64f-a587bfe6a5b5"
      },
      "source": [
        "plt.plot(day_new[90:], scaler.inverse_transform(df1[(len(df1)-10):]))\n",
        "plt.plot(day_pred, l_output)\n",
        "plt.title(\"{0} prediction\".format(ticker))\n",
        "plt.show()"
      ],
      "execution_count": 100,
      "outputs": [
        {
          "output_type": "display_data",
          "data": {
            "image/png": "[encoded data removed]",
            "text/plain": [
              "<Figure size 432x288 with 1 Axes>"
            ]
          },
          "metadata": {
            "tags": [],
            "needs_background": "light"
          }
        }
      ]
    },
    {
      "cell_type": "code",
      "metadata": {
        "id": "Vpf3CC-qO2WU",
        "colab_type": "code",
        "colab": {
          "base_uri": "https://localhost:8080/",
          "height": 52
        },
        "outputId": "6f1c94eb-e6dd-4d67-c0c4-c26d2f792a3c"
      },
      "source": [
        "m = best_fit_slope(day_pred, l_output)\n",
        "print(m)\n",
        "if m < 0:\n",
        "  print(\"short\")\n",
        "else:\n",
        "  print(\"long\")"
      ],
      "execution_count": 101,
      "outputs": [
        {
          "output_type": "stream",
          "text": [
            "-26.252400153224766\n",
            "short\n"
          ],
          "name": "stdout"
        }
      ]
    },
    {
      "cell_type": "code",
      "metadata": {
        "id": "JsMmIaxAYOWW",
        "colab_type": "code",
        "colab": {
          "base_uri": "https://localhost:8080/",
          "height": 538
        },
        "outputId": "00d83968-d5ec-4630-e477-4bdf08a522f6"
      },
      "source": [
        "print(scaler.inverse_transform(list_output))"
      ],
      "execution_count": 102,
      "outputs": [
        {
          "output_type": "stream",
          "text": [
            "[[1153.05104549]\n",
            " [1146.47935712]\n",
            " [1113.14524472]\n",
            " [1063.05026841]\n",
            " [1003.79416182]\n",
            " [ 942.86906333]\n",
            " [ 884.45831693]\n",
            " [ 830.50932712]\n",
            " [ 781.56748757]\n",
            " [ 737.4406888 ]\n",
            " [ 697.87621721]\n",
            " [ 662.60041607]\n",
            " [ 631.24987865]\n",
            " [ 603.43667735]\n",
            " [ 578.7985835 ]\n",
            " [ 556.98842131]\n",
            " [ 537.67925999]\n",
            " [ 520.57006405]\n",
            " [ 505.39210711]\n",
            " [ 491.91477491]\n",
            " [ 479.91746663]\n",
            " [ 469.19262723]\n",
            " [ 459.56946125]\n",
            " [ 450.87658416]\n",
            " [ 442.98650475]\n",
            " [ 435.7569189 ]\n",
            " [ 429.07909692]\n",
            " [ 422.90301531]\n",
            " [ 417.18070123]\n",
            " [ 411.86749786]]\n"
          ],
          "name": "stdout"
        }
      ]
    },
    {
      "cell_type": "code",
      "metadata": {
        "id": "yl3e5R7XYzhc",
        "colab_type": "code",
        "colab": {
          "base_uri": "https://localhost:8080/",
          "height": 52
        },
        "outputId": "19e095f4-f551-4bf9-aa04-f5039384bbde"
      },
      "source": [
        "print(l_output.shape)\n",
        "print(day_pred.shape)"
      ],
      "execution_count": 103,
      "outputs": [
        {
          "output_type": "stream",
          "text": [
            "(30,)\n",
            "(30,)\n"
          ],
          "name": "stdout"
        }
      ]
    },
    {
      "cell_type": "code",
      "metadata": {
        "id": "l8n-nKNOiX2P",
        "colab_type": "code",
        "colab": {
          "base_uri": "https://localhost:8080/",
          "height": 34
        },
        "outputId": "def69592-cfb0-4c52-b314-be06dba82802"
      },
      "source": [
        "program_end = time.time()\n",
        "print(f\"Runtime: {program_end - program_start}\")"
      ],
      "execution_count": 104,
      "outputs": [
        {
          "output_type": "stream",
          "text": [
            "Runtime: 177.81356859207153\n"
          ],
          "name": "stdout"
        }
      ]
    }
  ]
}