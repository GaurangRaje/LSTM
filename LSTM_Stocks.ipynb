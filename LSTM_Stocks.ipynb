{
 "cells": [
  {
   "cell_type": "markdown",
   "metadata": {},
   "source": [
    "# Importing the libraries"
   ]
  },
  {
   "cell_type": "code",
   "execution_count": 211,
   "metadata": {},
   "outputs": [
    {
     "name": "stdout",
     "output_type": "stream",
     "text": [
      "2.2.0\n"
     ]
    }
   ],
   "source": [
    "from datetime import datetime, timedelta\n",
    "program_start = time.time()\n",
    "import matplotlib.pyplot as plt\n",
    "import numpy as np\n",
    "import pandas as pd\n",
    "import pandas_datareader as pdr\n",
    "from sklearn.preprocessing import MinMaxScaler\n",
    "from tensorflow.keras.models import Sequential\n",
    "from tensorflow.keras.layers import Dense, LSTM\n",
    "import tensorflow as tf\n",
    "print(tf.__version__)\n",
    "import math\n",
    "from sklearn.metrics import mean_squared_error\n",
    "import os"
   ]
  },
  {
   "cell_type": "markdown",
   "metadata": {},
   "source": [
    "# Importing the dataset"
   ]
  },
  {
   "cell_type": "code",
   "execution_count": 212,
   "metadata": {},
   "outputs": [
    {
     "data": {
      "text/plain": [
       "1565"
      ]
     },
     "execution_count": 212,
     "metadata": {},
     "output_type": "execute_result"
    }
   ],
   "source": [
    "len(pd.bdate_range(start=fya, end=yesterday))"
   ]
  },
  {
   "cell_type": "code",
   "execution_count": 213,
   "metadata": {},
   "outputs": [
    {
     "name": "stdout",
     "output_type": "stream",
     "text": [
      "2020-07-19\n",
      "2015-07-21\n"
     ]
    }
   ],
   "source": [
    "yesterday = date.today() - timedelta(days = 1)\n",
    "print(yesterday)\n",
    "fya = yesterday - timedelta(days = 365 * 5)\n",
    "print(fya)"
   ]
  },
  {
   "cell_type": "code",
   "execution_count": 214,
   "metadata": {},
   "outputs": [],
   "source": [
    "ticker = 'TSLA'\n",
    "TIINGO_API_KEY = '0d89b22b2baae6031d933255d95b27b45630fa18'\n",
    "#api_key=os.environ.get('TIINGO_API_KEY')\n",
    "df = pdr.get_data_tiingo(ticker, api_key=TIINGO_API_KEY, \n",
    "                         start = fya, end = yesterday)"
   ]
  },
  {
   "cell_type": "markdown",
   "metadata": {},
   "source": [
    "# Data preprocessing"
   ]
  },
  {
   "cell_type": "markdown",
   "metadata": {},
   "source": [
    "## Converting JSON to CSV"
   ]
  },
  {
   "cell_type": "code",
   "execution_count": 215,
   "metadata": {},
   "outputs": [
    {
     "data": {
      "text/html": [
       "<div>\n",
       "<style scoped>\n",
       "    .dataframe tbody tr th:only-of-type {\n",
       "        vertical-align: middle;\n",
       "    }\n",
       "\n",
       "    .dataframe tbody tr th {\n",
       "        vertical-align: top;\n",
       "    }\n",
       "\n",
       "    .dataframe thead th {\n",
       "        text-align: right;\n",
       "    }\n",
       "</style>\n",
       "<table border=\"1\" class=\"dataframe\">\n",
       "  <thead>\n",
       "    <tr style=\"text-align: right;\">\n",
       "      <th></th>\n",
       "      <th></th>\n",
       "      <th>close</th>\n",
       "      <th>high</th>\n",
       "      <th>low</th>\n",
       "      <th>open</th>\n",
       "      <th>volume</th>\n",
       "      <th>adjClose</th>\n",
       "      <th>adjHigh</th>\n",
       "      <th>adjLow</th>\n",
       "      <th>adjOpen</th>\n",
       "      <th>adjVolume</th>\n",
       "      <th>divCash</th>\n",
       "      <th>splitFactor</th>\n",
       "    </tr>\n",
       "    <tr>\n",
       "      <th>symbol</th>\n",
       "      <th>date</th>\n",
       "      <th></th>\n",
       "      <th></th>\n",
       "      <th></th>\n",
       "      <th></th>\n",
       "      <th></th>\n",
       "      <th></th>\n",
       "      <th></th>\n",
       "      <th></th>\n",
       "      <th></th>\n",
       "      <th></th>\n",
       "      <th></th>\n",
       "      <th></th>\n",
       "    </tr>\n",
       "  </thead>\n",
       "  <tbody>\n",
       "    <tr>\n",
       "      <th rowspan=\"5\" valign=\"top\">TSLA</th>\n",
       "      <th>2015-07-21 00:00:00+00:00</th>\n",
       "      <td>266.77</td>\n",
       "      <td>273.5000</td>\n",
       "      <td>266.55</td>\n",
       "      <td>270.05</td>\n",
       "      <td>6108686</td>\n",
       "      <td>266.77</td>\n",
       "      <td>273.5000</td>\n",
       "      <td>266.55</td>\n",
       "      <td>270.05</td>\n",
       "      <td>6108686</td>\n",
       "      <td>0.0</td>\n",
       "      <td>1.0</td>\n",
       "    </tr>\n",
       "    <tr>\n",
       "      <th>2015-07-22 00:00:00+00:00</th>\n",
       "      <td>267.87</td>\n",
       "      <td>269.4400</td>\n",
       "      <td>260.86</td>\n",
       "      <td>261.27</td>\n",
       "      <td>3104960</td>\n",
       "      <td>267.87</td>\n",
       "      <td>269.4400</td>\n",
       "      <td>260.86</td>\n",
       "      <td>261.27</td>\n",
       "      <td>3104960</td>\n",
       "      <td>0.0</td>\n",
       "      <td>1.0</td>\n",
       "    </tr>\n",
       "    <tr>\n",
       "      <th>2015-07-23 00:00:00+00:00</th>\n",
       "      <td>267.20</td>\n",
       "      <td>269.9000</td>\n",
       "      <td>265.27</td>\n",
       "      <td>269.65</td>\n",
       "      <td>2227239</td>\n",
       "      <td>267.20</td>\n",
       "      <td>269.9000</td>\n",
       "      <td>265.27</td>\n",
       "      <td>269.65</td>\n",
       "      <td>2227239</td>\n",
       "      <td>0.0</td>\n",
       "      <td>1.0</td>\n",
       "    </tr>\n",
       "    <tr>\n",
       "      <th>2015-07-24 00:00:00+00:00</th>\n",
       "      <td>265.41</td>\n",
       "      <td>271.0900</td>\n",
       "      <td>263.92</td>\n",
       "      <td>267.38</td>\n",
       "      <td>2836498</td>\n",
       "      <td>265.41</td>\n",
       "      <td>271.0900</td>\n",
       "      <td>263.92</td>\n",
       "      <td>267.38</td>\n",
       "      <td>2836498</td>\n",
       "      <td>0.0</td>\n",
       "      <td>1.0</td>\n",
       "    </tr>\n",
       "    <tr>\n",
       "      <th>2015-07-27 00:00:00+00:00</th>\n",
       "      <td>253.01</td>\n",
       "      <td>264.4321</td>\n",
       "      <td>250.79</td>\n",
       "      <td>262.43</td>\n",
       "      <td>4694192</td>\n",
       "      <td>253.01</td>\n",
       "      <td>264.4321</td>\n",
       "      <td>250.79</td>\n",
       "      <td>262.43</td>\n",
       "      <td>4694192</td>\n",
       "      <td>0.0</td>\n",
       "      <td>1.0</td>\n",
       "    </tr>\n",
       "  </tbody>\n",
       "</table>\n",
       "</div>"
      ],
      "text/plain": [
       "                                   close      high     low    open   volume  \\\n",
       "symbol date                                                                   \n",
       "TSLA   2015-07-21 00:00:00+00:00  266.77  273.5000  266.55  270.05  6108686   \n",
       "       2015-07-22 00:00:00+00:00  267.87  269.4400  260.86  261.27  3104960   \n",
       "       2015-07-23 00:00:00+00:00  267.20  269.9000  265.27  269.65  2227239   \n",
       "       2015-07-24 00:00:00+00:00  265.41  271.0900  263.92  267.38  2836498   \n",
       "       2015-07-27 00:00:00+00:00  253.01  264.4321  250.79  262.43  4694192   \n",
       "\n",
       "                                  adjClose   adjHigh  adjLow  adjOpen  \\\n",
       "symbol date                                                             \n",
       "TSLA   2015-07-21 00:00:00+00:00    266.77  273.5000  266.55   270.05   \n",
       "       2015-07-22 00:00:00+00:00    267.87  269.4400  260.86   261.27   \n",
       "       2015-07-23 00:00:00+00:00    267.20  269.9000  265.27   269.65   \n",
       "       2015-07-24 00:00:00+00:00    265.41  271.0900  263.92   267.38   \n",
       "       2015-07-27 00:00:00+00:00    253.01  264.4321  250.79   262.43   \n",
       "\n",
       "                                  adjVolume  divCash  splitFactor  \n",
       "symbol date                                                        \n",
       "TSLA   2015-07-21 00:00:00+00:00    6108686      0.0          1.0  \n",
       "       2015-07-22 00:00:00+00:00    3104960      0.0          1.0  \n",
       "       2015-07-23 00:00:00+00:00    2227239      0.0          1.0  \n",
       "       2015-07-24 00:00:00+00:00    2836498      0.0          1.0  \n",
       "       2015-07-27 00:00:00+00:00    4694192      0.0          1.0  "
      ]
     },
     "execution_count": 215,
     "metadata": {},
     "output_type": "execute_result"
    }
   ],
   "source": [
    "df.to_csv('{0}.csv'.format(ticker))\n",
    "df.head()"
   ]
  },
  {
   "cell_type": "markdown",
   "metadata": {},
   "source": [
    "## Forming dataframe of close prices"
   ]
  },
  {
   "cell_type": "code",
   "execution_count": 216,
   "metadata": {},
   "outputs": [],
   "source": [
    "df1 = df.reset_index()['close']"
   ]
  },
  {
   "cell_type": "code",
   "execution_count": 217,
   "metadata": {},
   "outputs": [
    {
     "data": {
      "text/plain": [
       "(1258,)"
      ]
     },
     "execution_count": 217,
     "metadata": {},
     "output_type": "execute_result"
    }
   ],
   "source": [
    "df1.shape"
   ]
  },
  {
   "cell_type": "code",
   "execution_count": 218,
   "metadata": {},
   "outputs": [
    {
     "data": {
      "text/plain": [
       "[<matplotlib.lines.Line2D at 0x7fcbb9d55990>]"
      ]
     },
     "execution_count": 218,
     "metadata": {},
     "output_type": "execute_result"
    },
    {
     "data": {
      "image/png": "[encoded data removed]",
      "text/plain": [
       "<Figure size 432x288 with 1 Axes>"
      ]
     },
     "metadata": {
      "needs_background": "light"
     },
     "output_type": "display_data"
    }
   ],
   "source": [
    "plt.plot(df1)"
   ]
  },
  {
   "cell_type": "markdown",
   "metadata": {},
   "source": [
    "## Feature scaling using MinMax Scaler (Values between 0 to 1)"
   ]
  },
  {
   "cell_type": "code",
   "execution_count": 219,
   "metadata": {},
   "outputs": [],
   "source": [
    "scaler = MinMaxScaler(feature_range=(0,1))\n",
    "df1 = scaler.fit_transform(np.array(df1).reshape(-1,1))"
   ]
  },
  {
   "cell_type": "code",
   "execution_count": 220,
   "metadata": {},
   "outputs": [
    {
     "data": {
      "text/plain": [
       "(1258, 1)"
      ]
     },
     "execution_count": 220,
     "metadata": {},
     "output_type": "execute_result"
    }
   ],
   "source": [
    "df1.shape"
   ]
  },
  {
   "cell_type": "markdown",
   "metadata": {},
   "source": [
    "## Splitting dataset into training set and test set sequentialy"
   ]
  },
  {
   "cell_type": "code",
   "execution_count": 221,
   "metadata": {},
   "outputs": [
    {
     "name": "stdout",
     "output_type": "stream",
     "text": [
      "(817, 1)\n",
      "(441, 1)\n"
     ]
    }
   ],
   "source": [
    "training_size = int(len(df1)*0.65)\n",
    "test_size = len(df1) - training_size\n",
    "train_data, test_data = (df1[0:training_size, :], \n",
    "                         df1[training_size:len(df1), :1])\n",
    "print(train_data.shape)\n",
    "print(test_data.shape)"
   ]
  },
  {
   "cell_type": "code",
   "execution_count": 222,
   "metadata": {},
   "outputs": [
    {
     "data": {
      "text/html": [
       "<div>\n",
       "<style scoped>\n",
       "    .dataframe tbody tr th:only-of-type {\n",
       "        vertical-align: middle;\n",
       "    }\n",
       "\n",
       "    .dataframe tbody tr th {\n",
       "        vertical-align: top;\n",
       "    }\n",
       "\n",
       "    .dataframe thead th {\n",
       "        text-align: right;\n",
       "    }\n",
       "</style>\n",
       "<table border=\"1\" class=\"dataframe\">\n",
       "  <thead>\n",
       "    <tr style=\"text-align: right;\">\n",
       "      <th></th>\n",
       "      <th>0</th>\n",
       "    </tr>\n",
       "  </thead>\n",
       "  <tbody>\n",
       "    <tr>\n",
       "      <th>0</th>\n",
       "      <td>0.087782</td>\n",
       "    </tr>\n",
       "    <tr>\n",
       "      <th>1</th>\n",
       "      <td>0.088566</td>\n",
       "    </tr>\n",
       "    <tr>\n",
       "      <th>2</th>\n",
       "      <td>0.088088</td>\n",
       "    </tr>\n",
       "    <tr>\n",
       "      <th>3</th>\n",
       "      <td>0.086812</td>\n",
       "    </tr>\n",
       "    <tr>\n",
       "      <th>4</th>\n",
       "      <td>0.077970</td>\n",
       "    </tr>\n",
       "  </tbody>\n",
       "</table>\n",
       "</div>"
      ],
      "text/plain": [
       "          0\n",
       "0  0.087782\n",
       "1  0.088566\n",
       "2  0.088088\n",
       "3  0.086812\n",
       "4  0.077970"
      ]
     },
     "execution_count": 222,
     "metadata": {},
     "output_type": "execute_result"
    }
   ],
   "source": [
    "pd.DataFrame(train_data).head()"
   ]
  },
  {
   "cell_type": "code",
   "execution_count": 223,
   "metadata": {},
   "outputs": [
    {
     "data": {
      "text/html": [
       "<div>\n",
       "<style scoped>\n",
       "    .dataframe tbody tr th:only-of-type {\n",
       "        vertical-align: middle;\n",
       "    }\n",
       "\n",
       "    .dataframe tbody tr th {\n",
       "        vertical-align: top;\n",
       "    }\n",
       "\n",
       "    .dataframe thead th {\n",
       "        text-align: right;\n",
       "    }\n",
       "</style>\n",
       "<table border=\"1\" class=\"dataframe\">\n",
       "  <thead>\n",
       "    <tr style=\"text-align: right;\">\n",
       "      <th></th>\n",
       "      <th>0</th>\n",
       "    </tr>\n",
       "  </thead>\n",
       "  <tbody>\n",
       "    <tr>\n",
       "      <th>0</th>\n",
       "      <td>0.094784</td>\n",
       "    </tr>\n",
       "    <tr>\n",
       "      <th>1</th>\n",
       "      <td>0.091354</td>\n",
       "    </tr>\n",
       "    <tr>\n",
       "      <th>2</th>\n",
       "      <td>0.085742</td>\n",
       "    </tr>\n",
       "    <tr>\n",
       "      <th>3</th>\n",
       "      <td>0.082954</td>\n",
       "    </tr>\n",
       "    <tr>\n",
       "      <th>4</th>\n",
       "      <td>0.083632</td>\n",
       "    </tr>\n",
       "  </tbody>\n",
       "</table>\n",
       "</div>"
      ],
      "text/plain": [
       "          0\n",
       "0  0.094784\n",
       "1  0.091354\n",
       "2  0.085742\n",
       "3  0.082954\n",
       "4  0.083632"
      ]
     },
     "execution_count": 223,
     "metadata": {},
     "output_type": "execute_result"
    }
   ],
   "source": [
    "pd.DataFrame(test_data).head()"
   ]
  },
  {
   "cell_type": "markdown",
   "metadata": {},
   "source": [
    "## Creating array of independent and dependent variables(X_train, y_train, X_test, y_test)"
   ]
  },
  {
   "cell_type": "code",
   "execution_count": 251,
   "metadata": {},
   "outputs": [],
   "source": [
    "def create_dataset(dataset, time_step=1):\n",
    "  dataX, dataY = [], []\n",
    "  for i in range(len(dataset)-time_step-1):\n",
    "    a = dataset[i:(i+time_step), 0]\n",
    "    dataX.append(a)\n",
    "    dataY.append(dataset[(i+time_step), 0])\n",
    "  return np.array(dataX), np.array(dataY)"
   ]
  },
  {
   "cell_type": "code",
   "execution_count": 252,
   "metadata": {},
   "outputs": [
    {
     "ename": "AttributeError",
     "evalue": "'numpy.ndarray' object has no attribute 'iloc'",
     "output_type": "error",
     "traceback": [
      "\u001b[0;31m---------------------------------------------------------------------------\u001b[0m",
      "\u001b[0;31mAttributeError\u001b[0m                            Traceback (most recent call last)",
      "\u001b[0;32m<ipython-input-252-7817f398421c>\u001b[0m in \u001b[0;36m<module>\u001b[0;34m\u001b[0m\n\u001b[1;32m      1\u001b[0m \u001b[0mtime_step\u001b[0m \u001b[0;34m=\u001b[0m \u001b[0;36m100\u001b[0m\u001b[0;34m\u001b[0m\u001b[0;34m\u001b[0m\u001b[0m\n\u001b[0;32m----> 2\u001b[0;31m \u001b[0mX_train\u001b[0m\u001b[0;34m,\u001b[0m \u001b[0my_train\u001b[0m \u001b[0;34m=\u001b[0m \u001b[0mcreate_dataset\u001b[0m\u001b[0;34m(\u001b[0m\u001b[0mtrain_data\u001b[0m\u001b[0;34m,\u001b[0m \u001b[0mtime_step\u001b[0m\u001b[0;34m)\u001b[0m\u001b[0;34m\u001b[0m\u001b[0;34m\u001b[0m\u001b[0m\n\u001b[0m\u001b[1;32m      3\u001b[0m \u001b[0mX_test\u001b[0m\u001b[0;34m,\u001b[0m \u001b[0my_test\u001b[0m \u001b[0;34m=\u001b[0m \u001b[0mcreate_dataset\u001b[0m\u001b[0;34m(\u001b[0m\u001b[0mtest_data\u001b[0m\u001b[0;34m,\u001b[0m \u001b[0mtime_step\u001b[0m\u001b[0;34m)\u001b[0m\u001b[0;34m\u001b[0m\u001b[0;34m\u001b[0m\u001b[0m\n",
      "\u001b[0;32m<ipython-input-251-721b1143b291>\u001b[0m in \u001b[0;36mcreate_dataset\u001b[0;34m(dataset, time_step)\u001b[0m\n\u001b[1;32m      2\u001b[0m   \u001b[0mdataX\u001b[0m\u001b[0;34m,\u001b[0m \u001b[0mdataY\u001b[0m \u001b[0;34m=\u001b[0m \u001b[0;34m[\u001b[0m\u001b[0;34m]\u001b[0m\u001b[0;34m,\u001b[0m \u001b[0;34m[\u001b[0m\u001b[0;34m]\u001b[0m\u001b[0;34m\u001b[0m\u001b[0;34m\u001b[0m\u001b[0m\n\u001b[1;32m      3\u001b[0m   \u001b[0;32mfor\u001b[0m \u001b[0mi\u001b[0m \u001b[0;32min\u001b[0m \u001b[0mrange\u001b[0m\u001b[0;34m(\u001b[0m\u001b[0mlen\u001b[0m\u001b[0;34m(\u001b[0m\u001b[0mdataset\u001b[0m\u001b[0;34m)\u001b[0m\u001b[0;34m-\u001b[0m\u001b[0mtime_step\u001b[0m\u001b[0;34m-\u001b[0m\u001b[0;36m1\u001b[0m\u001b[0;34m)\u001b[0m\u001b[0;34m:\u001b[0m\u001b[0;34m\u001b[0m\u001b[0;34m\u001b[0m\u001b[0m\n\u001b[0;32m----> 4\u001b[0;31m     \u001b[0ma\u001b[0m \u001b[0;34m=\u001b[0m \u001b[0mdataset\u001b[0m\u001b[0;34m.\u001b[0m\u001b[0miloc\u001b[0m\u001b[0;34m[\u001b[0m\u001b[0mi\u001b[0m\u001b[0;34m:\u001b[0m\u001b[0;34m(\u001b[0m\u001b[0mi\u001b[0m\u001b[0;34m+\u001b[0m\u001b[0mtime_step\u001b[0m\u001b[0;34m)\u001b[0m\u001b[0;34m,\u001b[0m \u001b[0;36m0\u001b[0m\u001b[0;34m]\u001b[0m\u001b[0;34m\u001b[0m\u001b[0;34m\u001b[0m\u001b[0m\n\u001b[0m\u001b[1;32m      5\u001b[0m     \u001b[0mdataX\u001b[0m\u001b[0;34m.\u001b[0m\u001b[0mappend\u001b[0m\u001b[0;34m(\u001b[0m\u001b[0ma\u001b[0m\u001b[0;34m)\u001b[0m\u001b[0;34m\u001b[0m\u001b[0;34m\u001b[0m\u001b[0m\n\u001b[1;32m      6\u001b[0m     \u001b[0mdataY\u001b[0m\u001b[0;34m.\u001b[0m\u001b[0mappend\u001b[0m\u001b[0;34m(\u001b[0m\u001b[0mdataset\u001b[0m\u001b[0;34m[\u001b[0m\u001b[0;34m(\u001b[0m\u001b[0mi\u001b[0m\u001b[0;34m+\u001b[0m\u001b[0mtime_step\u001b[0m\u001b[0;34m)\u001b[0m\u001b[0;34m,\u001b[0m \u001b[0;36m0\u001b[0m\u001b[0;34m]\u001b[0m\u001b[0;34m)\u001b[0m\u001b[0;34m\u001b[0m\u001b[0;34m\u001b[0m\u001b[0m\n",
      "\u001b[0;31mAttributeError\u001b[0m: 'numpy.ndarray' object has no attribute 'iloc'"
     ]
    }
   ],
   "source": [
    "time_step = 100\n",
    "X_train, y_train = create_dataset(train_data, time_step)\n",
    "X_test, y_test = create_dataset(test_data, time_step)"
   ]
  },
  {
   "cell_type": "code",
   "execution_count": 226,
   "metadata": {},
   "outputs": [
    {
     "data": {
      "text/html": [
       "<div>\n",
       "<style scoped>\n",
       "    .dataframe tbody tr th:only-of-type {\n",
       "        vertical-align: middle;\n",
       "    }\n",
       "\n",
       "    .dataframe tbody tr th {\n",
       "        vertical-align: top;\n",
       "    }\n",
       "\n",
       "    .dataframe thead th {\n",
       "        text-align: right;\n",
       "    }\n",
       "</style>\n",
       "<table border=\"1\" class=\"dataframe\">\n",
       "  <thead>\n",
       "    <tr style=\"text-align: right;\">\n",
       "      <th></th>\n",
       "      <th>0</th>\n",
       "      <th>1</th>\n",
       "      <th>2</th>\n",
       "      <th>3</th>\n",
       "      <th>4</th>\n",
       "      <th>5</th>\n",
       "      <th>6</th>\n",
       "      <th>7</th>\n",
       "      <th>8</th>\n",
       "      <th>9</th>\n",
       "      <th>...</th>\n",
       "      <th>90</th>\n",
       "      <th>91</th>\n",
       "      <th>92</th>\n",
       "      <th>93</th>\n",
       "      <th>94</th>\n",
       "      <th>95</th>\n",
       "      <th>96</th>\n",
       "      <th>97</th>\n",
       "      <th>98</th>\n",
       "      <th>99</th>\n",
       "    </tr>\n",
       "  </thead>\n",
       "  <tbody>\n",
       "    <tr>\n",
       "      <th>0</th>\n",
       "      <td>0.087782</td>\n",
       "      <td>0.088566</td>\n",
       "      <td>0.088088</td>\n",
       "      <td>0.086812</td>\n",
       "      <td>0.077970</td>\n",
       "      <td>0.086391</td>\n",
       "      <td>0.085678</td>\n",
       "      <td>0.087796</td>\n",
       "      <td>0.087340</td>\n",
       "      <td>0.082947</td>\n",
       "      <td>...</td>\n",
       "      <td>0.061305</td>\n",
       "      <td>0.062709</td>\n",
       "      <td>0.061747</td>\n",
       "      <td>0.066689</td>\n",
       "      <td>0.062980</td>\n",
       "      <td>0.063494</td>\n",
       "      <td>0.061832</td>\n",
       "      <td>0.062367</td>\n",
       "      <td>0.059222</td>\n",
       "      <td>0.057654</td>\n",
       "    </tr>\n",
       "    <tr>\n",
       "      <th>1</th>\n",
       "      <td>0.088566</td>\n",
       "      <td>0.088088</td>\n",
       "      <td>0.086812</td>\n",
       "      <td>0.077970</td>\n",
       "      <td>0.086391</td>\n",
       "      <td>0.085678</td>\n",
       "      <td>0.087796</td>\n",
       "      <td>0.087340</td>\n",
       "      <td>0.082947</td>\n",
       "      <td>0.087432</td>\n",
       "      <td>...</td>\n",
       "      <td>0.062709</td>\n",
       "      <td>0.061747</td>\n",
       "      <td>0.066689</td>\n",
       "      <td>0.062980</td>\n",
       "      <td>0.063494</td>\n",
       "      <td>0.061832</td>\n",
       "      <td>0.062367</td>\n",
       "      <td>0.059222</td>\n",
       "      <td>0.057654</td>\n",
       "      <td>0.059472</td>\n",
       "    </tr>\n",
       "    <tr>\n",
       "      <th>2</th>\n",
       "      <td>0.088088</td>\n",
       "      <td>0.086812</td>\n",
       "      <td>0.077970</td>\n",
       "      <td>0.086391</td>\n",
       "      <td>0.085678</td>\n",
       "      <td>0.087796</td>\n",
       "      <td>0.087340</td>\n",
       "      <td>0.082947</td>\n",
       "      <td>0.087432</td>\n",
       "      <td>0.090178</td>\n",
       "      <td>...</td>\n",
       "      <td>0.061747</td>\n",
       "      <td>0.066689</td>\n",
       "      <td>0.062980</td>\n",
       "      <td>0.063494</td>\n",
       "      <td>0.061832</td>\n",
       "      <td>0.062367</td>\n",
       "      <td>0.059222</td>\n",
       "      <td>0.057654</td>\n",
       "      <td>0.059472</td>\n",
       "      <td>0.052305</td>\n",
       "    </tr>\n",
       "    <tr>\n",
       "      <th>3</th>\n",
       "      <td>0.086812</td>\n",
       "      <td>0.077970</td>\n",
       "      <td>0.086391</td>\n",
       "      <td>0.085678</td>\n",
       "      <td>0.087796</td>\n",
       "      <td>0.087340</td>\n",
       "      <td>0.082947</td>\n",
       "      <td>0.087432</td>\n",
       "      <td>0.090178</td>\n",
       "      <td>0.073064</td>\n",
       "      <td>...</td>\n",
       "      <td>0.066689</td>\n",
       "      <td>0.062980</td>\n",
       "      <td>0.063494</td>\n",
       "      <td>0.061832</td>\n",
       "      <td>0.062367</td>\n",
       "      <td>0.059222</td>\n",
       "      <td>0.057654</td>\n",
       "      <td>0.059472</td>\n",
       "      <td>0.052305</td>\n",
       "      <td>0.053418</td>\n",
       "    </tr>\n",
       "    <tr>\n",
       "      <th>4</th>\n",
       "      <td>0.077970</td>\n",
       "      <td>0.086391</td>\n",
       "      <td>0.085678</td>\n",
       "      <td>0.087796</td>\n",
       "      <td>0.087340</td>\n",
       "      <td>0.082947</td>\n",
       "      <td>0.087432</td>\n",
       "      <td>0.090178</td>\n",
       "      <td>0.073064</td>\n",
       "      <td>0.070482</td>\n",
       "      <td>...</td>\n",
       "      <td>0.062980</td>\n",
       "      <td>0.063494</td>\n",
       "      <td>0.061832</td>\n",
       "      <td>0.062367</td>\n",
       "      <td>0.059222</td>\n",
       "      <td>0.057654</td>\n",
       "      <td>0.059472</td>\n",
       "      <td>0.052305</td>\n",
       "      <td>0.053418</td>\n",
       "      <td>0.055208</td>\n",
       "    </tr>\n",
       "  </tbody>\n",
       "</table>\n",
       "<p>5 rows × 100 columns</p>\n",
       "</div>"
      ],
      "text/plain": [
       "         0         1         2         3         4         5         6   \\\n",
       "0  0.087782  0.088566  0.088088  0.086812  0.077970  0.086391  0.085678   \n",
       "1  0.088566  0.088088  0.086812  0.077970  0.086391  0.085678  0.087796   \n",
       "2  0.088088  0.086812  0.077970  0.086391  0.085678  0.087796  0.087340   \n",
       "3  0.086812  0.077970  0.086391  0.085678  0.087796  0.087340  0.082947   \n",
       "4  0.077970  0.086391  0.085678  0.087796  0.087340  0.082947  0.087432   \n",
       "\n",
       "         7         8         9   ...        90        91        92        93  \\\n",
       "0  0.087796  0.087340  0.082947  ...  0.061305  0.062709  0.061747  0.066689   \n",
       "1  0.087340  0.082947  0.087432  ...  0.062709  0.061747  0.066689  0.062980   \n",
       "2  0.082947  0.087432  0.090178  ...  0.061747  0.066689  0.062980  0.063494   \n",
       "3  0.087432  0.090178  0.073064  ...  0.066689  0.062980  0.063494  0.061832   \n",
       "4  0.090178  0.073064  0.070482  ...  0.062980  0.063494  0.061832  0.062367   \n",
       "\n",
       "         94        95        96        97        98        99  \n",
       "0  0.062980  0.063494  0.061832  0.062367  0.059222  0.057654  \n",
       "1  0.063494  0.061832  0.062367  0.059222  0.057654  0.059472  \n",
       "2  0.061832  0.062367  0.059222  0.057654  0.059472  0.052305  \n",
       "3  0.062367  0.059222  0.057654  0.059472  0.052305  0.053418  \n",
       "4  0.059222  0.057654  0.059472  0.052305  0.053418  0.055208  \n",
       "\n",
       "[5 rows x 100 columns]"
      ]
     },
     "execution_count": 226,
     "metadata": {},
     "output_type": "execute_result"
    }
   ],
   "source": [
    "pd.DataFrame(X_train).head()"
   ]
  },
  {
   "cell_type": "code",
   "execution_count": 250,
   "metadata": {},
   "outputs": [
    {
     "name": "stdout",
     "output_type": "stream",
     "text": [
      "(716, 100, 1)\n"
     ]
    }
   ],
   "source": [
    "print(X_train.shape)"
   ]
  },
  {
   "cell_type": "code",
   "execution_count": 227,
   "metadata": {},
   "outputs": [
    {
     "data": {
      "text/html": [
       "<div>\n",
       "<style scoped>\n",
       "    .dataframe tbody tr th:only-of-type {\n",
       "        vertical-align: middle;\n",
       "    }\n",
       "\n",
       "    .dataframe tbody tr th {\n",
       "        vertical-align: top;\n",
       "    }\n",
       "\n",
       "    .dataframe thead th {\n",
       "        text-align: right;\n",
       "    }\n",
       "</style>\n",
       "<table border=\"1\" class=\"dataframe\">\n",
       "  <thead>\n",
       "    <tr style=\"text-align: right;\">\n",
       "      <th></th>\n",
       "      <th>0</th>\n",
       "    </tr>\n",
       "  </thead>\n",
       "  <tbody>\n",
       "    <tr>\n",
       "      <th>0</th>\n",
       "      <td>0.059472</td>\n",
       "    </tr>\n",
       "    <tr>\n",
       "      <th>1</th>\n",
       "      <td>0.052305</td>\n",
       "    </tr>\n",
       "    <tr>\n",
       "      <th>2</th>\n",
       "      <td>0.053418</td>\n",
       "    </tr>\n",
       "    <tr>\n",
       "      <th>3</th>\n",
       "      <td>0.055208</td>\n",
       "    </tr>\n",
       "    <tr>\n",
       "      <th>4</th>\n",
       "      <td>0.064777</td>\n",
       "    </tr>\n",
       "  </tbody>\n",
       "</table>\n",
       "</div>"
      ],
      "text/plain": [
       "          0\n",
       "0  0.059472\n",
       "1  0.052305\n",
       "2  0.053418\n",
       "3  0.055208\n",
       "4  0.064777"
      ]
     },
     "execution_count": 227,
     "metadata": {},
     "output_type": "execute_result"
    }
   ],
   "source": [
    "pd.DataFrame(y_train).head()"
   ]
  },
  {
   "cell_type": "code",
   "execution_count": 228,
   "metadata": {},
   "outputs": [
    {
     "data": {
      "text/html": [
       "<div>\n",
       "<style scoped>\n",
       "    .dataframe tbody tr th:only-of-type {\n",
       "        vertical-align: middle;\n",
       "    }\n",
       "\n",
       "    .dataframe tbody tr th {\n",
       "        vertical-align: top;\n",
       "    }\n",
       "\n",
       "    .dataframe thead th {\n",
       "        text-align: right;\n",
       "    }\n",
       "</style>\n",
       "<table border=\"1\" class=\"dataframe\">\n",
       "  <thead>\n",
       "    <tr style=\"text-align: right;\">\n",
       "      <th></th>\n",
       "      <th>0</th>\n",
       "      <th>1</th>\n",
       "      <th>2</th>\n",
       "      <th>3</th>\n",
       "      <th>4</th>\n",
       "      <th>5</th>\n",
       "      <th>6</th>\n",
       "      <th>7</th>\n",
       "      <th>8</th>\n",
       "      <th>9</th>\n",
       "      <th>...</th>\n",
       "      <th>90</th>\n",
       "      <th>91</th>\n",
       "      <th>92</th>\n",
       "      <th>93</th>\n",
       "      <th>94</th>\n",
       "      <th>95</th>\n",
       "      <th>96</th>\n",
       "      <th>97</th>\n",
       "      <th>98</th>\n",
       "      <th>99</th>\n",
       "    </tr>\n",
       "  </thead>\n",
       "  <tbody>\n",
       "    <tr>\n",
       "      <th>0</th>\n",
       "      <td>0.094784</td>\n",
       "      <td>0.091354</td>\n",
       "      <td>0.085742</td>\n",
       "      <td>0.082954</td>\n",
       "      <td>0.083632</td>\n",
       "      <td>0.107299</td>\n",
       "      <td>0.103277</td>\n",
       "      <td>0.122075</td>\n",
       "      <td>0.133513</td>\n",
       "      <td>0.136329</td>\n",
       "      <td>...</td>\n",
       "      <td>0.121989</td>\n",
       "      <td>0.125654</td>\n",
       "      <td>0.107763</td>\n",
       "      <td>0.101038</td>\n",
       "      <td>0.094749</td>\n",
       "      <td>0.094535</td>\n",
       "      <td>0.094784</td>\n",
       "      <td>0.100168</td>\n",
       "      <td>0.105003</td>\n",
       "      <td>0.099612</td>\n",
       "    </tr>\n",
       "    <tr>\n",
       "      <th>1</th>\n",
       "      <td>0.091354</td>\n",
       "      <td>0.085742</td>\n",
       "      <td>0.082954</td>\n",
       "      <td>0.083632</td>\n",
       "      <td>0.107299</td>\n",
       "      <td>0.103277</td>\n",
       "      <td>0.122075</td>\n",
       "      <td>0.133513</td>\n",
       "      <td>0.136329</td>\n",
       "      <td>0.132799</td>\n",
       "      <td>...</td>\n",
       "      <td>0.125654</td>\n",
       "      <td>0.107763</td>\n",
       "      <td>0.101038</td>\n",
       "      <td>0.094749</td>\n",
       "      <td>0.094535</td>\n",
       "      <td>0.094784</td>\n",
       "      <td>0.100168</td>\n",
       "      <td>0.105003</td>\n",
       "      <td>0.099612</td>\n",
       "      <td>0.103605</td>\n",
       "    </tr>\n",
       "    <tr>\n",
       "      <th>2</th>\n",
       "      <td>0.085742</td>\n",
       "      <td>0.082954</td>\n",
       "      <td>0.083632</td>\n",
       "      <td>0.107299</td>\n",
       "      <td>0.103277</td>\n",
       "      <td>0.122075</td>\n",
       "      <td>0.133513</td>\n",
       "      <td>0.136329</td>\n",
       "      <td>0.132799</td>\n",
       "      <td>0.138091</td>\n",
       "      <td>...</td>\n",
       "      <td>0.107763</td>\n",
       "      <td>0.101038</td>\n",
       "      <td>0.094749</td>\n",
       "      <td>0.094535</td>\n",
       "      <td>0.094784</td>\n",
       "      <td>0.100168</td>\n",
       "      <td>0.105003</td>\n",
       "      <td>0.099612</td>\n",
       "      <td>0.103605</td>\n",
       "      <td>0.104318</td>\n",
       "    </tr>\n",
       "    <tr>\n",
       "      <th>3</th>\n",
       "      <td>0.082954</td>\n",
       "      <td>0.083632</td>\n",
       "      <td>0.107299</td>\n",
       "      <td>0.103277</td>\n",
       "      <td>0.122075</td>\n",
       "      <td>0.133513</td>\n",
       "      <td>0.136329</td>\n",
       "      <td>0.132799</td>\n",
       "      <td>0.138091</td>\n",
       "      <td>0.143054</td>\n",
       "      <td>...</td>\n",
       "      <td>0.101038</td>\n",
       "      <td>0.094749</td>\n",
       "      <td>0.094535</td>\n",
       "      <td>0.094784</td>\n",
       "      <td>0.100168</td>\n",
       "      <td>0.105003</td>\n",
       "      <td>0.099612</td>\n",
       "      <td>0.103605</td>\n",
       "      <td>0.104318</td>\n",
       "      <td>0.093957</td>\n",
       "    </tr>\n",
       "    <tr>\n",
       "      <th>4</th>\n",
       "      <td>0.083632</td>\n",
       "      <td>0.107299</td>\n",
       "      <td>0.103277</td>\n",
       "      <td>0.122075</td>\n",
       "      <td>0.133513</td>\n",
       "      <td>0.136329</td>\n",
       "      <td>0.132799</td>\n",
       "      <td>0.138091</td>\n",
       "      <td>0.143054</td>\n",
       "      <td>0.144573</td>\n",
       "      <td>...</td>\n",
       "      <td>0.094749</td>\n",
       "      <td>0.094535</td>\n",
       "      <td>0.094784</td>\n",
       "      <td>0.100168</td>\n",
       "      <td>0.105003</td>\n",
       "      <td>0.099612</td>\n",
       "      <td>0.103605</td>\n",
       "      <td>0.104318</td>\n",
       "      <td>0.093957</td>\n",
       "      <td>0.089721</td>\n",
       "    </tr>\n",
       "  </tbody>\n",
       "</table>\n",
       "<p>5 rows × 100 columns</p>\n",
       "</div>"
      ],
      "text/plain": [
       "         0         1         2         3         4         5         6   \\\n",
       "0  0.094784  0.091354  0.085742  0.082954  0.083632  0.107299  0.103277   \n",
       "1  0.091354  0.085742  0.082954  0.083632  0.107299  0.103277  0.122075   \n",
       "2  0.085742  0.082954  0.083632  0.107299  0.103277  0.122075  0.133513   \n",
       "3  0.082954  0.083632  0.107299  0.103277  0.122075  0.133513  0.136329   \n",
       "4  0.083632  0.107299  0.103277  0.122075  0.133513  0.136329  0.132799   \n",
       "\n",
       "         7         8         9   ...        90        91        92        93  \\\n",
       "0  0.122075  0.133513  0.136329  ...  0.121989  0.125654  0.107763  0.101038   \n",
       "1  0.133513  0.136329  0.132799  ...  0.125654  0.107763  0.101038  0.094749   \n",
       "2  0.136329  0.132799  0.138091  ...  0.107763  0.101038  0.094749  0.094535   \n",
       "3  0.132799  0.138091  0.143054  ...  0.101038  0.094749  0.094535  0.094784   \n",
       "4  0.138091  0.143054  0.144573  ...  0.094749  0.094535  0.094784  0.100168   \n",
       "\n",
       "         94        95        96        97        98        99  \n",
       "0  0.094749  0.094535  0.094784  0.100168  0.105003  0.099612  \n",
       "1  0.094535  0.094784  0.100168  0.105003  0.099612  0.103605  \n",
       "2  0.094784  0.100168  0.105003  0.099612  0.103605  0.104318  \n",
       "3  0.100168  0.105003  0.099612  0.103605  0.104318  0.093957  \n",
       "4  0.105003  0.099612  0.103605  0.104318  0.093957  0.089721  \n",
       "\n",
       "[5 rows x 100 columns]"
      ]
     },
     "execution_count": 228,
     "metadata": {},
     "output_type": "execute_result"
    }
   ],
   "source": [
    "pd.DataFrame(X_test).head()"
   ]
  },
  {
   "cell_type": "code",
   "execution_count": 229,
   "metadata": {},
   "outputs": [
    {
     "data": {
      "text/html": [
       "<div>\n",
       "<style scoped>\n",
       "    .dataframe tbody tr th:only-of-type {\n",
       "        vertical-align: middle;\n",
       "    }\n",
       "\n",
       "    .dataframe tbody tr th {\n",
       "        vertical-align: top;\n",
       "    }\n",
       "\n",
       "    .dataframe thead th {\n",
       "        text-align: right;\n",
       "    }\n",
       "</style>\n",
       "<table border=\"1\" class=\"dataframe\">\n",
       "  <thead>\n",
       "    <tr style=\"text-align: right;\">\n",
       "      <th></th>\n",
       "      <th>0</th>\n",
       "    </tr>\n",
       "  </thead>\n",
       "  <tbody>\n",
       "    <tr>\n",
       "      <th>0</th>\n",
       "      <td>0.103605</td>\n",
       "    </tr>\n",
       "    <tr>\n",
       "      <th>1</th>\n",
       "      <td>0.104318</td>\n",
       "    </tr>\n",
       "    <tr>\n",
       "      <th>2</th>\n",
       "      <td>0.093957</td>\n",
       "    </tr>\n",
       "    <tr>\n",
       "      <th>3</th>\n",
       "      <td>0.089721</td>\n",
       "    </tr>\n",
       "    <tr>\n",
       "      <th>4</th>\n",
       "      <td>0.088281</td>\n",
       "    </tr>\n",
       "  </tbody>\n",
       "</table>\n",
       "</div>"
      ],
      "text/plain": [
       "          0\n",
       "0  0.103605\n",
       "1  0.104318\n",
       "2  0.093957\n",
       "3  0.089721\n",
       "4  0.088281"
      ]
     },
     "execution_count": 229,
     "metadata": {},
     "output_type": "execute_result"
    }
   ],
   "source": [
    "pd.DataFrame(y_test).head()"
   ]
  },
  {
   "cell_type": "code",
   "execution_count": 230,
   "metadata": {},
   "outputs": [],
   "source": [
    "X_train = X_train.reshape(X_train.shape[0], X_train.shape[1], 1)\n",
    "X_test = X_test.reshape(X_test.shape[0], X_test.shape[1], 1)"
   ]
  },
  {
   "cell_type": "code",
   "execution_count": 231,
   "metadata": {},
   "outputs": [],
   "source": [
    "model = Sequential()\n",
    "model.add(LSTM(50, return_sequences=True, input_shape=(100, 1)))\n",
    "model.add(LSTM(50, return_sequences=True))\n",
    "model.add(LSTM(50))\n",
    "model.add(Dense(1))\n",
    "model.compile(loss='mean_squared_error', optimizer='adam')"
   ]
  },
  {
   "cell_type": "code",
   "execution_count": 232,
   "metadata": {},
   "outputs": [
    {
     "name": "stdout",
     "output_type": "stream",
     "text": [
      "Model: \"sequential_5\"\n",
      "_________________________________________________________________\n",
      "Layer (type)                 Output Shape              Param #   \n",
      "=================================================================\n",
      "lstm_15 (LSTM)               (None, 100, 50)           10400     \n",
      "_________________________________________________________________\n",
      "lstm_16 (LSTM)               (None, 100, 50)           20200     \n",
      "_________________________________________________________________\n",
      "lstm_17 (LSTM)               (None, 50)                20200     \n",
      "_________________________________________________________________\n",
      "dense_5 (Dense)              (None, 1)                 51        \n",
      "=================================================================\n",
      "Total params: 50,851\n",
      "Trainable params: 50,851\n",
      "Non-trainable params: 0\n",
      "_________________________________________________________________\n"
     ]
    }
   ],
   "source": [
    "model.summary()"
   ]
  },
  {
   "cell_type": "code",
   "execution_count": 233,
   "metadata": {},
   "outputs": [
    {
     "name": "stdout",
     "output_type": "stream",
     "text": [
      "Epoch 1/100\n",
      "12/12 [==============================] - 4s 337ms/step - loss: 0.0032 - val_loss: 0.0433\n",
      "Epoch 2/100\n",
      "12/12 [==============================] - 3s 210ms/step - loss: 9.6862e-04 - val_loss: 0.0236\n",
      "Epoch 3/100\n",
      "12/12 [==============================] - 3s 214ms/step - loss: 4.9285e-04 - val_loss: 0.0079\n",
      "Epoch 4/100\n",
      "12/12 [==============================] - 2s 192ms/step - loss: 2.7718e-04 - val_loss: 0.0073\n",
      "Epoch 5/100\n",
      "12/12 [==============================] - 2s 205ms/step - loss: 2.3399e-04 - val_loss: 0.0087\n",
      "Epoch 6/100\n",
      "12/12 [==============================] - 2s 193ms/step - loss: 2.1664e-04 - val_loss: 0.0069\n",
      "Epoch 7/100\n",
      "12/12 [==============================] - 2s 201ms/step - loss: 2.1478e-04 - val_loss: 0.0070\n",
      "Epoch 8/100\n",
      "12/12 [==============================] - 2s 191ms/step - loss: 2.2185e-04 - val_loss: 0.0067\n",
      "Epoch 9/100\n",
      "12/12 [==============================] - 2s 206ms/step - loss: 2.1083e-04 - val_loss: 0.0069\n",
      "Epoch 10/100\n",
      "12/12 [==============================] - 2s 201ms/step - loss: 1.9898e-04 - val_loss: 0.0071\n",
      "Epoch 11/100\n",
      "12/12 [==============================] - 2s 193ms/step - loss: 2.1052e-04 - val_loss: 0.0075\n",
      "Epoch 12/100\n",
      "12/12 [==============================] - 2s 193ms/step - loss: 1.9851e-04 - val_loss: 0.0057\n",
      "Epoch 13/100\n",
      "12/12 [==============================] - 2s 192ms/step - loss: 1.9103e-04 - val_loss: 0.0065\n",
      "Epoch 14/100\n",
      "12/12 [==============================] - 2s 191ms/step - loss: 1.8834e-04 - val_loss: 0.0059\n",
      "Epoch 15/100\n",
      "12/12 [==============================] - 2s 192ms/step - loss: 1.8201e-04 - val_loss: 0.0051\n",
      "Epoch 16/100\n",
      "12/12 [==============================] - 2s 196ms/step - loss: 1.8267e-04 - val_loss: 0.0060\n",
      "Epoch 17/100\n",
      "12/12 [==============================] - 2s 191ms/step - loss: 1.7461e-04 - val_loss: 0.0049\n",
      "Epoch 18/100\n",
      "12/12 [==============================] - 2s 194ms/step - loss: 1.9159e-04 - val_loss: 0.0055\n",
      "Epoch 19/100\n",
      "12/12 [==============================] - 3s 214ms/step - loss: 1.6950e-04 - val_loss: 0.0052\n",
      "Epoch 20/100\n",
      "12/12 [==============================] - 3s 210ms/step - loss: 1.7394e-04 - val_loss: 0.0050\n",
      "Epoch 21/100\n",
      "12/12 [==============================] - 2s 189ms/step - loss: 1.5801e-04 - val_loss: 0.0052\n",
      "Epoch 22/100\n",
      "12/12 [==============================] - 2s 195ms/step - loss: 1.5872e-04 - val_loss: 0.0050\n",
      "Epoch 23/100\n",
      "12/12 [==============================] - 2s 207ms/step - loss: 1.5532e-04 - val_loss: 0.0052\n",
      "Epoch 24/100\n",
      "12/12 [==============================] - 2s 193ms/step - loss: 1.5719e-04 - val_loss: 0.0046\n",
      "Epoch 25/100\n",
      "12/12 [==============================] - 2s 193ms/step - loss: 1.6251e-04 - val_loss: 0.0053\n",
      "Epoch 26/100\n",
      "12/12 [==============================] - 2s 192ms/step - loss: 1.5147e-04 - val_loss: 0.0043\n",
      "Epoch 27/100\n",
      "12/12 [==============================] - 2s 194ms/step - loss: 1.4063e-04 - val_loss: 0.0042\n",
      "Epoch 28/100\n",
      "12/12 [==============================] - 2s 194ms/step - loss: 1.3583e-04 - val_loss: 0.0049\n",
      "Epoch 29/100\n",
      "12/12 [==============================] - 2s 193ms/step - loss: 1.3761e-04 - val_loss: 0.0043\n",
      "Epoch 30/100\n",
      "12/12 [==============================] - 2s 194ms/step - loss: 1.3178e-04 - val_loss: 0.0037\n",
      "Epoch 31/100\n",
      "12/12 [==============================] - 2s 191ms/step - loss: 1.3490e-04 - val_loss: 0.0044\n",
      "Epoch 32/100\n",
      "12/12 [==============================] - 2s 192ms/step - loss: 1.2602e-04 - val_loss: 0.0042\n",
      "Epoch 33/100\n",
      "12/12 [==============================] - 2s 192ms/step - loss: 1.3410e-04 - val_loss: 0.0041\n",
      "Epoch 34/100\n",
      "12/12 [==============================] - 2s 193ms/step - loss: 1.1931e-04 - val_loss: 0.0047\n",
      "Epoch 35/100\n",
      "12/12 [==============================] - 2s 193ms/step - loss: 1.1492e-04 - val_loss: 0.0041\n",
      "Epoch 36/100\n",
      "12/12 [==============================] - 2s 195ms/step - loss: 1.2298e-04 - val_loss: 0.0050\n",
      "Epoch 37/100\n",
      "12/12 [==============================] - 3s 243ms/step - loss: 1.1673e-04 - val_loss: 0.0041\n",
      "Epoch 38/100\n",
      "12/12 [==============================] - 3s 214ms/step - loss: 1.0835e-04 - val_loss: 0.0042\n",
      "Epoch 39/100\n",
      "12/12 [==============================] - 2s 190ms/step - loss: 1.0806e-04 - val_loss: 0.0051\n",
      "Epoch 40/100\n",
      "12/12 [==============================] - 2s 192ms/step - loss: 1.1022e-04 - val_loss: 0.0044\n",
      "Epoch 41/100\n",
      "12/12 [==============================] - 2s 197ms/step - loss: 1.0314e-04 - val_loss: 0.0043\n",
      "Epoch 42/100\n",
      "12/12 [==============================] - 2s 194ms/step - loss: 1.1124e-04 - val_loss: 0.0045\n",
      "Epoch 43/100\n",
      "12/12 [==============================] - 2s 192ms/step - loss: 1.0991e-04 - val_loss: 0.0043\n",
      "Epoch 44/100\n",
      "12/12 [==============================] - 2s 195ms/step - loss: 1.0790e-04 - val_loss: 0.0047\n",
      "Epoch 45/100\n",
      "12/12 [==============================] - 2s 194ms/step - loss: 1.0557e-04 - val_loss: 0.0047\n",
      "Epoch 46/100\n",
      "12/12 [==============================] - 2s 195ms/step - loss: 1.0930e-04 - val_loss: 0.0048\n",
      "Epoch 47/100\n",
      "12/12 [==============================] - 2s 192ms/step - loss: 9.9320e-05 - val_loss: 0.0040\n",
      "Epoch 48/100\n",
      "12/12 [==============================] - 2s 193ms/step - loss: 9.4858e-05 - val_loss: 0.0047\n",
      "Epoch 49/100\n",
      "12/12 [==============================] - 2s 190ms/step - loss: 9.9777e-05 - val_loss: 0.0044\n",
      "Epoch 50/100\n",
      "12/12 [==============================] - 2s 192ms/step - loss: 9.3107e-05 - val_loss: 0.0043\n",
      "Epoch 51/100\n",
      "12/12 [==============================] - 2s 193ms/step - loss: 9.0152e-05 - val_loss: 0.0046\n",
      "Epoch 52/100\n",
      "12/12 [==============================] - 2s 194ms/step - loss: 9.2759e-05 - val_loss: 0.0048\n",
      "Epoch 53/100\n",
      "12/12 [==============================] - 2s 194ms/step - loss: 9.3200e-05 - val_loss: 0.0036\n",
      "Epoch 54/100\n",
      "12/12 [==============================] - 2s 195ms/step - loss: 1.2192e-04 - val_loss: 0.0056\n",
      "Epoch 55/100\n",
      "12/12 [==============================] - 2s 193ms/step - loss: 1.0649e-04 - val_loss: 0.0040\n",
      "Epoch 56/100\n",
      "12/12 [==============================] - 2s 192ms/step - loss: 8.8102e-05 - val_loss: 0.0040\n",
      "Epoch 57/100\n",
      "12/12 [==============================] - 2s 192ms/step - loss: 8.3384e-05 - val_loss: 0.0042\n",
      "Epoch 58/100\n",
      "12/12 [==============================] - 2s 198ms/step - loss: 8.5584e-05 - val_loss: 0.0041\n",
      "Epoch 59/100\n",
      "12/12 [==============================] - 2s 197ms/step - loss: 8.6943e-05 - val_loss: 0.0043\n",
      "Epoch 60/100\n",
      "12/12 [==============================] - 2s 196ms/step - loss: 8.1270e-05 - val_loss: 0.0037\n",
      "Epoch 61/100\n",
      "12/12 [==============================] - 2s 204ms/step - loss: 8.2574e-05 - val_loss: 0.0042\n",
      "Epoch 62/100\n",
      "12/12 [==============================] - 3s 241ms/step - loss: 8.0757e-05 - val_loss: 0.0044\n",
      "Epoch 63/100\n",
      "12/12 [==============================] - 3s 210ms/step - loss: 7.8578e-05 - val_loss: 0.0030\n",
      "Epoch 64/100\n",
      "12/12 [==============================] - 2s 200ms/step - loss: 8.7029e-05 - val_loss: 0.0042\n",
      "Epoch 65/100\n",
      "12/12 [==============================] - 3s 208ms/step - loss: 7.3667e-05 - val_loss: 0.0042\n",
      "Epoch 66/100\n",
      "12/12 [==============================] - 2s 204ms/step - loss: 7.9541e-05 - val_loss: 0.0041\n",
      "Epoch 67/100\n",
      "12/12 [==============================] - 2s 201ms/step - loss: 7.1603e-05 - val_loss: 0.0039\n",
      "Epoch 68/100\n",
      "12/12 [==============================] - 2s 207ms/step - loss: 7.6498e-05 - val_loss: 0.0041\n",
      "Epoch 69/100\n",
      "12/12 [==============================] - 2s 196ms/step - loss: 6.9659e-05 - val_loss: 0.0044\n",
      "Epoch 70/100\n",
      "12/12 [==============================] - 2s 205ms/step - loss: 7.0068e-05 - val_loss: 0.0037\n",
      "Epoch 71/100\n",
      "12/12 [==============================] - 2s 196ms/step - loss: 6.8895e-05 - val_loss: 0.0039\n",
      "Epoch 72/100\n",
      "12/12 [==============================] - 2s 191ms/step - loss: 7.1723e-05 - val_loss: 0.0038\n",
      "Epoch 73/100\n",
      "12/12 [==============================] - 2s 196ms/step - loss: 6.5918e-05 - val_loss: 0.0040\n",
      "Epoch 74/100\n",
      "12/12 [==============================] - 2s 202ms/step - loss: 6.5951e-05 - val_loss: 0.0034\n",
      "Epoch 75/100\n",
      "12/12 [==============================] - 2s 200ms/step - loss: 6.4562e-05 - val_loss: 0.0038\n",
      "Epoch 76/100\n",
      "12/12 [==============================] - 2s 193ms/step - loss: 6.6495e-05 - val_loss: 0.0031\n",
      "Epoch 77/100\n",
      "12/12 [==============================] - 2s 194ms/step - loss: 6.5717e-05 - val_loss: 0.0039\n",
      "Epoch 78/100\n",
      "12/12 [==============================] - 2s 189ms/step - loss: 6.2026e-05 - val_loss: 0.0034\n",
      "Epoch 79/100\n",
      "12/12 [==============================] - 2s 191ms/step - loss: 7.0384e-05 - val_loss: 0.0037\n",
      "Epoch 80/100\n",
      "12/12 [==============================] - 3s 210ms/step - loss: 5.8745e-05 - val_loss: 0.0036\n",
      "Epoch 81/100\n",
      "12/12 [==============================] - 2s 191ms/step - loss: 6.3135e-05 - val_loss: 0.0033\n",
      "Epoch 82/100\n",
      "12/12 [==============================] - 2s 190ms/step - loss: 5.7688e-05 - val_loss: 0.0034\n",
      "Epoch 83/100\n",
      "12/12 [==============================] - 2s 198ms/step - loss: 5.6737e-05 - val_loss: 0.0036\n",
      "Epoch 84/100\n",
      "12/12 [==============================] - 2s 201ms/step - loss: 5.7106e-05 - val_loss: 0.0038\n",
      "Epoch 85/100\n",
      "12/12 [==============================] - 2s 205ms/step - loss: 5.7459e-05 - val_loss: 0.0035\n",
      "Epoch 86/100\n",
      "12/12 [==============================] - 3s 215ms/step - loss: 5.6578e-05 - val_loss: 0.0032\n",
      "Epoch 87/100\n",
      "12/12 [==============================] - 3s 215ms/step - loss: 5.5121e-05 - val_loss: 0.0036\n",
      "Epoch 88/100\n",
      "12/12 [==============================] - 2s 205ms/step - loss: 5.5576e-05 - val_loss: 0.0030\n",
      "Epoch 89/100\n",
      "12/12 [==============================] - 2s 194ms/step - loss: 5.2930e-05 - val_loss: 0.0039\n",
      "Epoch 90/100\n",
      "12/12 [==============================] - 2s 190ms/step - loss: 5.3535e-05 - val_loss: 0.0031\n",
      "Epoch 91/100\n",
      "12/12 [==============================] - 2s 192ms/step - loss: 5.1662e-05 - val_loss: 0.0034\n",
      "Epoch 92/100\n",
      "12/12 [==============================] - 2s 191ms/step - loss: 5.1368e-05 - val_loss: 0.0030\n",
      "Epoch 93/100\n",
      "12/12 [==============================] - 3s 209ms/step - loss: 5.0828e-05 - val_loss: 0.0033\n",
      "Epoch 94/100\n",
      "12/12 [==============================] - 2s 202ms/step - loss: 5.1796e-05 - val_loss: 0.0032\n",
      "Epoch 95/100\n",
      "12/12 [==============================] - 2s 199ms/step - loss: 5.2015e-05 - val_loss: 0.0027\n",
      "Epoch 96/100\n",
      "12/12 [==============================] - 2s 196ms/step - loss: 5.4108e-05 - val_loss: 0.0043\n",
      "Epoch 97/100\n",
      "12/12 [==============================] - 2s 194ms/step - loss: 7.0626e-05 - val_loss: 0.0025\n",
      "Epoch 98/100\n",
      "12/12 [==============================] - 3s 210ms/step - loss: 6.4436e-05 - val_loss: 0.0036\n",
      "Epoch 99/100\n",
      "12/12 [==============================] - 2s 206ms/step - loss: 5.2842e-05 - val_loss: 0.0029\n",
      "Epoch 100/100\n",
      "12/12 [==============================] - 2s 197ms/step - loss: 4.7239e-05 - val_loss: 0.0031\n"
     ]
    },
    {
     "data": {
      "text/plain": [
       "<tensorflow.python.keras.callbacks.History at 0x7fcbbc6668d0>"
      ]
     },
     "execution_count": 233,
     "metadata": {},
     "output_type": "execute_result"
    }
   ],
   "source": [
    "model.fit(X_train, y_train, validation_data=(X_test, y_test), \n",
    "          epochs=100, batch_size=64, verbose=1)"
   ]
  },
  {
   "cell_type": "code",
   "execution_count": 234,
   "metadata": {},
   "outputs": [],
   "source": [
    "train_pred = model.predict(X_train)\n",
    "test_pred = model.predict(X_test)"
   ]
  },
  {
   "cell_type": "code",
   "execution_count": 235,
   "metadata": {},
   "outputs": [],
   "source": [
    "train_pred = scaler.inverse_transform(train_pred)\n",
    "test_pred = scaler.inverse_transform(test_pred)"
   ]
  },
  {
   "cell_type": "code",
   "execution_count": 236,
   "metadata": {},
   "outputs": [
    {
     "data": {
      "text/plain": [
       "280.14552829587876"
      ]
     },
     "execution_count": 236,
     "metadata": {},
     "output_type": "execute_result"
    }
   ],
   "source": [
    "math.sqrt(mean_squared_error(y_train, train_pred))"
   ]
  },
  {
   "cell_type": "code",
   "execution_count": 237,
   "metadata": {},
   "outputs": [
    {
     "data": {
      "text/plain": [
       "495.09994690095203"
      ]
     },
     "execution_count": 237,
     "metadata": {},
     "output_type": "execute_result"
    }
   ],
   "source": [
    "math.sqrt(mean_squared_error(y_test, test_pred))"
   ]
  },
  {
   "cell_type": "code",
   "execution_count": 238,
   "metadata": {},
   "outputs": [
    {
     "data": {
      "image/png": "[encoded data removed]",
      "text/plain": [
       "<Figure size 432x288 with 1 Axes>"
      ]
     },
     "metadata": {
      "needs_background": "light"
     },
     "output_type": "display_data"
    }
   ],
   "source": [
    "look_back = 100\n",
    "train_pred_plot = np.empty_like(df1)\n",
    "train_pred_plot[:, :] = np.nan\n",
    "train_pred_plot[look_back:len(train_pred)+look_back, :] = train_pred\n",
    "test_pred_plot = np.empty_like(df1)\n",
    "test_pred_plot[:,:] = np.nan\n",
    "test_pred_plot[len(train_pred)+(look_back*2)+1:len(df1)-1, :] = test_pred\n",
    "plt.plot(scaler.inverse_transform(df1))\n",
    "plt.plot(train_pred_plot)\n",
    "plt.plot(test_pred_plot)\n",
    "plt.show()"
   ]
  },
  {
   "cell_type": "code",
   "execution_count": 239,
   "metadata": {},
   "outputs": [
    {
     "data": {
      "text/html": [
       "<div>\n",
       "<style scoped>\n",
       "    .dataframe tbody tr th:only-of-type {\n",
       "        vertical-align: middle;\n",
       "    }\n",
       "\n",
       "    .dataframe tbody tr th {\n",
       "        vertical-align: top;\n",
       "    }\n",
       "\n",
       "    .dataframe thead th {\n",
       "        text-align: right;\n",
       "    }\n",
       "</style>\n",
       "<table border=\"1\" class=\"dataframe\">\n",
       "  <thead>\n",
       "    <tr style=\"text-align: right;\">\n",
       "      <th></th>\n",
       "      <th>0</th>\n",
       "    </tr>\n",
       "  </thead>\n",
       "  <tbody>\n",
       "    <tr>\n",
       "      <th>436</th>\n",
       "      <td>0.965094</td>\n",
       "    </tr>\n",
       "    <tr>\n",
       "      <th>437</th>\n",
       "      <td>0.979171</td>\n",
       "    </tr>\n",
       "    <tr>\n",
       "      <th>438</th>\n",
       "      <td>1.000000</td>\n",
       "    </tr>\n",
       "    <tr>\n",
       "      <th>439</th>\n",
       "      <td>0.967647</td>\n",
       "    </tr>\n",
       "    <tr>\n",
       "      <th>440</th>\n",
       "      <td>0.967790</td>\n",
       "    </tr>\n",
       "  </tbody>\n",
       "</table>\n",
       "</div>"
      ],
      "text/plain": [
       "            0\n",
       "436  0.965094\n",
       "437  0.979171\n",
       "438  1.000000\n",
       "439  0.967647\n",
       "440  0.967790"
      ]
     },
     "execution_count": 239,
     "metadata": {},
     "output_type": "execute_result"
    }
   ],
   "source": [
    "pd.DataFrame(test_data).tail()"
   ]
  },
  {
   "cell_type": "code",
   "execution_count": 240,
   "metadata": {},
   "outputs": [
    {
     "data": {
      "text/plain": [
       "(1, 101)"
      ]
     },
     "execution_count": 240,
     "metadata": {},
     "output_type": "execute_result"
    }
   ],
   "source": [
    "X_in = test_data[340:].reshape(1, -1)\n",
    "X_in.shape"
   ]
  },
  {
   "cell_type": "code",
   "execution_count": 241,
   "metadata": {},
   "outputs": [],
   "source": [
    "temp_in = list(X_in)\n",
    "temp_in = temp_in[0].tolist()"
   ]
  },
  {
   "cell_type": "code",
   "execution_count": 242,
   "metadata": {},
   "outputs": [
    {
     "data": {
      "text/html": [
       "<div>\n",
       "<style scoped>\n",
       "    .dataframe tbody tr th:only-of-type {\n",
       "        vertical-align: middle;\n",
       "    }\n",
       "\n",
       "    .dataframe tbody tr th {\n",
       "        vertical-align: top;\n",
       "    }\n",
       "\n",
       "    .dataframe thead th {\n",
       "        text-align: right;\n",
       "    }\n",
       "</style>\n",
       "<table border=\"1\" class=\"dataframe\">\n",
       "  <thead>\n",
       "    <tr style=\"text-align: right;\">\n",
       "      <th></th>\n",
       "      <th>0</th>\n",
       "    </tr>\n",
       "  </thead>\n",
       "  <tbody>\n",
       "    <tr>\n",
       "      <th>0</th>\n",
       "      <td>0.467961</td>\n",
       "    </tr>\n",
       "    <tr>\n",
       "      <th>1</th>\n",
       "      <td>0.452907</td>\n",
       "    </tr>\n",
       "    <tr>\n",
       "      <th>2</th>\n",
       "      <td>0.381741</td>\n",
       "    </tr>\n",
       "    <tr>\n",
       "      <th>3</th>\n",
       "      <td>0.373889</td>\n",
       "    </tr>\n",
       "    <tr>\n",
       "      <th>4</th>\n",
       "      <td>0.427821</td>\n",
       "    </tr>\n",
       "  </tbody>\n",
       "</table>\n",
       "</div>"
      ],
      "text/plain": [
       "          0\n",
       "0  0.467961\n",
       "1  0.452907\n",
       "2  0.381741\n",
       "3  0.373889\n",
       "4  0.427821"
      ]
     },
     "execution_count": 242,
     "metadata": {},
     "output_type": "execute_result"
    }
   ],
   "source": [
    "pd.DataFrame(temp_in).head()"
   ]
  },
  {
   "cell_type": "code",
   "execution_count": 243,
   "metadata": {},
   "outputs": [],
   "source": [
    "list_output = []\n",
    "n_steps = 100\n",
    "i = 0\n",
    "while(i<30):\n",
    "  if (len(temp_in) > 100):\n",
    "    X_in = np.array(temp_in[1:])\n",
    "    #print(\"{0} day input {1}\".format(i, X_in))\n",
    "    X_in = X_in.reshape(1, -1)\n",
    "    X_in = X_in.reshape((1, n_steps, 1))\n",
    "    y_hat = model.predict(X_in, verbose=0)\n",
    "    #print(\"{0} day output {1}\".format(i, y_hat))\n",
    "    temp_in.extend(y_hat[0].tolist())\n",
    "    temp_in = temp_in[1:]\n",
    "    list_output.extend(y_hat.tolist())\n",
    "    i += 1\n",
    "  else:\n",
    "    X_in = X_in.reshape((1, n_steps, 1))\n",
    "    y_hat = model.predict(X_in, verbose=0)\n",
    "    #print(y_hat)\n",
    "    temp_in.extend(y_hat[0].tolist())\n",
    "    #print(len(temp_in))\n",
    "    list_output.extend(y_hat.tolist())\n",
    "    i +=1\n",
    "\n",
    "  pd.DataFrame(list_output).head()"
   ]
  },
  {
   "cell_type": "code",
   "execution_count": 244,
   "metadata": {},
   "outputs": [],
   "source": [
    "day_new = np.arange(1, 100)\n",
    "day_pred = np.arange(101, 131)"
   ]
  },
  {
   "cell_type": "code",
   "execution_count": 245,
   "metadata": {},
   "outputs": [
    {
     "data": {
      "text/plain": [
       "1258"
      ]
     },
     "execution_count": 245,
     "metadata": {},
     "output_type": "execute_result"
    }
   ],
   "source": [
    "len(df1)"
   ]
  },
  {
   "cell_type": "code",
   "execution_count": 246,
   "metadata": {},
   "outputs": [],
   "source": [
    "df3 = df1.tolist()\n",
    "df3.extend(list_output)"
   ]
  },
  {
   "cell_type": "code",
   "execution_count": 247,
   "metadata": {},
   "outputs": [
    {
     "data": {
      "text/plain": [
       "[<matplotlib.lines.Line2D at 0x7fcbc631c190>]"
      ]
     },
     "execution_count": 247,
     "metadata": {},
     "output_type": "execute_result"
    },
    {
     "data": {
      "image/png": "[encoded data removed]",
      "text/plain": [
       "<Figure size 432x288 with 1 Axes>"
      ]
     },
     "metadata": {
      "needs_background": "light"
     },
     "output_type": "display_data"
    }
   ],
   "source": [
    "plt.plot(day_new, scaler.inverse_transform(df1[1159:]))\n",
    "plt.plot(day_pred, scaler.inverse_transform(list_output))"
   ]
  },
  {
   "cell_type": "code",
   "execution_count": 248,
   "metadata": {},
   "outputs": [
    {
     "name": "stdout",
     "output_type": "stream",
     "text": [
      "Runtime: 278.2465491294861\n"
     ]
    }
   ],
   "source": [
    "program_end = time.time()\n",
    "print(f\"Runtime: {program_end - program_start}\")"
   ]
  }
 ],
 "metadata": {
  "kernelspec": {
   "display_name": "Python 3",
   "language": "python",
   "name": "python3"
  },
  "language_info": {
   "codemirror_mode": {
    "name": "ipython",
    "version": 3
   },
   "file_extension": ".py",
   "mimetype": "text/x-python",
   "name": "python",
   "nbconvert_exporter": "python",
   "pygments_lexer": "ipython3",
   "version": "3.7.6"
  }
 },
 "nbformat": 4,
 "nbformat_minor": 4
}
